{
 "cells": [
  {
   "cell_type": "code",
   "execution_count": 1,
   "metadata": {
    "vscode": {
     "languageId": "r"
    }
   },
   "outputs": [],
   "source": [
    "packgs <- c('TwoSampleMR', 'MVMR', 'mr.raps', 'data.table', 'plyr', 'dplyr', 'tidyr', 'ggplot2')"
   ]
  },
  {
   "cell_type": "code",
   "execution_count": 3,
   "metadata": {
    "vscode": {
     "languageId": "r"
    }
   },
   "outputs": [
    {
     "data": {
      "text/html": [
       "'TwoSampleMR version 0.6.3, MVMR version 0.4, mr.raps version 0.4.1, data.table version 1.15.4, plyr version 1.8.9, dplyr version 1.1.4, tidyr version 1.3.1, ggplot2 version 3.5.1'"
      ],
      "text/latex": [
       "'TwoSampleMR version 0.6.3, MVMR version 0.4, mr.raps version 0.4.1, data.table version 1.15.4, plyr version 1.8.9, dplyr version 1.1.4, tidyr version 1.3.1, ggplot2 version 3.5.1'"
      ],
      "text/markdown": [
       "'TwoSampleMR version 0.6.3, MVMR version 0.4, mr.raps version 0.4.1, data.table version 1.15.4, plyr version 1.8.9, dplyr version 1.1.4, tidyr version 1.3.1, ggplot2 version 3.5.1'"
      ],
      "text/plain": [
       "[1] \"TwoSampleMR version 0.6.3, MVMR version 0.4, mr.raps version 0.4.1, data.table version 1.15.4, plyr version 1.8.9, dplyr version 1.1.4, tidyr version 1.3.1, ggplot2 version 3.5.1\""
      ]
     },
     "metadata": {},
     "output_type": "display_data"
    }
   ],
   "source": [
    "paste(lapply(packgs, function(p) paste(p, \"version\", packageVersion(p))), collapse = ', ')"
   ]
  }
 ],
 "metadata": {
  "kernelspec": {
   "display_name": "R",
   "language": "R",
   "name": "ir"
  },
  "language_info": {
   "codemirror_mode": "r",
   "file_extension": ".r",
   "mimetype": "text/x-r-source",
   "name": "R",
   "pygments_lexer": "r",
   "version": "4.3.3"
  }
 },
 "nbformat": 4,
 "nbformat_minor": 2
}
