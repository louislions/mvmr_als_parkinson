{
 "cells": [
  {
   "cell_type": "markdown",
   "id": "b7f83e90",
   "metadata": {},
   "source": [
    "# Libs import"
   ]
  },
  {
   "cell_type": "code",
   "execution_count": 7,
   "id": "ca494328-cd66-4c04-a077-920f1d2ef210",
   "metadata": {
    "vscode": {
     "languageId": "r"
    }
   },
   "outputs": [],
   "source": [
    "# load requires packages\n",
    "pacman::p_load(MendelianRandomization, TwoSampleMR, MVMR,\n",
    "               ieugwasr, gwasglue,\n",
    "               data.table, plyr, dplyr, tidyr, meta, SciViews, qqman, comprehenr, cli, knitr,\n",
    "               ggplot2, cowplot, plotly, ggrepel, egg, grid, gridExtra,\n",
    "               optparse, metaCCA)\n",
    "options(ieugwasr_api = 'gwas-api.mrcieu.ac.uk/')"
   ]
  },
  {
   "cell_type": "markdown",
   "id": "e4379e3d",
   "metadata": {},
   "source": [
    "# Global Variables"
   ]
  },
  {
   "cell_type": "code",
   "execution_count": 10,
   "id": "81d13b38",
   "metadata": {
    "vscode": {
     "languageId": "r"
    }
   },
   "outputs": [],
   "source": [
    "global_seed <- 314159265\n",
    "output_dir <- \"output/\" # path where the results are saved\n",
    "data_dir <- \"data\" # path to where you have the datasets saved"
   ]
  },
  {
   "cell_type": "code",
   "execution_count": 11,
   "id": "7ad2fdad",
   "metadata": {
    "vscode": {
     "languageId": "r"
    }
   },
   "outputs": [],
   "source": [
    "snpList_t2d <- read.csv(paste0(data_dir,\"/paper-results/snpList_t2d.csv\"))[,1]\n",
    "snplist_bf <- read.csv(paste0(data_dir,\"/paper-results/snpList_bf.csv\"), header = FALSE)[-1,1]\n",
    "snplist_bmi <- read.csv(paste0(data_dir,\"/paper-results/snpList_bmi.csv\"), header = FALSE)[-1,1]\n",
    "\n",
    "ld_ref_file <- paste0(data_dir, \"/LD_ref/EUR\")\n",
    "ld_mat_uk10k_file <- paste0(data_dir, \"/LD_ref/UK10K_COHORT.20160215.sites.tab.gz\")\n",
    "plink_path <- genetics.binaRies::get_plink_binary()\n",
    "\n",
    "full_method_list <- c(\"mr_egger_regression\", \"mr_weighted_median\", \"mr_ivw\", \"mr_ivw_fe\", \"mr_ivw_radial\", \"mr_raps\")"
   ]
  },
  {
   "cell_type": "code",
   "execution_count": 12,
   "id": "a9edce0f",
   "metadata": {
    "vscode": {
     "languageId": "r"
    }
   },
   "outputs": [],
   "source": [
    "id_als_2018 <- \"ebi-a-GCST005647\"\n",
    "id_als_2021 <- \"ebi-a-GCST90027164\"\n",
    "id_park_2019 <- \"ieu-b-7\"\n",
    "id_chd <- \"ieu-a-7\"\n",
    "\n",
    "id_t2d_2018 <- \"ebi-a-GCST006867\"\n",
    "id_t2d_2021 <- \"ebi-a-GCST90018926\"\n",
    "id_tc_2013 <- \"ebi-a-GCST002221\"\n",
    "id_tc_2021 <- \"ebi-a-GCST90018974\"\n",
    "id_bmi_2018a <- \"ebi-a-GCST90029007\"\n",
    "id_bmi_2018b <- \"ieu-b-40\"\n",
    "\n",
    "id_hdlc <- \"ieu-a-299\"\n",
    "id_ldlc <- \"ieu-a-300\"\n",
    "id_trig <- \"ieu-a-302\""
   ]
  },
  {
   "cell_type": "code",
   "execution_count": 13,
   "id": "d7264b64",
   "metadata": {
    "vscode": {
     "languageId": "r"
    }
   },
   "outputs": [],
   "source": [
    "# from https://www.ebi.ac.uk/gwas/studies/GCST005647\n",
    "als_file_2018 <- paste0(data_dir, \"/gwas/ALS/29566793-GCST005647-EFO_0000253.h.tsv.gz\")\n",
    "# from https://www.ebi.ac.uk/gwas/studies/GCST90027164 (meilleur)\n",
    "als_file_2021 <- paste0(data_dir, \"/gwas/ALS/GCST90027164_buildGRCh37.tsv.gz\")\n",
    "# from https://www.ebi.ac.uk/gwas/studies/GCST009325\n",
    "park_file_2019 <- paste0(data_dir, \"/gwas/Park/GCST009325.h.tsv.gz\")\n",
    "# from https://www.ebi.ac.uk/gwas/studies/GCST90275127 (meilleur)\n",
    "park_file_2023 <- paste0(data_dir, \"/gwas/Park/GCST90275127.h.tsv.gz\")\n",
    "\n",
    "# from https://www.ebi.ac.uk/gwas/studies/GCST003116\n",
    "chd_file <- paste0(data_dir, \"/gwas/CHD/26343387-GCST003116-EFO_0000378.h.tsv.gz\")\n",
    "\n",
    "# from https://www.ebi.ac.uk/gwas/studies/GCST006867 (meilleur)\n",
    "t2d_file_2018a <- paste0(data_dir, \"/gwas/T2D/Xue_et_al_T2D_META_Nat_Commun_2018.gz\")\n",
    "# from http://diagram-consortium.org/downloads.html\n",
    "t2d_file_2018b <- paste0(data_dir, \"/gwas/T2D/Mahajan.NatGenet2018b.T2D.European.txt.gz\")\n",
    "# from https://www-ncbi-nlm-nih-gov.insb.bib.cnrs.fr/projects/gap/cgi-bin/analysis.cgi?study_id=phs001672.v11.p1&pha=4945\n",
    "t2d_file_2020 <- paste0(data_dir, \"/gwas/T2D/phs001672.pha004945.csv.gz\")\n",
    "# from https://t2d.hugeamp.org/dinspector.html?dataset=Suzuki2024_T2D_EU\n",
    "t2d_file_2024 <- paste0(data_dir, \"/gwas/T2D/EUR_Metal_LDSC-CORR_Neff.v2.txt.gz\")\n",
    "\n",
    "#from https://www.ebi.ac.uk/gwas/publications/24097068 (meilleur)\n",
    "tc_file_2013 <- paste0(data_dir, \"/gwas/TC/24097068-GCST002221-EFO_0004574.h.tsv.gz\")\n",
    "ldlc_file_2013 <- paste0(data_dir, \"/gwas/LDLC/24097068-GCST002222-EFO_0004611.h.tsv.gz\")\n",
    "# from https://www.ebi.ac.uk/gwas/studies/GCST90239676 \n",
    "tc_file_2021 <- paste0(data_dir, \"/gwas/TC/GCST90239676.h.tsv.gz\")\n",
    "# from https://www.ebi.ac.uk/gwas/studies/GCST90239658\n",
    "ldlc_file_2021 <- paste0(data_dir, \"/gwas/LDLC/GCST90239658_buildGRCh37.tsv.gz\")\n",
    "\n",
    "# from https://www.ebi.ac.uk/gwas/studies/GCST002783\n",
    "bmi_file_2015 <- paste0(data_dir, \"/gwas/BMI/25673413-GCST002783-EFO_0004340.h.tsv.gz\")\n",
    "# from https://zenodo.org/records/1251813\n",
    "bmi_file_2018a <- paste0(data_dir, \"/gwas/BMI/bmi.giant-ukbb.meta-analysis.combined.23May2018.txt.gz\")\n",
    "# from https://www.ebi.ac.uk/gwas/studies/GCST006900 (meilleur)\n",
    "bmi_file_2018b <- paste0(data_dir, \"/gwas/BMI/Meta-analysis_Locke_et_al+UKBiobank_2018_UPDATED.txt.gz\")\n",
    "\n",
    "# from https://www.ebi.ac.uk/gwas/studies/GCST003435\n",
    "bf_file_2016 <- paste0(data_dir, \"/gwas/BF%/26833246-GCST003435-EFO_0007800.h.tsv.gz\")\n",
    "\n",
    "# from https://www.ebi.ac.uk/gwas/studies/GCST90025952\n",
    "alpb_file_2021 <- paste0(data_dir, \"/gwas/ALPB/34226706-GCST90025952-EFO_0004615.h.tsv.gz\")\n",
    "\n",
    "# from https://www.ebi.ac.uk/gwas/studies/GCST90041837\n",
    "hc_file <- paste0(data_dir, \"/gwas/HC/29892013-GCST90029030-EFO_0007822.h.tsv.gz\")\n",
    "\n",
    "# from https://www.thessgac.org/#!data/kuzq8\n",
    "ea_file <- paste0(data_dir, \"/gwas/EA/GWAS_EA_excl23andMe.txt.gz\")\n",
    "\n",
    "# from TwoSampleMR api\n",
    "hdlc_file_api <- paste0(data_dir, \"/gwas/HDLC/24097068-GCST002223-EFO_0004612.h.tsv.gz\")\n",
    "ldlc_file_api <- ldlc_file_2013\n",
    "trig_file_api <- paste0(data_dir, \"/gwas/TRIG/24097068-GCST002216-EFO_0004530.h.tsv.gz\")"
   ]
  },
  {
   "cell_type": "code",
   "execution_count": 14,
   "id": "d8e686b0",
   "metadata": {
    "vscode": {
     "languageId": "r"
    }
   },
   "outputs": [],
   "source": [
    "##\n",
    "std_useful_cols <- c(\"chromosome\", \"base_pair_location\", \"effect_allele\", \"other_allele\", \"effect_allele_frequency\", \"beta\", \"standard_error\", \"p_value\", \"id\", \"Phenotype\")\n",
    "hm_useful_cols <- c(\"hm_rsid\", \"hm_chrom\", \"hm_pos\", \"hm_effect_allele\", \"hm_other_allele\", \"hm_effect_allele_frequency\", \"hm_beta\", \"standard_error\", \"p_value\", \"id\", \"Phenotype\")\n",
    "##\n",
    "\n",
    "als_useful_cols_2018 <- c(\"hm_rsid\", std_useful_cols)\n",
    "als_useful_cols_2021 <- c(\"rsid\", std_useful_cols)\n",
    "\n",
    "park_useful_cols_2019 <- c(\"rsid\", std_useful_cols)\n",
    "park_useful_cols_2023 <- c(\"rsid\", std_useful_cols)\n",
    "\n",
    "chd_useful_cols <- hm_useful_cols\n",
    "\n",
    "t2d_useful_cols_2018a <- c(\"SNP\", \"CHR\", \"BP\", \"A1\", \"A2\", \"frq_A1\", \"b\", \"se\", \"P\", \"id\", \"Phenotype\", \"N\")\n",
    "t2d_useful_cols_2018b <- c(\"SNP\", \"Chr\", \"Pos\", \"EA\", \"NEA\", \"EAF\", \"Beta\", \"SE\", \"Pvalue\", \"id\", \"Phenotype\")\n",
    "t2d_useful_cols_2020 <- c(\"SNP.ID\", \"Chr.ID\", \"Chr.Position\", \"Allele1\", \"Allele2\", \"effect_allele_frequency\", \"beta\", \"SE\", \"P.value\", \"id\", \"Phenotype\", \"Sample.size\")\n",
    "\n",
    "tc_useful_cols_2013 <- hm_useful_cols\n",
    "ldlc_useful_cols_2013 <- hm_useful_cols\n",
    "tc_useful_cols_2021 <- c(\"variant_id\",  std_useful_cols, \"n\")\n",
    "ldlc_useful_cols_2021 <- c(\"variant_id\", std_useful_cols)\n",
    "\n",
    "bmi_useful_cols_sumstat <- hm_useful_cols\n",
    "#bmi_useful_cols_2018a <- \n",
    "bmi_useful_cols_2018b <- c(\"SNP\", \"CHR\", \"POS\", \"Tested_Allele\", \"Other_Allele\", \"Freq_Tested_Allele_in_HRS\", \"BETA\", \"SE\", \"P\", \"id\", \"Phenotype\", \"N\")\n",
    "\n",
    "bf_useful_cols_sumstat <- hm_useful_cols\n",
    "\n",
    "alpb_useful_cols_2021 <- hm_useful_cols\n",
    "\n",
    "hc_useful_cols <- hm_useful_cols\n",
    "\n",
    "ea_useful_cols <- c(\"MarkerName\", \"CHR\", \"POS\", \"A1\", \"A2\", \"EAF\", \"Beta\", \"SE\", \"Pval\", \"id\", \"Phenotype\")"
   ]
  },
  {
   "cell_type": "markdown",
   "id": "7a7f1c99",
   "metadata": {},
   "source": [
    "# Pre-Processing data (add id and trait name)"
   ]
  },
  {
   "cell_type": "code",
   "execution_count": 20,
   "id": "831dd90a",
   "metadata": {
    "vscode": {
     "languageId": "r"
    }
   },
   "outputs": [],
   "source": [
    "temp_file <- t2d_file_2020\n",
    "temp_id <- \"32541925-GCST010555\"\n",
    "temp_pheno <- \"Type 2 diabetes\""
   ]
  },
  {
   "cell_type": "code",
   "execution_count": 21,
   "id": "9b2d06ad",
   "metadata": {
    "vscode": {
     "languageId": "r"
    }
   },
   "outputs": [],
   "source": [
    "temp_df <- fread(temp_file)"
   ]
  },
  {
   "cell_type": "code",
   "execution_count": 23,
   "id": "ba6faaf3",
   "metadata": {
    "vscode": {
     "languageId": "r"
    }
   },
   "outputs": [
    {
     "name": "stdout",
     "output_type": "stream",
     "text": [
      "Rows: 655,557\n",
      "Columns: 14\n",
      "$ `SNP ID`                \u001b[3m\u001b[90m<chr>\u001b[39m\u001b[23m \"rs553642122\", \"rs7531543\", \"rs59192718\", \"rs7…\n",
      "$ `P-value`               \u001b[3m\u001b[90m<dbl>\u001b[39m\u001b[23m 0.009862, 0.009649, 0.002186, 0.001852, 0.0061…\n",
      "$ `Chr ID`                \u001b[3m\u001b[90m<int>\u001b[39m\u001b[23m 1, 1, 1, 1, 1, 1, 1, 1, 1, 1, 1, 1, 1, 1, 1, 1…\n",
      "$ `Chr Position`          \u001b[3m\u001b[90m<int>\u001b[39m\u001b[23m 790020, 917062, 922272, 920568, 917749, 920661…\n",
      "$ Allele1                 \u001b[3m\u001b[90m<chr>\u001b[39m\u001b[23m \"T\", \"C\", \"G\", \"A\", \"A\", \"T\", \"C\", \"G\", \"T\", \"…\n",
      "$ Allele2                 \u001b[3m\u001b[90m<chr>\u001b[39m\u001b[23m \"C\", \"A\", \"C\", \"G\", \"G\", \"C\", \"T\", \"C\", \"C\", \"…\n",
      "$ `Minor allele`          \u001b[3m\u001b[90m<chr>\u001b[39m\u001b[23m \"T\", \"C\", \"G\", \"A\", \"A\", \"T\", \"C\", \"G\", \"T\", \"…\n",
      "$ beta                    \u001b[3m\u001b[90m<dbl>\u001b[39m\u001b[23m 0.1600, 0.1489, 0.2168, 0.2175, 0.1578, 0.1932…\n",
      "$ SE                      \u001b[3m\u001b[90m<dbl>\u001b[39m\u001b[23m 0.0620, 0.0575, 0.0708, 0.0699, 0.0576, 0.0687…\n",
      "$ `Coded Allele`          \u001b[3m\u001b[90m<chr>\u001b[39m\u001b[23m \"T\", \"C\", \"G\", \"A\", \"A\", \"T\", \"C\", \"G\", \"T\", \"…\n",
      "$ `Sample size`           \u001b[3m\u001b[90m<int>\u001b[39m\u001b[23m 826006, 1023280, 1023280, 1023280, 1023280, 10…\n",
      "$ id                      \u001b[3m\u001b[90m<chr>\u001b[39m\u001b[23m \"32541925-GCST010555\", \"32541925-GCST010555\", …\n",
      "$ Phenotype               \u001b[3m\u001b[90m<chr>\u001b[39m\u001b[23m \"Type 2 diabetes || id:32541925-GCST010555\", \"…\n",
      "$ effect_allele_frequency \u001b[3m\u001b[90m<lgl>\u001b[39m\u001b[23m NA, NA, NA, NA, NA, NA, NA, NA, NA, NA, NA, NA…\n"
     ]
    }
   ],
   "source": [
    "glimpse(temp_df)"
   ]
  },
  {
   "cell_type": "code",
   "execution_count": 24,
   "id": "4ea40894",
   "metadata": {
    "vscode": {
     "languageId": "r"
    }
   },
   "outputs": [
    {
     "name": "stdout",
     "output_type": "stream",
     "text": [
      "\"SNP.ID\", \"P.value\", \"Chr.ID\", \"Chr.Position\", \"Allele1\", \"Allele2\", \"Minor.allele\", \"beta\", \"SE\", \"Coded.Allele\", \"Sample.size\", \"id\", \"Phenotype\", \"effect_allele_frequency\""
     ]
    }
   ],
   "source": [
    "print_col_names(temp_df)"
   ]
  },
  {
   "cell_type": "code",
   "execution_count": 19,
   "id": "f0a14fa6",
   "metadata": {
    "vscode": {
     "languageId": "r"
    }
   },
   "outputs": [],
   "source": [
    "add_pheno_id_in_file(temp_file, temp_df, temp_id, temp_pheno)"
   ]
  },
  {
   "cell_type": "markdown",
   "id": "d1d08c0a",
   "metadata": {},
   "source": [
    "# Load scripts"
   ]
  },
  {
   "cell_type": "code",
   "execution_count": 102,
   "id": "7f0cd388",
   "metadata": {
    "vscode": {
     "languageId": "r"
    }
   },
   "outputs": [],
   "source": [
    "source(\"scripts/00_utilitary.R\")\n",
    "source(\"scripts/01_data_import.R\")\n",
    "source(\"scripts/02_MR_methods.R\")\n",
    "source(\"scripts/03_plotting.R\")\n",
    "source(\"scripts/04_run_MR.R\")\n",
    "# from https://github.com/MRCIEU/PhenoSpD\n",
    "# source(\"scripts/SpD.r\")"
   ]
  },
  {
   "cell_type": "markdown",
   "id": "e0a2f01b",
   "metadata": {},
   "source": [
    "# MR ALS"
   ]
  },
  {
   "cell_type": "markdown",
   "id": "a1ed2137",
   "metadata": {},
   "source": [
    "## Type 2 diabetes"
   ]
  },
  {
   "cell_type": "code",
   "execution_count": null,
   "id": "3523c0f4",
   "metadata": {
    "vscode": {
     "languageId": "r"
    }
   },
   "outputs": [],
   "source": [
    "res_list_t2d <- global_uv(api_use_ex = FALSE, api_use_out = FALSE, \n",
    "                            exposure_id = t2d_file_2018a, outcome_id = als_file_2018, \n",
    "                            exposure_useful_cols = t2d_useful_cols_2018a, \n",
    "                            outcome_useful_cols = als_useful_cols_2018,\n",
    "                            snplist = snpList_t2d, paper_results = \"t2d_results.csv\")"
   ]
  },
  {
   "cell_type": "markdown",
   "id": "366a294e",
   "metadata": {},
   "source": [
    "## Total Cholesterol"
   ]
  },
  {
   "cell_type": "code",
   "execution_count": null,
   "id": "509906c2",
   "metadata": {
    "vscode": {
     "languageId": "r"
    }
   },
   "outputs": [],
   "source": [
    "res_tc_2021 <- global_uv(api_use_ex = FALSE, api_use_out = FALSE, \n",
    "                            exposure_id = tc_file_2013, outcome_id = als_file_2021, \n",
    "                            exposure_useful_cols = tc_useful_cols_2013, \n",
    "                            outcome_useful_cols = als_useful_cols_2021,\n",
    "                            paper_results = \"tc_results.csv\", method_list = full_method_list)"
   ]
  },
  {
   "cell_type": "markdown",
   "id": "230f3219",
   "metadata": {},
   "source": [
    "## BodyFat%"
   ]
  },
  {
   "cell_type": "code",
   "execution_count": null,
   "id": "7a23819a",
   "metadata": {
    "vscode": {
     "languageId": "r"
    }
   },
   "outputs": [],
   "source": [
    "res_bf <- global_uv(api_use_ex = FALSE, api_use_out = FALSE,\n",
    "                    exposure_id = bf_file_2016, outcome_id = als_file_2018, \n",
    "                    exposure_useful_cols = bf_useful_cols_sumstat, outcome_useful_cols = als_useful_cols_2018, \n",
    "                    snplist = snplist_bf, paper_results = \"bf_results.csv\")"
   ]
  },
  {
   "cell_type": "markdown",
   "id": "0b4fc40d",
   "metadata": {},
   "source": [
    "# MR Parkinson"
   ]
  },
  {
   "cell_type": "markdown",
   "id": "f51c39d1",
   "metadata": {},
   "source": [
    "## BMI"
   ]
  },
  {
   "cell_type": "code",
   "execution_count": null,
   "id": "69114b67",
   "metadata": {
    "vscode": {
     "languageId": "r"
    }
   },
   "outputs": [],
   "source": [
    "res_bmi_park <- global_uv(api_use_ex = FALSE, api_use_out = FALSE, \n",
    "                          exposure_id = bmi_file_2018b, outcome_id = park_file_2019, \n",
    "                          exposure_useful_cols = bmi_useful_cols_2018b, \n",
    "                          outcome_useful_cols = park_useful_cols_2019)"
   ]
  },
  {
   "cell_type": "markdown",
   "id": "f49e2d38",
   "metadata": {},
   "source": [
    "## T2D"
   ]
  },
  {
   "cell_type": "code",
   "execution_count": null,
   "id": "16422f73",
   "metadata": {
    "vscode": {
     "languageId": "r"
    }
   },
   "outputs": [],
   "source": [
    "res_t2d_park <- global_uv(api_use_ex = FALSE, api_use_out = FALSE, \n",
    "                          exposure_id = t2d_file_2018a, outcome_id = park_file_2019, \n",
    "                          exposure_useful_cols = t2d_useful_cols_2018a, \n",
    "                          outcome_useful_cols = park_useful_cols_2019)"
   ]
  },
  {
   "cell_type": "markdown",
   "id": "3cb21d09",
   "metadata": {},
   "source": [
    "## TC"
   ]
  },
  {
   "cell_type": "code",
   "execution_count": null,
   "id": "ee06df23",
   "metadata": {
    "vscode": {
     "languageId": "r"
    }
   },
   "outputs": [],
   "source": [
    "res_tc_park <- global_uv(api_use_ex = FALSE, api_use_out = FALSE, \n",
    "                          exposure_id = tc_file_2021, outcome_id = park_file_2019, \n",
    "                          exposure_useful_cols = tc_useful_cols_2021, \n",
    "                          outcome_useful_cols = park_useful_cols_2019)"
   ]
  },
  {
   "cell_type": "markdown",
   "id": "d72cba95",
   "metadata": {},
   "source": [
    "# MultiVariate MR"
   ]
  },
  {
   "cell_type": "code",
   "execution_count": null,
   "id": "618a3da6",
   "metadata": {
    "vscode": {
     "languageId": "r"
    }
   },
   "outputs": [],
   "source": [
    "# Diabete + Chol on ALS (Local)\n",
    "res_t2d_tc <- global_mv(run_all_uvmr = TRUE, run_mvmr = TRUE, api_use = FALSE,\n",
    "                            exposure_id_list = c(t2d_file_2018a, tc_file_2013), \n",
    "                            outcome_id = als_file_2021,\n",
    "                            exposure_useful_cols_list = data.frame(t2d_useful_cols_2018a, tc_useful_cols_2013),\n",
    "                            outcome_useful_cols = als_useful_cols_2021)"
   ]
  },
  {
   "cell_type": "code",
   "execution_count": null,
   "id": "67af2ad5",
   "metadata": {
    "vscode": {
     "languageId": "r"
    }
   },
   "outputs": [],
   "source": [
    "res_t2d_tc_bmi <- global_mv(run_all_uvmr = TRUE, run_mvmr = TRUE, api_use = FALSE,\n",
    "                            exposure_id_list = c(bmi_file_2018b, t2d_file_2018a, tc_file_2021),\n",
    "                            exposure_useful_cols_list = data.frame(bmi_useful_cols_2018b, t2d_useful_cols_2018a, tc_useful_cols_2021),\n",
    "                            outcome_id = als_file_2021, \n",
    "                            outcome_useful_cols = als_useful_cols_2021, run_mr_presso = TRUE)"
   ]
  },
  {
   "cell_type": "code",
   "execution_count": null,
   "id": "40b22d8b",
   "metadata": {
    "vscode": {
     "languageId": "r"
    }
   },
   "outputs": [],
   "source": [
    "res_lipids_local <- global_mv(run_all_uvmr = FALSE, run_mvmr = TRUE, api_use = FALSE,\n",
    "                                exposure_id_list = c(hdlc_file_api, ldlc_file_api, trig_file_api), \n",
    "                                outcome_id = chd_file,\n",
    "                                exposure_useful_cols_list = data.frame(hm_useful_cols, hm_useful_cols, hm_useful_cols),\n",
    "                                outcome_useful_cols = chd_useful_cols)"
   ]
  },
  {
   "cell_type": "code",
   "execution_count": null,
   "id": "e5cdfcf7",
   "metadata": {
    "vscode": {
     "languageId": "r"
    }
   },
   "outputs": [],
   "source": [
    "res_lipids2_local <- global_mv(run_all_uvmr = TRUE, run_mvmr = TRUE, api_use = FALSE,\n",
    "                                exposure_id_list = c(ldlc_file_api, trig_file_api, alpb_file_2021), \n",
    "                                outcome_id = chd_file,\n",
    "                                exposure_useful_cols_list = data.frame(hm_useful_cols, hm_useful_cols, hm_useful_cols),\n",
    "                                outcome_useful_cols = chd_useful_cols)"
   ]
  },
  {
   "cell_type": "markdown",
   "id": "05235b22",
   "metadata": {},
   "source": [
    "# Final results and plots"
   ]
  },
  {
   "cell_type": "markdown",
   "id": "a8853552",
   "metadata": {},
   "source": [
    "## Generate data"
   ]
  },
  {
   "cell_type": "code",
   "execution_count": null,
   "id": "35658bbd",
   "metadata": {
    "vscode": {
     "languageId": "r"
    }
   },
   "outputs": [],
   "source": [
    "# T2D, TC, BMI on ALS (All SNP without second clumping)\n",
    "dat_als_all <- data_import_mv(api_use = FALSE, second_clumping = FALSE,\n",
    "                                exposure_id_list = c(bmi_file_2018b, t2d_file_2018a, tc_file_2021),\n",
    "                                exposure_useful_cols_list = data.frame(bmi_useful_cols_2018b, t2d_useful_cols_2018a, tc_useful_cols_2021),\n",
    "                                outcome_id = als_file_2021, outcome_useful_cols = als_useful_cols_2021)\n",
    "save(dat_als_all, file = \"data_formatted/dat_als_all.RData\")"
   ]
  },
  {
   "cell_type": "code",
   "execution_count": null,
   "id": "2c8f2f66",
   "metadata": {
    "vscode": {
     "languageId": "r"
    }
   },
   "outputs": [],
   "source": [
    "# T2D, TC, BMI on ALS \n",
    "dat_als <- data_import_mv(api_use = FALSE,\n",
    "                            exposure_id_list = c(bmi_file_2018b, t2d_file_2018a, tc_file_2021),\n",
    "                            exposure_useful_cols_list = data.frame(bmi_useful_cols_2018b, t2d_useful_cols_2018a, tc_useful_cols_2021),\n",
    "                            outcome_id = als_file_2021, outcome_useful_cols = als_useful_cols_2021)\n",
    "save(dat_als, file = \"data_formatted/dat_als.RData\")"
   ]
  },
  {
   "cell_type": "code",
   "execution_count": null,
   "id": "72cb2bed",
   "metadata": {
    "vscode": {
     "languageId": "r"
    }
   },
   "outputs": [],
   "source": [
    "# T2D, TC, BMI on Park \n",
    "dat_park <- data_import_mv(api_use = FALSE,\n",
    "                            exposure_id_list = c(bmi_file_2018b, t2d_file_2018a, tc_file_2021),\n",
    "                            exposure_useful_cols_list = data.frame(bmi_useful_cols_2018b, t2d_useful_cols_2018a, tc_useful_cols_2021),\n",
    "                            outcome_id = park_file_2019, outcome_useful_cols = park_useful_cols_2019)\n",
    "save(dat_park, file = \"data_formatted/dat_park.RData\")"
   ]
  },
  {
   "cell_type": "code",
   "execution_count": null,
   "id": "919404fc",
   "metadata": {
    "vscode": {
     "languageId": "r"
    }
   },
   "outputs": [],
   "source": [
    "# Reproduction T2D\n",
    "res_list_t2d <- global_uv(api_use_ex = FALSE, api_use_out = FALSE, \n",
    "                            exposure_id = t2d_file_2018a, outcome_id = als_file_2018, \n",
    "                            exposure_useful_cols = t2d_useful_cols_2018a, \n",
    "                            outcome_useful_cols = als_useful_cols_2018,\n",
    "                            snplist = snpList_t2d, paper_results = \"t2d_results.csv\")\n",
    "save(res_list_t2d, file = \"data_formatted/res_list_t2d.RData\")"
   ]
  },
  {
   "cell_type": "code",
   "execution_count": null,
   "id": "0a579af7",
   "metadata": {
    "vscode": {
     "languageId": "r"
    }
   },
   "outputs": [],
   "source": [
    "# Reproduction TC\n",
    "res_list_tc <- global_uv(api_use_ex = FALSE, api_use_out = FALSE, \n",
    "                            exposure_id = tc_file_2013, outcome_id = als_file_2021, \n",
    "                            exposure_useful_cols = tc_useful_cols_2013, \n",
    "                            outcome_useful_cols = als_useful_cols_2021,\n",
    "                            paper_results = \"tc_results.csv\")\n",
    "save(res_list_tc, file = \"data_formatted/res_list_tc.RData\")"
   ]
  },
  {
   "cell_type": "code",
   "execution_count": null,
   "id": "8b41b1c6",
   "metadata": {
    "vscode": {
     "languageId": "r"
    }
   },
   "outputs": [],
   "source": [
    "# Reproduction BMI\n",
    "dat_bmi <- data_import(api_use_ex = FALSE, api_use_out = FALSE,\n",
    "                            exposure_id = bmi_file_2015, outcome_id = als_file_2018, \n",
    "                            exposure_useful_cols = bmi_useful_cols_sumstat, outcome_useful_cols = als_useful_cols_2018, \n",
    "                            snplist = snplist_bmi)\n",
    "res_bmi <- run_all_mr(dat_bmi)\n",
    "res_bmi <- plotting_and_sensitivity_analysis(res_bmi, dat_bmi, FALSE)\n",
    "res_list_bmi <- list(data = dat_bmi, result = res_bmi)\n",
    "save(res_list_bmi, file = \"data_formatted/res_list_bmi.RData\")"
   ]
  },
  {
   "cell_type": "markdown",
   "id": "08428655",
   "metadata": {},
   "source": [
    "## Load data"
   ]
  },
  {
   "cell_type": "code",
   "execution_count": 5,
   "id": "b117e147",
   "metadata": {
    "vscode": {
     "languageId": "r"
    }
   },
   "outputs": [
    {
     "name": "stdout",
     "output_type": "stream",
     "text": [
      "Loading objects:\n",
      "  dat_als\n",
      "Loading objects:\n",
      "  dat_park\n",
      "Loading objects:\n",
      "  res_list_t2d\n",
      "Loading objects:\n",
      "  res_list_tc\n",
      "Loading objects:\n",
      "  res_list_bmi\n"
     ]
    }
   ],
   "source": [
    "load(\"data_formatted/dat_als.RData\", verbose = TRUE)\n",
    "load(\"data_formatted/dat_park.RData\", verbose = TRUE)\n",
    "\n",
    "load(\"data_formatted/res_list_t2d.RData\", verbose = TRUE)\n",
    "load(\"data_formatted/res_list_tc.RData\", verbose = TRUE)\n",
    "load(\"data_formatted/res_list_bmi.RData\", verbose = TRUE)"
   ]
  },
  {
   "cell_type": "markdown",
   "id": "70510685",
   "metadata": {},
   "source": [
    "## Processing ALS"
   ]
  },
  {
   "cell_type": "code",
   "execution_count": 83,
   "id": "65efcba7",
   "metadata": {
    "vscode": {
     "languageId": "r"
    }
   },
   "outputs": [],
   "source": [
    "plot_als <- function(mvdat, uvdat_t2d, uvdat_tc, uvdat_bmi, paper_res_files) {\n",
    "    mv_dat <- mvdat$mv_dat\n",
    "    uv_dat <- mvdat$uv_dat\n",
    "\n",
    "    df <- bind_rows(uvdat_t2d$result, uvdat_tc$result, uvdat_bmi$result)\n",
    "\n",
    "    method_names <- c(\"Paper's results for IVW\", \"Replication of IVW analysis from study's GWAS\", \"MVMR-IVW results on new GWAS\")\n",
    "\n",
    "    df <- subset(df, method == \"Inverse variance weighted\")\n",
    "    df$replication <- method_names[2]\n",
    "\n",
    "    paper_df <- lapply(paper_res_files, function(x) {\n",
    "                row <- fread(paste0(data_dir, \"/paper-results/\", x)) %>%\n",
    "                subset(method == \"Inverse variance weighted\")\n",
    "                if (!\"or\" %in% colnames(row)) {row <- generate_odds_ratios(row)}\n",
    "                return(row)\n",
    "                }) %>% \n",
    "                bind_rows()\n",
    "    paper_df$replication <- method_names[1]\n",
    "\n",
    "    df <- bind_rows(df, paper_df) %>%\n",
    "    fill(c(\"id.outcome\", \"outcome\"), .direction = \"down\")\n",
    "\n",
    "    res_mv <- TwoSampleMR::mv_multiple(mv_dat, intercept = FALSE, instrument_specific = FALSE, 5e-8)$result %>% \n",
    "        generate_odds_ratios()\n",
    "    res_mv$method <- \"MVMR-IVW\"\n",
    "    res_mv$replication <- method_names[3]\n",
    "\n",
    "    df$exposure <- factor(sub(\" \\\\|.*\", \"\", df$exposure))\n",
    "    res_mv$exposure <- factor(sub(\" \\\\|.*\", \"\", res_mv$exposure))\n",
    "\n",
    "    df <- bind_rows(df, res_mv)\n",
    "    df$replication <- factor(df$replication, levels = method_names)\n",
    "\n",
    "    ## Plotting\n",
    "    pos <- position_dodge(width = -.5)\n",
    "\n",
    "    p <- ggplot(df, aes(x = or, y = exposure, group = replication, color = replication)) + \n",
    "        geom_vline(aes(xintercept = 1.0), linewidth = .25, linetype = \"dashed\") + \n",
    "        geom_errorbarh(aes(xmax = or_uci95, xmin = or_lci95), size = .7, height = .2, position=pos) +\n",
    "        geom_point(position=pos, size = 3) +\n",
    "        \n",
    "        scale_x_continuous(breaks = c(0.6,0.8,0.9,1.0,1.1,1.2,1.4), labels = c(0.6,0.8,0.9,1.0,1.1,1.2,1.4), limits = c(0.55,1.45)) +\n",
    "        \n",
    "        ylab(\"\") +\n",
    "        xlab(\"Odds ratio\") +\n",
    "\n",
    "        scale_colour_manual(values = c(\"#1b651b\", \"#00429d\", \"#93003a\")) +\n",
    "        guides(colour = guide_legend(title = \"Replicated\", reverse = FALSE)) +\n",
    "        \n",
    "        #annotate(geom = \"text\", y =1.1, x = log10(1.5), label = \"\", size = 1.5, hjust = 0) + \n",
    "        ggtitle(\"Comparison MR results between papers, replication and MVMR results on ALS\") +\n",
    "\n",
    "        theme_bw() +\n",
    "        theme(plot.title = element_text(hjust = 0.25))\n",
    "\n",
    "    return(p)\n",
    "}"
   ]
  },
  {
   "cell_type": "markdown",
   "id": "7143d357",
   "metadata": {},
   "source": [
    "## Processing Park"
   ]
  },
  {
   "cell_type": "code",
   "execution_count": 81,
   "id": "79b717d0",
   "metadata": {
    "vscode": {
     "languageId": "r"
    }
   },
   "outputs": [],
   "source": [
    "plot_park <- function(dat, paper_res_file) {\n",
    "    mv_dat <- dat$mv_dat\n",
    "    uv_dat <- dat$uv_dat\n",
    "\n",
    "    method_names <- c(\"Paper's results for IVW\", \"IVW analysis on new GWAS\", \"MR-Egger analysis on new GWAS\", \"MVMR-IVW analysis on new GWAS\")\n",
    "\n",
    "    res_list_park <- lapply(uv_dat, function(x) {\n",
    "        x <- filter(x, mr_keep == TRUE)\n",
    "        res_ivw <- TwoSampleMR::mr_ivw(b_exp = x$beta.exposure, b_out = x$beta.outcome, \n",
    "                                    se_exp = x$se.exposure, se_out = x$se.outcome) %>% \n",
    "            generate_odds_ratios()\n",
    "        res_ivw$exposure <- x$exposure[1]\n",
    "        res_ivw$replication <- method_names[2]\n",
    "        res_ivw$method <- \"Inverse variance weighted\"\n",
    "        return(res_ivw)\n",
    "    })\n",
    "    df <- bind_rows(res_list_park)\n",
    "\n",
    "    res_park_egger <- lapply(uv_dat, function(x) {\n",
    "        x <- filter(x, mr_keep == TRUE)\n",
    "        res_egger <- mr_egger_regression(b_exp = x$beta.exposure, b_out = x$beta.outcome, \n",
    "                                        se_exp = x$se.exposure, se_out = x$se.outcome) \n",
    "        data.frame(method = \"MR-Egger\",\n",
    "                    nsnp = res_egger$nsnp,\n",
    "                    b = res_egger$b,\n",
    "                    se = res_egger$se,\n",
    "                    pval = res_egger$pval,\n",
    "                    exposure = x$exposure[1],\n",
    "                    replication = method_names[3]) %>% \n",
    "            generate_odds_ratios()\n",
    "    }) %>% bind_rows()\n",
    "\n",
    "    paper_df <- fread(paste0(data_dir, \"/paper-results/\", paper_res_file))\n",
    "    paper_df$replication <- method_names[1]\n",
    "\n",
    "    df <- bind_rows(df, res_park_egger, paper_df)\n",
    "\n",
    "    res_mv <- TwoSampleMR::mv_multiple(mv_dat, intercept = FALSE, instrument_specific = FALSE, 5e-8)$result %>% \n",
    "            generate_odds_ratios()\n",
    "    res_mv$method <- \"MVMR-IVW\"\n",
    "    res_mv$replication <- method_names[4]\n",
    "\n",
    "    df <- bind_rows(df, res_mv)\n",
    "    df$exposure <- factor(sub(\" \\\\|.*\", \"\", df$exposure))\n",
    "\n",
    "    df$replication <- factor(df$replication, levels = method_names)\n",
    "    df <- data.frame(df)\n",
    "\n",
    "    ## Plotting\n",
    "    pos <- position_dodge(width = -.5)\n",
    "\n",
    "    p <- ggplot(df, aes(x = or, y = exposure, group = replication, color = replication)) + \n",
    "        geom_vline(aes(xintercept = 1.0), linewidth = .25, linetype = \"dashed\") + \n",
    "        geom_errorbarh(aes(xmax = or_uci95, xmin = or_lci95), size = .7, height = .2, position=pos) +\n",
    "        geom_point(position=pos, size = 3) +\n",
    "        \n",
    "        scale_x_continuous(breaks = c(0.6,0.8,0.9,1.0,1.1,1.2,1.4), labels = c(0.6,0.8,0.9,1.0,1.1,1.2,1.4), limits = c(0.55,1.45)) +\n",
    "        \n",
    "        ylab(\"\") +\n",
    "        xlab(\"Odds ratio\") +\n",
    "\n",
    "        scale_colour_manual(values = c(\"#1b651b\", \"#00429d\", '#ffa600', \"#93003a\")) +\n",
    "        guides(colour = guide_legend(title = \"Replicated\", reverse = FALSE)) +\n",
    "        \n",
    "        #annotate(geom = \"text\", y =1.1, x = log10(1.5), label = \"\", size = 1.5, hjust = 0) + \n",
    "        ggtitle(\"Comparison of MR results between paper, replication and MVMR for Parkinson\") +\n",
    "\n",
    "        theme_bw() +\n",
    "        theme(plot.title = element_text(hjust = 0.3))\n",
    "\n",
    "    return(p)\n",
    "}"
   ]
  },
  {
   "cell_type": "markdown",
   "id": "70cd043f",
   "metadata": {},
   "source": [
    "## MVMR Sensitivity ALS"
   ]
  },
  {
   "cell_type": "code",
   "execution_count": 85,
   "id": "1725b598",
   "metadata": {
    "vscode": {
     "languageId": "r"
    }
   },
   "outputs": [],
   "source": [
    "plot_mv_sensitivity <- function(dat) {\n",
    "    mv_dat <- dat$mv_dat\n",
    "    method_names <- c(\"MVMR-IVW\", \"MVMR-robust\", \"MVMR-Egger\")\n",
    "\n",
    "    res_mv <- TwoSampleMR::mv_multiple(mv_dat, intercept = TRUE, instrument_specific = FALSE, 5e-8)$result %>%\n",
    "        mutate(method = method_names[1], .) %>%\n",
    "        select(method, everything()) %>%\n",
    "        generate_odds_ratios()\n",
    "    \n",
    "    res_robust <- mvmr_robust(mv_dat) %>%\n",
    "        mutate(method = method_names[2], .) %>%\n",
    "        select(method, everything()) %>%\n",
    "        generate_odds_ratios()\n",
    "        \n",
    "    res_egger <- mvmr_egger(mv_dat) %>%\n",
    "        mutate(method = method_names[3], .) %>%\n",
    "        select(method, everything()) %>%\n",
    "        generate_odds_ratios()\n",
    "\n",
    "    df <- bind_rows(res_mv, res_robust, res_egger)\n",
    "    df$exposure <- factor(sub(\" \\\\|.*\", \"\", df$exposure))\n",
    "    df$method <- factor(df$method, levels = method_names)\n",
    "\n",
    "    res_robust$mv <- TRUE\n",
    "    res_mv$mv <- FALSE\n",
    "    res_egger$mv <- TRUE\n",
    "\n",
    "    export_mvmr_plot(res_robust, res_mv, FALSE,\n",
    "                    model_names = c('TRUE' = \"MVMR-Robust\", 'FALSE' = \"MVMR-IVW\"),\n",
    "                    colors = c(\"purple\", \"blue\"))\n",
    "                    \n",
    "    export_mvmr_plot(res_egger, res_mv, FALSE,\n",
    "                    model_names = c('TRUE' = \"MVMR-Egger\", 'FALSE' = \"MVMR-IVW\"),\n",
    "                    colors = c(\"darkgreen\", \"blue\"))\n",
    "    \n",
    "    ## Plotting\n",
    "    pos <- position_dodge(width = -.5)\n",
    "\n",
    "    p <- ggplot(df, aes(x = or, y = exposure, group = method, color = method)) + \n",
    "        geom_vline(aes(xintercept = 1.0), linewidth = .25, linetype = \"dashed\") + \n",
    "        geom_errorbarh(aes(xmax = or_uci95, xmin = or_lci95), size = .7, height = .2, position=pos) +\n",
    "        geom_point(position=pos, size = 3) +\n",
    "\n",
    "        scale_x_continuous(breaks = c(0.6,0.8,0.9,1.0,1.1,1.2,1.4), labels = c(0.6,0.8,0.9,1.0,1.1,1.2,1.4), limits = c(0.55,1.45)) +\n",
    "        \n",
    "        ylab(\"\") +\n",
    "        xlab(\"Odds ratio\") +\n",
    "\n",
    "        scale_colour_manual(values = c(\"#00429d\", '#ffa600', \"#93003a\")) +\n",
    "        guides(colour = guide_legend(title = \"Replicated\", reverse = FALSE)) +\n",
    "        \n",
    "        #annotate(geom = \"text\", y =1.1, x = log10(1.5), label = \"\", size = 1.5, hjust = 0) + \n",
    "        ggtitle(\"Comparison of sensitivity analysis for MVMR results on ALS\") +\n",
    "\n",
    "        theme_bw() +\n",
    "        theme(plot.title = element_text(hjust = 0.1))\n",
    "\n",
    "    return(p)\n",
    "}"
   ]
  },
  {
   "cell_type": "markdown",
   "id": "1e2e659c",
   "metadata": {},
   "source": [
    "## Plotting"
   ]
  },
  {
   "cell_type": "code",
   "execution_count": 100,
   "id": "63da74a3",
   "metadata": {
    "vscode": {
     "languageId": "r"
    }
   },
   "outputs": [
    {
     "name": "stderr",
     "output_type": "stream",
     "text": [
      "Warning message:\n",
      "“\u001b[1m\u001b[22m`position_dodge()` requires non-overlapping \u001b[32mx\u001b[39m intervals.”\n",
      "Warning message:\n",
      "“\u001b[1m\u001b[22m`position_dodge()` requires non-overlapping \u001b[32mx\u001b[39m intervals.”\n"
     ]
    }
   ],
   "source": [
    "p1 <- plot_als(dat_als, res_list_t2d, res_list_tc, res_list_bmi, \n",
    "                   paper_res_files = c(\"t2d_results.csv\", \"tc_results.csv\", \"bmi_results.csv\"))\n",
    "p2 <- plot_park(dat_park, paper_res_file = \"park_results.csv\")\n",
    "#p_final <- grid.arrange(p1, p2, ncol = 2, respect = TRUE)\n",
    "p_final <- p1 + p2 + patchwork::plot_layout(2, 1)\n",
    "\n",
    "output_width <- 15  # Width in inches \n",
    "output_height <- 6  # Height in inches\n",
    "ggsave(\"plot_als_park.png\", p_final, width = output_width, height = output_height, dpi = 300)"
   ]
  },
  {
   "cell_type": "code",
   "execution_count": 101,
   "id": "1ada4477",
   "metadata": {
    "vscode": {
     "languageId": "r"
    }
   },
   "outputs": [
    {
     "name": "stderr",
     "output_type": "stream",
     "text": [
      "\u001b[1m\u001b[22mAdding missing grouping variables: `id.exposure`\n",
      "\u001b[1m\u001b[22mAdding missing grouping variables: `id.exposure`\n",
      "Warning message:\n",
      "“\u001b[1m\u001b[22m`position_dodge()` requires non-overlapping \u001b[32mx\u001b[39m intervals.”\n",
      "Warning message:\n",
      "“\u001b[1m\u001b[22m`position_dodge()` requires non-overlapping \u001b[32mx\u001b[39m intervals.”\n"
     ]
    }
   ],
   "source": [
    "p1 <- plot_als(dat_als, res_list_t2d, res_list_tc, res_list_bmi, \n",
    "                   paper_res_files = c(\"t2d_results.csv\", \"tc_results.csv\", \"bmi_results.csv\"))\n",
    "p2 <- plot_mv_sensitivity(dat_als)\n",
    "p_final <- p1 + p2 + patchwork::plot_layout(2, 1)\n",
    "\n",
    "output_width <- 15  # Width in inches \n",
    "output_height <- 6  # Height in inches\n",
    "ggsave(\"plot_als_sensi.png\", p_final, width = output_width, height = output_height, dpi = 300)"
   ]
  },
  {
   "cell_type": "markdown",
   "id": "df545ddc",
   "metadata": {},
   "source": [
    "## Conditionnal Weak Instrument Test"
   ]
  },
  {
   "cell_type": "code",
   "execution_count": 130,
   "id": "78a6fa1c",
   "metadata": {
    "vscode": {
     "languageId": "r"
    }
   },
   "outputs": [],
   "source": [
    "conditionnal_weak_iv_test <- function(mvdat) {\n",
    "    mv_dat <- mvdat$mv_dat\n",
    "    mvmr_dat <- MVMR::format_mvmr(BXGs = mv_dat$exposure_beta, BYG = mv_dat$outcome_beta, \n",
    "                                    seBXGs = mv_dat$exposure_se, seBYG = mv_dat$outcome_se,\n",
    "                                    RSID = attributes(mv_dat$exposure_beta)$dimnames[[1]])\n",
    "\n",
    "    ## Estimating phenotypic correlation\n",
    "    b <- mv_dat$exposure_beta\n",
    "    se <- mv_dat$exposure_se\n",
    "    rsid <- attributes(mv_dat$exposure_beta)$dimnames[[1]]\n",
    "\n",
    "    allele_dat <- unique(bind_rows(lapply(mvdat$uv_dat, function(df) {\n",
    "        id <- df$id.exposure[1]\n",
    "        # Extract SNP data selected in MV analysis\n",
    "        df <- df[,c(\"SNP\", \"effect_allele.exposure\", \"other_allele.exposure\", \"beta.exposure\")] %>%\n",
    "            filter(SNP %in% rsid)\n",
    "        beta_mv <- b[rownames(b) %in% df$SNP, id]\n",
    "        # Check if alleles need to be flipped\n",
    "        df$flip <- (df$beta.exposure * beta_mv) < 0\n",
    "        # Swap alleles if necessary\n",
    "        df %>%\n",
    "            mutate(effect_allele.exposure_new = ifelse(flip, other_allele.exposure, effect_allele.exposure),\n",
    "                other_allele.exposure = ifelse(flip, effect_allele.exposure, other_allele.exposure),\n",
    "                effect_allele.exposure = effect_allele.exposure_new) %>%\n",
    "            select(-effect_allele.exposure_new, -beta.exposure, -flip)\n",
    "        })))\n",
    "    rownames(allele_dat) <- allele_dat$SNP\n",
    "    allele_dat$SNP <- NULL\n",
    "    colnames(allele_dat) <- c(\"allele_0\", \"allele_1\")\n",
    "\n",
    "    colnames(b) <- lapply(1:dim(b)[2], function(i) paste0(\"trait\", i, '_b'))\n",
    "    colnames(se) <- lapply(1:dim(b)[2], function(i) paste0(\"trait\", i, '_se'))\n",
    "\n",
    "    # Create a new data frame by interleaving columns of b and se\n",
    "    interleaved_df <- data.frame(matrix(ncol = 2 * ncol(b), nrow = nrow(b)))\n",
    "\n",
    "    # Assign column names\n",
    "    colnames(interleaved_df) <- as.vector(rbind(colnames(b), colnames(se)))\n",
    "\n",
    "    # Fill the interleaved data frame\n",
    "    for (i in 1:ncol(b)) {\n",
    "        interleaved_df[, 2 * i - 1] <- b[, i]\n",
    "        interleaved_df[, 2 * i] <- se[, i]\n",
    "    }\n",
    "\n",
    "    S_XY <- bind_cols(allele_dat, interleaved_df)\n",
    "    S_XY$allele_0 <- as.factor(S_XY$allele_0)\n",
    "    S_XY$allele_1 <- as.factor(S_XY$allele_1)\n",
    "\n",
    "    ##estimate phenotypic correlation matrix using metaCCA \n",
    "    S_YY <- estimateSyy(S_XY = S_XY)\n",
    "\n",
    "    Xcovmat <- MVMR::phenocov_mvmr(Pcov = S_YY, seBXGs = mvmr_dat[, c('sebetaX1', 'sebetaX2', 'sebetaX3')]) %>%\n",
    "        lapply(FUN = as.matrix)\n",
    "        \n",
    "    f_stat <- data.frame(t(strength_mvmr(r_input = mvmr_dat, gencov = Xcovmat)))\n",
    "    q_stat <- pleiotropy_mvmr(r_input = mvmr_dat, gencov = Xcovmat)\n",
    "\n",
    "    f_stat$Q <- q_stat$Qstat\n",
    "    f_stat$Q_pval <- q_stat$Qpval\n",
    "\n",
    "    exp_names <- mv_dat$expname\n",
    "    rownames(exp_names) <- lapply(1:dim(exp_names)[1], function(i) paste0(\"exposure\", i))\n",
    "    sensi_stat <- bind_cols(exp_names,f_stat)\n",
    "    rownames(sensi_stat) <- NULL\n",
    "\n",
    "    return(list(sensi_stat, S_YY, mvmr_dat))\n",
    "}"
   ]
  },
  {
   "cell_type": "code",
   "execution_count": 131,
   "id": "c6ef8501",
   "metadata": {
    "vscode": {
     "languageId": "r"
    }
   },
   "outputs": [
    {
     "name": "stdout",
     "output_type": "stream",
     "text": [
      "\n",
      "Conditional F-statistics for instrument strength\n",
      "\n",
      "            exposure1 exposure2 exposure3\n",
      "F-statistic  39.22337  61.84805  11.49867\n",
      "Q-Statistic for instrument validity:\n",
      "454.0461 on 319 DF , p-value: 9.569603e-07\n"
     ]
    }
   ],
   "source": [
    "stat_list <- conditionnal_weak_iv_test(dat_als)"
   ]
  },
  {
   "cell_type": "code",
   "execution_count": 133,
   "id": "324fc82d",
   "metadata": {
    "vscode": {
     "languageId": "r"
    }
   },
   "outputs": [
    {
     "name": "stderr",
     "output_type": "stream",
     "text": [
      "Warning message in qhet_mvmr(r_input = stat_list[[3]], pcor = stat_list[[2]], CI = TRUE, :\n",
      "“qhet_mvmr() is currently undergoing development.”\n"
     ]
    }
   ],
   "source": [
    "# Test Mendelian randomization model adjusting for weak instruments\n",
    "qhet_res <- qhet_mvmr(r_input = stat_list[[3]], pcor = stat_list[[2]], CI = TRUE, iterations = 100)"
   ]
  }
 ],
 "metadata": {
  "kernelspec": {
   "display_name": "R",
   "language": "R",
   "name": "ir"
  },
  "language_info": {
   "codemirror_mode": "r",
   "file_extension": ".r",
   "mimetype": "text/x-r-source",
   "name": "R",
   "pygments_lexer": "r",
   "version": "4.3.3"
  }
 },
 "nbformat": 4,
 "nbformat_minor": 5
}
