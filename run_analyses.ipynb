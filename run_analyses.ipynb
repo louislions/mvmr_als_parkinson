{
 "cells": [
  {
   "cell_type": "markdown",
   "id": "b7f83e90",
   "metadata": {},
   "source": [
    "# Libs import"
   ]
  },
  {
   "cell_type": "code",
   "execution_count": 173,
   "id": "ca494328-cd66-4c04-a077-920f1d2ef210",
   "metadata": {
    "vscode": {
     "languageId": "r"
    }
   },
   "outputs": [],
   "source": [
    "# load requires packages\n",
    "pacman::p_load(MendelianRandomization, TwoSampleMR, MVMR,\n",
    "               ieugwasr, gwasglue,\n",
    "               data.table, plyr, dplyr, tidyr, meta, SciViews, qqman, comprehenr, cli, knitr,\n",
    "               ggplot2, cowplot, plotly, ggrepel, egg, grid, gridExtra,\n",
    "               optparse, metaCCA)\n",
    "options(ieugwasr_api = 'gwas-api.mrcieu.ac.uk/')"
   ]
  },
  {
   "cell_type": "markdown",
   "id": "e4379e3d",
   "metadata": {},
   "source": [
    "# Global Variables"
   ]
  },
  {
   "cell_type": "code",
   "execution_count": 4,
   "id": "81d13b38",
   "metadata": {
    "vscode": {
     "languageId": "r"
    }
   },
   "outputs": [],
   "source": [
    "global_seed <- 314159265\n",
    "output_dir <- \"output/\" # path where the results are saved\n",
    "data_dir <- \"data\" # path to where you have the datasets saved"
   ]
  },
  {
   "cell_type": "code",
   "execution_count": 5,
   "id": "7ad2fdad",
   "metadata": {
    "vscode": {
     "languageId": "r"
    }
   },
   "outputs": [],
   "source": [
    "snpList_t2d <- read.csv(paste0(data_dir,\"/paper-results/snpList_t2d.csv\"))[,1]\n",
    "snplist_bf <- read.csv(paste0(data_dir,\"/paper-results/snpList_bf.csv\"), header = FALSE)[-1,1]\n",
    "snplist_bmi <- read.csv(paste0(data_dir,\"/paper-results/snpList_bmi.csv\"), header = FALSE)[-1,1]\n",
    "\n",
    "ld_ref_file <- paste0(data_dir, \"/LD_ref/EUR\")\n",
    "ld_mat_uk10k_file <- paste0(data_dir, \"/LD_ref/UK10K_COHORT.20160215.sites.tab.gz\")\n",
    "plink_path <- genetics.binaRies::get_plink_binary()\n",
    "\n",
    "full_method_list <- c(\"mr_egger_regression\", \"mr_weighted_median\", \"mr_ivw\", \"mr_ivw_fe\", \"mr_ivw_radial\", \"mr_raps\")"
   ]
  },
  {
   "cell_type": "code",
   "execution_count": 6,
   "id": "a9edce0f",
   "metadata": {
    "vscode": {
     "languageId": "r"
    }
   },
   "outputs": [],
   "source": [
    "id_als_2018 <- \"ebi-a-GCST005647\"\n",
    "id_als_2021 <- \"ebi-a-GCST90027164\"\n",
    "id_park_2019 <- \"ieu-b-7\"\n",
    "id_chd <- \"ieu-a-7\"\n",
    "\n",
    "id_t2d_2018 <- \"ebi-a-GCST006867\"\n",
    "id_t2d_2021 <- \"ebi-a-GCST90018926\"\n",
    "id_tc_2013 <- \"ebi-a-GCST002221\"\n",
    "id_tc_2021 <- \"ebi-a-GCST90018974\"\n",
    "id_bmi_2018a <- \"ebi-a-GCST90029007\"\n",
    "id_bmi_2018b <- \"ieu-b-40\"\n",
    "\n",
    "id_hdlc <- \"ieu-a-299\"\n",
    "id_ldlc <- \"ieu-a-300\"\n",
    "id_trig <- \"ieu-a-302\""
   ]
  },
  {
   "cell_type": "code",
   "execution_count": 7,
   "id": "d7264b64",
   "metadata": {
    "vscode": {
     "languageId": "r"
    }
   },
   "outputs": [],
   "source": [
    "# from https://www.ebi.ac.uk/gwas/studies/GCST005647\n",
    "als_file_2018 <- paste0(data_dir, \"/gwas/ALS/29566793-GCST005647-EFO_0000253.h.tsv.gz\")\n",
    "# from https://www.ebi.ac.uk/gwas/studies/GCST90027164 (meilleur)\n",
    "als_file_2021 <- paste0(data_dir, \"/gwas/ALS/GCST90027164_buildGRCh37.tsv.gz\")\n",
    "# from https://www.ebi.ac.uk/gwas/studies/GCST009325\n",
    "park_file_2019 <- paste0(data_dir, \"/gwas/Park/GCST009325.h.tsv.gz\")\n",
    "# from https://www.ebi.ac.uk/gwas/studies/GCST90275127 (meilleur)\n",
    "park_file_2023 <- paste0(data_dir, \"/gwas/Park/GCST90275127.h.tsv.gz\")\n",
    "\n",
    "# from https://www.ebi.ac.uk/gwas/studies/GCST003116\n",
    "chd_file <- paste0(data_dir, \"/gwas/CHD/26343387-GCST003116-EFO_0000378.h.tsv.gz\")\n",
    "\n",
    "# from https://www.ebi.ac.uk/gwas/studies/GCST006867 (meilleur)\n",
    "t2d_file_2018a <- paste0(data_dir, \"/gwas/T2D/Xue_et_al_T2D_META_Nat_Commun_2018.gz\")\n",
    "# from http://diagram-consortium.org/downloads.html\n",
    "t2d_file_2018b <- paste0(data_dir, \"/gwas/T2D/Mahajan.NatGenet2018b.T2D.European.txt.gz\")\n",
    "# from https://www-ncbi-nlm-nih-gov.insb.bib.cnrs.fr/projects/gap/cgi-bin/analysis.cgi?study_id=phs001672.v11.p1&pha=4945\n",
    "t2d_file_2020 <- paste0(data_dir, \"/gwas/T2D/phs001672.pha004945.csv.gz\")\n",
    "# from https://t2d.hugeamp.org/dinspector.html?dataset=Suzuki2024_T2D_EU\n",
    "t2d_file_2024 <- paste0(data_dir, \"/gwas/T2D/EUR_Metal_LDSC-CORR_Neff.v2.txt.gz\")\n",
    "\n",
    "#from https://www.ebi.ac.uk/gwas/publications/24097068 (meilleur)\n",
    "tc_file_2013 <- paste0(data_dir, \"/gwas/TC/24097068-GCST002221-EFO_0004574.h.tsv.gz\")\n",
    "ldlc_file_2013 <- paste0(data_dir, \"/gwas/LDLC/24097068-GCST002222-EFO_0004611.h.tsv.gz\")\n",
    "# from https://www.ebi.ac.uk/gwas/studies/GCST90239676 \n",
    "tc_file_2021 <- paste0(data_dir, \"/gwas/TC/GCST90239676.h.tsv.gz\")\n",
    "# from https://www.ebi.ac.uk/gwas/studies/GCST90239658\n",
    "ldlc_file_2021 <- paste0(data_dir, \"/gwas/LDLC/GCST90239658_buildGRCh37.tsv.gz\")\n",
    "\n",
    "# from https://www.ebi.ac.uk/gwas/studies/GCST002783\n",
    "bmi_file_2015 <- paste0(data_dir, \"/gwas/BMI/25673413-GCST002783-EFO_0004340.h.tsv.gz\")\n",
    "# from https://zenodo.org/records/1251813\n",
    "bmi_file_2018a <- paste0(data_dir, \"/gwas/BMI/bmi.giant-ukbb.meta-analysis.combined.23May2018.txt.gz\")\n",
    "# from https://www.ebi.ac.uk/gwas/studies/GCST006900 (meilleur)\n",
    "bmi_file_2018b <- paste0(data_dir, \"/gwas/BMI/Meta-analysis_Locke_et_al+UKBiobank_2018_UPDATED.txt.gz\")\n",
    "\n",
    "# from https://www.ebi.ac.uk/gwas/studies/GCST003435\n",
    "bf_file_2016 <- paste0(data_dir, \"/gwas/BF%/26833246-GCST003435-EFO_0007800.h.tsv.gz\")\n",
    "\n",
    "# from https://www.ebi.ac.uk/gwas/studies/GCST90025952\n",
    "alpb_file_2021 <- paste0(data_dir, \"/gwas/ALPB/34226706-GCST90025952-EFO_0004615.h.tsv.gz\")\n",
    "\n",
    "# from https://www.ebi.ac.uk/gwas/studies/GCST90041837\n",
    "hc_file <- paste0(data_dir, \"/gwas/HC/29892013-GCST90029030-EFO_0007822.h.tsv.gz\")\n",
    "\n",
    "# from https://www.thessgac.org/#!data/kuzq8\n",
    "ea_file <- paste0(data_dir, \"/gwas/EA/GWAS_EA_excl23andMe.txt.gz\")\n",
    "\n",
    "# from TwoSampleMR api\n",
    "hdlc_file_api <- paste0(data_dir, \"/gwas/HDLC/24097068-GCST002223-EFO_0004612.h.tsv.gz\")\n",
    "ldlc_file_api <- ldlc_file_2013\n",
    "trig_file_api <- paste0(data_dir, \"/gwas/TRIG/24097068-GCST002216-EFO_0004530.h.tsv.gz\")"
   ]
  },
  {
   "cell_type": "code",
   "execution_count": 25,
   "id": "d8e686b0",
   "metadata": {
    "vscode": {
     "languageId": "r"
    }
   },
   "outputs": [],
   "source": [
    "##\n",
    "std_useful_cols <- c(\"chromosome\", \"base_pair_location\", \"effect_allele\", \"other_allele\", \"effect_allele_frequency\", \"beta\", \"standard_error\", \"p_value\", \"id\", \"Phenotype\")\n",
    "hm_useful_cols <- c(\"hm_rsid\", \"hm_chrom\", \"hm_pos\", \"hm_effect_allele\", \"hm_other_allele\", \"hm_effect_allele_frequency\", \"hm_beta\", \"standard_error\", \"p_value\", \"id\", \"Phenotype\")\n",
    "##\n",
    "\n",
    "als_useful_cols_2018 <- c(\"hm_rsid\", std_useful_cols)\n",
    "als_useful_cols_2021 <- c(\"rsid\", std_useful_cols)\n",
    "\n",
    "park_useful_cols_2019 <- c(\"rsid\", std_useful_cols)\n",
    "park_useful_cols_2023 <- c(\"rsid\", std_useful_cols)\n",
    "\n",
    "chd_useful_cols <- hm_useful_cols\n",
    "\n",
    "t2d_useful_cols_2018a <- c(\"SNP\", \"CHR\", \"BP\", \"A1\", \"A2\", \"frq_A1\", \"b\", \"se\", \"P\", \"id\", \"Phenotype\", \"N\")\n",
    "t2d_useful_cols_2018b <- c(\"SNP\", \"Chr\", \"Pos\", \"EA\", \"NEA\", \"EAF\", \"Beta\", \"SE\", \"Pvalue\", \"id\", \"Phenotype\")\n",
    "t2d_useful_cols_2020 <- c(\"SNP.ID\", \"Chr.ID\", \"Chr.Position\", \"Allele1\", \"Allele2\", \"effect_allele_frequency\", \"beta\", \"SE\", \"P.value\", \"id\", \"Phenotype\", \"Sample.size\")\n",
    "\n",
    "tc_useful_cols_2013 <- hm_useful_cols\n",
    "ldlc_useful_cols_2013 <- hm_useful_cols\n",
    "tc_useful_cols_2021 <- c(\"variant_id\",  std_useful_cols, \"n\")\n",
    "ldlc_useful_cols_2021 <- c(\"variant_id\", std_useful_cols)\n",
    "\n",
    "bmi_useful_cols_sumstat <- hm_useful_cols\n",
    "#bmi_useful_cols_2018a <- \n",
    "bmi_useful_cols_2018b <- c(\"SNP\", \"CHR\", \"POS\", \"Tested_Allele\", \"Other_Allele\", \"Freq_Tested_Allele_in_HRS\", \"BETA\", \"SE\", \"P\", \"id\", \"Phenotype\", \"N\")\n",
    "\n",
    "bf_useful_cols_sumstat <- hm_useful_cols\n",
    "\n",
    "alpb_useful_cols_2021 <- hm_useful_cols\n",
    "\n",
    "hc_useful_cols <- hm_useful_cols\n",
    "\n",
    "ea_useful_cols <- c(\"MarkerName\", \"CHR\", \"POS\", \"A1\", \"A2\", \"EAF\", \"Beta\", \"SE\", \"Pval\", \"id\", \"Phenotype\")"
   ]
  },
  {
   "cell_type": "markdown",
   "id": "7a7f1c99",
   "metadata": {},
   "source": [
    "# Pre-Processing dataframes"
   ]
  },
  {
   "cell_type": "code",
   "execution_count": 20,
   "id": "831dd90a",
   "metadata": {
    "vscode": {
     "languageId": "r"
    }
   },
   "outputs": [],
   "source": [
    "temp_file <- t2d_file_2020\n",
    "temp_id <- \"32541925-GCST010555\"\n",
    "temp_pheno <- \"Type 2 diabetes\""
   ]
  },
  {
   "cell_type": "code",
   "execution_count": 21,
   "id": "9b2d06ad",
   "metadata": {
    "vscode": {
     "languageId": "r"
    }
   },
   "outputs": [],
   "source": [
    "temp_df <- fread(temp_file)"
   ]
  },
  {
   "cell_type": "code",
   "execution_count": 23,
   "id": "ba6faaf3",
   "metadata": {
    "vscode": {
     "languageId": "r"
    }
   },
   "outputs": [
    {
     "name": "stdout",
     "output_type": "stream",
     "text": [
      "Rows: 655,557\n",
      "Columns: 14\n",
      "$ `SNP ID`                \u001b[3m\u001b[90m<chr>\u001b[39m\u001b[23m \"rs553642122\", \"rs7531543\", \"rs59192718\", \"rs7…\n",
      "$ `P-value`               \u001b[3m\u001b[90m<dbl>\u001b[39m\u001b[23m 0.009862, 0.009649, 0.002186, 0.001852, 0.0061…\n",
      "$ `Chr ID`                \u001b[3m\u001b[90m<int>\u001b[39m\u001b[23m 1, 1, 1, 1, 1, 1, 1, 1, 1, 1, 1, 1, 1, 1, 1, 1…\n",
      "$ `Chr Position`          \u001b[3m\u001b[90m<int>\u001b[39m\u001b[23m 790020, 917062, 922272, 920568, 917749, 920661…\n",
      "$ Allele1                 \u001b[3m\u001b[90m<chr>\u001b[39m\u001b[23m \"T\", \"C\", \"G\", \"A\", \"A\", \"T\", \"C\", \"G\", \"T\", \"…\n",
      "$ Allele2                 \u001b[3m\u001b[90m<chr>\u001b[39m\u001b[23m \"C\", \"A\", \"C\", \"G\", \"G\", \"C\", \"T\", \"C\", \"C\", \"…\n",
      "$ `Minor allele`          \u001b[3m\u001b[90m<chr>\u001b[39m\u001b[23m \"T\", \"C\", \"G\", \"A\", \"A\", \"T\", \"C\", \"G\", \"T\", \"…\n",
      "$ beta                    \u001b[3m\u001b[90m<dbl>\u001b[39m\u001b[23m 0.1600, 0.1489, 0.2168, 0.2175, 0.1578, 0.1932…\n",
      "$ SE                      \u001b[3m\u001b[90m<dbl>\u001b[39m\u001b[23m 0.0620, 0.0575, 0.0708, 0.0699, 0.0576, 0.0687…\n",
      "$ `Coded Allele`          \u001b[3m\u001b[90m<chr>\u001b[39m\u001b[23m \"T\", \"C\", \"G\", \"A\", \"A\", \"T\", \"C\", \"G\", \"T\", \"…\n",
      "$ `Sample size`           \u001b[3m\u001b[90m<int>\u001b[39m\u001b[23m 826006, 1023280, 1023280, 1023280, 1023280, 10…\n",
      "$ id                      \u001b[3m\u001b[90m<chr>\u001b[39m\u001b[23m \"32541925-GCST010555\", \"32541925-GCST010555\", …\n",
      "$ Phenotype               \u001b[3m\u001b[90m<chr>\u001b[39m\u001b[23m \"Type 2 diabetes || id:32541925-GCST010555\", \"…\n",
      "$ effect_allele_frequency \u001b[3m\u001b[90m<lgl>\u001b[39m\u001b[23m NA, NA, NA, NA, NA, NA, NA, NA, NA, NA, NA, NA…\n"
     ]
    }
   ],
   "source": [
    "glimpse(temp_df)"
   ]
  },
  {
   "cell_type": "code",
   "execution_count": 24,
   "id": "4ea40894",
   "metadata": {
    "vscode": {
     "languageId": "r"
    }
   },
   "outputs": [
    {
     "name": "stdout",
     "output_type": "stream",
     "text": [
      "\"SNP.ID\", \"P.value\", \"Chr.ID\", \"Chr.Position\", \"Allele1\", \"Allele2\", \"Minor.allele\", \"beta\", \"SE\", \"Coded.Allele\", \"Sample.size\", \"id\", \"Phenotype\", \"effect_allele_frequency\""
     ]
    }
   ],
   "source": [
    "print_col_names(temp_df)"
   ]
  },
  {
   "cell_type": "code",
   "execution_count": 19,
   "id": "f0a14fa6",
   "metadata": {
    "vscode": {
     "languageId": "r"
    }
   },
   "outputs": [],
   "source": [
    "add_pheno_id_in_file(temp_file, temp_df, temp_id, temp_pheno)"
   ]
  },
  {
   "cell_type": "markdown",
   "id": "d1d08c0a",
   "metadata": {},
   "source": [
    "# Load scripts"
   ]
  },
  {
   "cell_type": "code",
   "execution_count": 174,
   "id": "7f0cd388",
   "metadata": {
    "vscode": {
     "languageId": "r"
    }
   },
   "outputs": [],
   "source": [
    "source(\"scripts/00_utilitary.R\")\n",
    "source(\"scripts/01_data_import.R\")\n",
    "source(\"scripts/02_MR_methods.R\")\n",
    "source(\"scripts/03_plotting.R\")\n",
    "source(\"scripts/04_run_MR.R\")\n",
    "# from https://github.com/MRCIEU/PhenoSpD\n",
    "source(\"scripts/SpD.r\")"
   ]
  },
  {
   "cell_type": "markdown",
   "id": "e0a2f01b",
   "metadata": {},
   "source": [
    "# MR ALS"
   ]
  },
  {
   "cell_type": "markdown",
   "id": "a1ed2137",
   "metadata": {},
   "source": [
    "## Type 2 diabetes"
   ]
  },
  {
   "cell_type": "code",
   "execution_count": null,
   "id": "3523c0f4",
   "metadata": {
    "vscode": {
     "languageId": "r"
    }
   },
   "outputs": [],
   "source": [
    "res_list_t2d <- global_uv(api_use_ex = FALSE, api_use_out = FALSE, \n",
    "                            exposure_id = t2d_file_2018a, outcome_id = als_file_2018, \n",
    "                            exposure_useful_cols = t2d_useful_cols_2018a, \n",
    "                            outcome_useful_cols = als_useful_cols_2018,\n",
    "                            snplist = snpList_t2d, paper_results = \"t2 d_results.csv\",\n",
    "                            method_list = full_method_list)"
   ]
  },
  {
   "cell_type": "code",
   "execution_count": null,
   "id": "7977fa61",
   "metadata": {
    "vscode": {
     "languageId": "r"
    }
   },
   "outputs": [],
   "source": [
    "res_list_t2d <- global_uv(api_use_ex = FALSE, api_use_out = FALSE, \n",
    "                            exposure_id = t2d_file_2018a, outcome_id = als_file_2021, \n",
    "                            exposure_useful_cols = t2d_useful_cols_2018a, \n",
    "                            outcome_useful_cols = als_useful_cols_2021)"
   ]
  },
  {
   "cell_type": "code",
   "execution_count": 39,
   "id": "3d1b162f",
   "metadata": {
    "vscode": {
     "languageId": "r"
    }
   },
   "outputs": [],
   "source": [
    "dat_t2d <- res_list_t2d$data\n",
    "export_genetic_variant_associations(data_t2d, FALSE)"
   ]
  },
  {
   "cell_type": "markdown",
   "id": "366a294e",
   "metadata": {},
   "source": [
    "## Total Cholesterol"
   ]
  },
  {
   "cell_type": "code",
   "execution_count": null,
   "id": "509906c2",
   "metadata": {
    "vscode": {
     "languageId": "r"
    }
   },
   "outputs": [],
   "source": [
    "res_tc_2021 <- global_uv(api_use_ex = FALSE, api_use_out = FALSE, \n",
    "                            exposure_id = tc_file_2013, outcome_id = als_file_2021, \n",
    "                            exposure_useful_cols = tc_useful_cols_2013, \n",
    "                            outcome_useful_cols = als_useful_cols_2021,\n",
    "                            paper_results = \"tc_results.csv\", method_list = full_method_list)"
   ]
  },
  {
   "cell_type": "code",
   "execution_count": null,
   "id": "264285e1",
   "metadata": {
    "vscode": {
     "languageId": "r"
    }
   },
   "outputs": [],
   "source": [
    "res_tc <- global_uv(FALSE, FALSE, tc_file_2013, als_file_2021,\n",
    "                    tc_useful_cols_2013, als_useful_cols_2021)"
   ]
  },
  {
   "cell_type": "code",
   "execution_count": null,
   "id": "1f1c5d61",
   "metadata": {
    "vscode": {
     "languageId": "r"
    }
   },
   "outputs": [],
   "source": [
    "res_ldlc <- global_uv(FALSE, FALSE, ldlc_file_2013, als_file_2021,\n",
    "                      ldlc_useful_cols_2013, als_useful_cols_2021)"
   ]
  },
  {
   "cell_type": "markdown",
   "id": "793da5f0",
   "metadata": {},
   "source": [
    "## BMI"
   ]
  },
  {
   "cell_type": "code",
   "execution_count": null,
   "id": "89a4fae8",
   "metadata": {
    "vscode": {
     "languageId": "r"
    }
   },
   "outputs": [],
   "source": [
    "dat_bmi <- data_import(api_use_ex = FALSE, api_use_out = FALSE,\n",
    "                        exposure_id = bmi_file_2022, outcome_id = als_file_2021, \n",
    "                        exposure_useful_cols = bmi_useful_cols_2022, outcome_useful_cols = als_useful_cols_2021)"
   ]
  },
  {
   "cell_type": "code",
   "execution_count": null,
   "id": "3a03ffea",
   "metadata": {
    "vscode": {
     "languageId": "r"
    }
   },
   "outputs": [],
   "source": [
    "res_bmi <- run_all_mr(dat_bmi)\n",
    "res_bmi <- plotting_and_sensitivity_analysis(res = res_bmi, dat = dat_bmi, api_use_ex = FALSE)"
   ]
  },
  {
   "cell_type": "code",
   "execution_count": null,
   "id": "b92cfa9f",
   "metadata": {
    "vscode": {
     "languageId": "r"
    }
   },
   "outputs": [],
   "source": [
    "res_bmi"
   ]
  },
  {
   "cell_type": "code",
   "execution_count": null,
   "id": "551734d4",
   "metadata": {
    "vscode": {
     "languageId": "r"
    }
   },
   "outputs": [],
   "source": [
    "dat_bmi <- data_import(api_use_ex = FALSE, api_use_out = FALSE,\n",
    "                        exposure_id = bmi_file, outcome_id = als_file_2018, \n",
    "                        exposure_useful_cols = bmi_useful_cols, outcome_useful_cols = als_useful_cols_2018, \n",
    "                        snplist = snplist_bmi)"
   ]
  },
  {
   "cell_type": "markdown",
   "id": "230f3219",
   "metadata": {},
   "source": [
    "## BodyFat%"
   ]
  },
  {
   "cell_type": "code",
   "execution_count": null,
   "id": "7a23819a",
   "metadata": {
    "vscode": {
     "languageId": "r"
    }
   },
   "outputs": [],
   "source": [
    "res_bf <- global_uv(api_use_ex = FALSE, api_use_out = FALSE,\n",
    "                    exposure_id = bf_file_2016, outcome_id = als_file_2018, \n",
    "                    exposure_useful_cols = bf_useful_cols_sumstat, outcome_useful_cols = als_useful_cols_2018, \n",
    "                    snplist = snplist_bf, paper_results = \"bf_results.csv\")"
   ]
  },
  {
   "cell_type": "markdown",
   "id": "f2a007a9",
   "metadata": {},
   "source": [
    "## Reverse Causality"
   ]
  },
  {
   "cell_type": "code",
   "execution_count": null,
   "id": "9d294e79",
   "metadata": {
    "vscode": {
     "languageId": "r"
    }
   },
   "outputs": [],
   "source": [
    "res_als_tc <- global_uv(FALSE, FALSE, outcome_id = tc_file, exposure_id = als_file_2018,\n",
    "                        outcome_useful_cols = tc_useful_cols, \n",
    "                        exposure_useful_cols = als_useful_cols_2018)"
   ]
  },
  {
   "cell_type": "code",
   "execution_count": null,
   "id": "d70c1e57",
   "metadata": {
    "vscode": {
     "languageId": "r"
    }
   },
   "outputs": [],
   "source": [
    "kable(res_als_tc)"
   ]
  },
  {
   "cell_type": "markdown",
   "id": "03e5387a",
   "metadata": {},
   "source": [
    "## HC"
   ]
  },
  {
   "cell_type": "code",
   "execution_count": null,
   "id": "ca099a7e",
   "metadata": {
    "vscode": {
     "languageId": "r"
    }
   },
   "outputs": [],
   "source": [
    "res_hc <- global_uv(api_use_ex = FALSE, api_use_out = FALSE, \n",
    "                    exposure_id = hc_file, outcome_id = als_file_2021, \n",
    "                    exposure_useful_cols = hc_useful_cols, \n",
    "                    outcome_useful_cols = als_useful_cols_2021)"
   ]
  },
  {
   "cell_type": "markdown",
   "id": "0b4fc40d",
   "metadata": {},
   "source": [
    "# MR Parkinson"
   ]
  },
  {
   "cell_type": "markdown",
   "id": "c3106823",
   "metadata": {},
   "source": [
    "## MV"
   ]
  },
  {
   "cell_type": "code",
   "execution_count": null,
   "id": "57922c2a",
   "metadata": {
    "vscode": {
     "languageId": "r"
    }
   },
   "outputs": [],
   "source": [
    "res_park_bmi_t2d_tc <- global_mv(run_all_uvmr = TRUE, run_mvmr = TRUE, api_use = FALSE,\n",
    "                                exposure_id_list = c(bmi_file_2018b, t2d_file_2018a, tc_file_2021), \n",
    "                                outcome_id = park_file_2023,\n",
    "                                exposure_useful_cols_list = data.frame(bmi_useful_cols_2018b, t2d_useful_cols_2018a, tc_useful_cols_2021),\n",
    "                                outcome_useful_cols = park_useful_cols_2023)"
   ]
  },
  {
   "cell_type": "code",
   "execution_count": null,
   "id": "f2eb1c42",
   "metadata": {
    "vscode": {
     "languageId": "r"
    }
   },
   "outputs": [],
   "source": [
    "res_park_bmi_t2d_ldlc <- global_mv(run_all_uvmr = TRUE, run_mvmr = TRUE, api_use = FALSE,\n",
    "                                exposure_id_list = c(bmi_file_2018b, t2d_file_2018a, ldlc_file_2021), \n",
    "                                outcome_id = park_file_2023,\n",
    "                                exposure_useful_cols_list = data.frame(bmi_useful_cols_2018b, t2d_useful_cols_2018a, ldlc_useful_cols_2021),\n",
    "                                outcome_useful_cols = park_useful_cols_2023)"
   ]
  },
  {
   "cell_type": "markdown",
   "id": "f51c39d1",
   "metadata": {},
   "source": [
    "## BMI"
   ]
  },
  {
   "cell_type": "code",
   "execution_count": null,
   "id": "69114b67",
   "metadata": {
    "vscode": {
     "languageId": "r"
    }
   },
   "outputs": [],
   "source": [
    "res_bmi_park <- global_uv(api_use_ex = FALSE, api_use_out = FALSE, \n",
    "                          exposure_id = bmi_file_2018b, outcome_id = park_file_2023, \n",
    "                          exposure_useful_cols = bmi_useful_cols_2018b, \n",
    "                          outcome_useful_cols = park_useful_cols_2023)"
   ]
  },
  {
   "cell_type": "code",
   "execution_count": null,
   "id": "06dc61c1",
   "metadata": {
    "vscode": {
     "languageId": "r"
    }
   },
   "outputs": [],
   "source": [
    "# Test for reverse causality\n",
    "res_park_bmi <- global_uv(api_use_ex = FALSE, api_use_out = FALSE,\n",
    "                          exposure_id = park_file_2023, outcome_id = bmi_file_2018b,\n",
    "                          exposure_useful_cols = park_useful_cols_2023,\n",
    "                          outcome_useful_cols = bmi_useful_cols_2018b,\n",
    "                          run_mr_presso = TRUE,\n",
    "                          method_list = c(\"mr_wald_ratio\", \"mr_egger_regression\", \"mr_simple_median\", \"mr_weighted_median\", \"mr_ivw\", \"mr_ivw_mre\", \"mr_ivw_fe\", \"mr_raps\"))"
   ]
  },
  {
   "cell_type": "markdown",
   "id": "f49e2d38",
   "metadata": {},
   "source": [
    "## T2D"
   ]
  },
  {
   "cell_type": "code",
   "execution_count": 31,
   "id": "16422f73",
   "metadata": {
    "vscode": {
     "languageId": "r"
    }
   },
   "outputs": [
    {
     "name": "stderr",
     "output_type": "stream",
     "text": [
      "Clumping h7fpnD, 5983 variants, using EUR population reference\n",
      "\n",
      "Removing 5863 of 5983 variants due to LD with other variants or absence from LD reference panel\n",
      "\n",
      "Harmonising Type 2 diabetes || id:ebi-a-GCST006867 (ebi-a-GCST006867) and Parkinson disease || id:GCST009325 (GCST009325)\n",
      "\n",
      "Removing the following SNPs for being palindromic with intermediate allele frequencies:\n",
      "rs13234269, rs6494307, rs7619041\n",
      "\n",
      "Analysing 'ebi-a-GCST006867' on 'GCST009325'\n",
      "\n"
     ]
    },
    {
     "name": "stdout",
     "output_type": "stream",
     "text": [
      "\n",
      "Radial IVW\n",
      "\n",
      "                   Estimate  Std.Error  t value  Pr(>|t|)\n",
      "Effect (Mod.2nd) 0.03258841 0.03076947 1.059115 0.2895475\n",
      "Iterative        0.03258841 0.03076947 1.059115 0.2895475\n",
      "Exact (FE)       0.03319794 0.02677572 1.239852 0.2150300\n",
      "Exact (RE)       0.03306067 0.03135664 1.054343 0.2939358\n",
      "\n",
      "\n",
      "Residual standard error: 1.149 on 115 degrees of freedom\n",
      "\n",
      "F-statistic: 1.12 on 1 and 115 DF, p-value: 0.292\n",
      "Q-Statistic for heterogeneity: 151.8653 on 115 DF , p-value: 0.0121034\n",
      "\n",
      " Outliers detected \n",
      "Number of iterations = 2\n"
     ]
    },
    {
     "name": "stderr",
     "output_type": "stream",
     "text": [
      "Warning message in mr.raps.overdispersed.robust(b_exp, b_out, se_exp, se_out, loss.function, :\n",
      "“The estimated overdispersion parameter is very small. Consider using the simple model without overdispersion.”\n"
     ]
    },
    {
     "name": "stdout",
     "output_type": "stream",
     "text": [
      "\n",
      "Radial IVW\n",
      "\n",
      "                   Estimate  Std.Error  t value  Pr(>|t|)\n",
      "Effect (Mod.2nd) 0.03258841 0.03076947 1.059115 0.2895475\n",
      "Iterative        0.03258841 0.03076947 1.059115 0.2895475\n",
      "Exact (FE)       0.03319794 0.02677572 1.239852 0.2150300\n",
      "Exact (RE)       0.03306067 0.03088491 1.070447 0.2866595\n",
      "\n",
      "\n",
      "Residual standard error: 1.149 on 115 degrees of freedom\n",
      "\n",
      "F-statistic: 1.12 on 1 and 115 DF, p-value: 0.292\n",
      "Q-Statistic for heterogeneity: 151.8653 on 115 DF , p-value: 0.0121034\n",
      "\n",
      " Outliers detected \n",
      "Number of iterations = 2\n"
     ]
    },
    {
     "name": "stderr",
     "output_type": "stream",
     "text": [
      "Warning message in ggplot2::geom_segment(ggplot2::aes(x = 0, xend = cos(atan(r_object$IVW.coef[1])) * :\n",
      "“\u001b[1m\u001b[22mAll aesthetics have length 1, but the data has 11 rows.\n",
      "\u001b[36mℹ\u001b[39m Please consider using `annotate()` or provide this layer with data containing\n",
      "  a single row.”\n",
      "Warning message in ggplot2::geom_segment(ggplot2::aes(x = 0, xend = cos(atan(r_object$egger.coef[2, :\n",
      "“\u001b[1m\u001b[22mAll aesthetics have length 1, but the data has 11 rows.\n",
      "\u001b[36mℹ\u001b[39m Please consider using `annotate()` or provide this layer with data containing\n",
      "  a single row.”\n"
     ]
    },
    {
     "ename": "ERROR",
     "evalue": "Error in eval(substitute(select), nl, parent.frame()): objet 'intercept' introuvable\n",
     "output_type": "error",
     "traceback": [
      "Error in eval(substitute(select), nl, parent.frame()): objet 'intercept' introuvable\nTraceback:\n",
      "1. global_uv(api_use_ex = FALSE, api_use_out = FALSE, exposure_id = t2d_file_2018a, \n .     outcome_id = park_file_2019, exposure_useful_cols = t2d_useful_cols_2018a, \n .     outcome_useful_cols = park_useful_cols_2019)",
      "2. print(compare_to_paper(res, paper_results, api_use_ex))",
      "3. compare_to_paper(res, paper_results, api_use_ex)",
      "4. res[, !grepl(\"exposure$|outcome$\", names(res))] %>% subset(method != \n .     \"Wald ratio\") %>% subset(select = -c(b, se, Q, Q_df, Q_pval, \n .     intercept, intercept_se, intercept_pval, SNP)) %>% kable()",
      "5. kable(.)",
      "6. subset(., select = -c(b, se, Q, Q_df, Q_pval, intercept, intercept_se, \n .     intercept_pval, SNP))",
      "7. subset.data.frame(., select = -c(b, se, Q, Q_df, Q_pval, intercept, \n .     intercept_se, intercept_pval, SNP))",
      "8. eval(substitute(select), nl, parent.frame())",
      "9. eval(substitute(select), nl, parent.frame())"
     ]
    }
   ],
   "source": [
    "res_t2d_park <- global_uv(api_use_ex = FALSE, api_use_out = FALSE, \n",
    "                          exposure_id = t2d_file_2018a, outcome_id = park_file_2019, \n",
    "                          exposure_useful_cols = t2d_useful_cols_2018a, \n",
    "                          outcome_useful_cols = park_useful_cols_2019)"
   ]
  },
  {
   "cell_type": "code",
   "execution_count": 27,
   "id": "a6a69482",
   "metadata": {
    "vscode": {
     "languageId": "r"
    }
   },
   "outputs": [
    {
     "name": "stderr",
     "output_type": "stream",
     "text": [
      "Warning message in format_data(df, type = type, snps = snplist, header = TRUE, snp_col = useful_cols[1], :\n",
      "“eaf column is not numeric. Coercing...”\n",
      "Clumping DIZ36q, 37247 variants, using EUR population reference\n",
      "\n",
      "Removing 36924 of 37247 variants due to LD with other variants or absence from LD reference panel\n",
      "\n",
      "Harmonising Type 2 diabetes || id:32541925-GCST010555 (32541925-GCST010555) and Parkinson disease || id:GCST009325 (GCST009325)\n",
      "\n",
      "Removing the following SNPs for being palindromic with intermediate allele frequencies:\n",
      "rs10406327, rs10471048, rs10830963, rs10849094, rs10937721, rs11195508, rs11602873, rs117316450, rs11967262, rs12741141, rs12951967, rs1475655, rs1562398, rs17684074, rs2080090, rs2103132, rs2297508, rs2410767, rs243018, rs256904, rs28429551, rs2890156, rs34245505, rs34341, rs3757969, rs4083914, rs4845987, rs4865436, rs501510, rs545608, rs55853916, rs56348580, rs62112763, rs6459733, rs6728523, rs703981, rs7220167, rs74804697, rs75756987, rs76223293, rs838735, rs9304665\n",
      "\n",
      "Analysing '32541925-GCST010555' on 'GCST009325'\n",
      "\n"
     ]
    },
    {
     "name": "stdout",
     "output_type": "stream",
     "text": [
      "\n",
      "Radial IVW\n",
      "\n",
      "                    Estimate  Std.Error    t value  Pr(>|t|)\n",
      "Effect (Mod.2nd) -0.03172183 0.03217431 -0.9859365 0.3241643\n",
      "Iterative        -0.03172183 0.03217431 -0.9859365 0.3241643\n",
      "Exact (FE)       -0.03229780 0.02702478 -1.1951180 0.2320409\n",
      "Exact (RE)       -0.03214578 0.03367857 -0.9544878 0.3406630\n",
      "\n",
      "\n",
      "Residual standard error: 1.191 on 279 degrees of freedom\n",
      "\n",
      "F-statistic: 0.97 on 1 and 279 DF, p-value: 0.325\n",
      "Q-Statistic for heterogeneity: 395.4574 on 279 DF , p-value: 5.374388e-06\n",
      "\n",
      " Outliers detected \n",
      "Number of iterations = 2\n"
     ]
    },
    {
     "name": "stderr",
     "output_type": "stream",
     "text": [
      "Warning message in mr.raps.overdispersed.robust(b_exp, b_out, se_exp, se_out, loss.function, :\n",
      "“The estimated overdispersion parameter is very small. Consider using the simple model without overdispersion.”\n"
     ]
    },
    {
     "name": "stdout",
     "output_type": "stream",
     "text": [
      "\n",
      "Radial IVW\n",
      "\n",
      "                    Estimate  Std.Error    t value  Pr(>|t|)\n",
      "Effect (Mod.2nd) -0.03172183 0.03217431 -0.9859365 0.3241643\n",
      "Iterative        -0.03172183 0.03217431 -0.9859365 0.3241643\n",
      "Exact (FE)       -0.03229780 0.02702478 -1.1951180 0.2320409\n",
      "Exact (RE)       -0.03214578 0.03372682 -0.9531222 0.3413532\n",
      "\n",
      "\n",
      "Residual standard error: 1.191 on 279 degrees of freedom\n",
      "\n",
      "F-statistic: 0.97 on 1 and 279 DF, p-value: 0.325\n",
      "Q-Statistic for heterogeneity: 395.4574 on 279 DF , p-value: 5.374388e-06\n",
      "\n",
      " Outliers detected \n",
      "Number of iterations = 2\n"
     ]
    },
    {
     "name": "stderr",
     "output_type": "stream",
     "text": [
      "Warning message in export_forest_plot(dat, dir):\n",
      "“Too many SNPs to plot”\n",
      "Warning message in export_loo_plot(dat, dir):\n",
      "“Too many SNPs to plot”\n",
      "Warning message in ggplot2::geom_segment(ggplot2::aes(x = 0, xend = cos(atan(r_object$IVW.coef[1])) * :\n",
      "“\u001b[1m\u001b[22mAll aesthetics have length 1, but the data has 25 rows.\n",
      "\u001b[36mℹ\u001b[39m Please consider using `annotate()` or provide this layer with data containing\n",
      "  a single row.”\n",
      "Warning message in ggplot2::geom_segment(ggplot2::aes(x = 0, xend = cos(atan(r_object$egger.coef[2, :\n",
      "“\u001b[1m\u001b[22mAll aesthetics have length 1, but the data has 25 rows.\n",
      "\u001b[36mℹ\u001b[39m Please consider using `annotate()` or provide this layer with data containing\n",
      "  a single row.”\n"
     ]
    },
    {
     "ename": "ERROR",
     "evalue": "Error in eval(substitute(select), nl, parent.frame()): objet 'intercept' introuvable\n",
     "output_type": "error",
     "traceback": [
      "Error in eval(substitute(select), nl, parent.frame()): objet 'intercept' introuvable\nTraceback:\n",
      "1. global_uv(api_use_ex = FALSE, api_use_out = FALSE, exposure_id = t2d_file_2020, \n .     outcome_id = park_file_2019, exposure_useful_cols = t2d_useful_cols_2020, \n .     outcome_useful_cols = park_useful_cols_2019)",
      "2. print(compare_to_paper(res, paper_results, api_use_ex))",
      "3. compare_to_paper(res, paper_results, api_use_ex)",
      "4. res[, !grepl(\"exposure$|outcome$\", names(res))] %>% subset(method != \n .     \"Wald ratio\") %>% subset(select = -c(b, se, Q, Q_df, Q_pval, \n .     intercept, intercept_se, intercept_pval, SNP)) %>% kable()",
      "5. kable(.)",
      "6. subset(., select = -c(b, se, Q, Q_df, Q_pval, intercept, intercept_se, \n .     intercept_pval, SNP))",
      "7. subset.data.frame(., select = -c(b, se, Q, Q_df, Q_pval, intercept, \n .     intercept_se, intercept_pval, SNP))",
      "8. eval(substitute(select), nl, parent.frame())",
      "9. eval(substitute(select), nl, parent.frame())"
     ]
    }
   ],
   "source": [
    "res_t2d_park_2020 <- global_uv(api_use_ex = FALSE, api_use_out = FALSE, \n",
    "                            exposure_id = t2d_file_2020, outcome_id = park_file_2019, \n",
    "                            exposure_useful_cols = t2d_useful_cols_2020, \n",
    "                            outcome_useful_cols = park_useful_cols_2019)"
   ]
  },
  {
   "cell_type": "markdown",
   "id": "3cb21d09",
   "metadata": {},
   "source": [
    "## TC"
   ]
  },
  {
   "cell_type": "code",
   "execution_count": null,
   "id": "ee06df23",
   "metadata": {
    "vscode": {
     "languageId": "r"
    }
   },
   "outputs": [],
   "source": [
    "res_tc_park <- global_uv(api_use_ex = FALSE, api_use_out = FALSE, \n",
    "                          exposure_id = tc_file_2021, outcome_id = park_file_2019, \n",
    "                          exposure_useful_cols = tc_useful_cols_2021, \n",
    "                          outcome_useful_cols = park_useful_cols_2019)"
   ]
  },
  {
   "cell_type": "markdown",
   "id": "d72cba95",
   "metadata": {},
   "source": [
    "# MultiVariate MR"
   ]
  },
  {
   "cell_type": "markdown",
   "id": "33eb5f5e",
   "metadata": {},
   "source": [
    "## Final"
   ]
  },
  {
   "cell_type": "code",
   "execution_count": null,
   "id": "90bb6f00",
   "metadata": {
    "vscode": {
     "languageId": "r"
    }
   },
   "outputs": [],
   "source": [
    "res_t2d_ldlc_bmi <- global_mv(run_all_uvmr = TRUE, run_mvmr = TRUE, api_use = FALSE,\n",
    "                            exposure_id_list = c(bmi_file_2018b, t2d_file_2018a, ldlc_file_2021),\n",
    "                            exposure_useful_cols_list = data.frame(bmi_useful_cols_2018b, t2d_useful_cols_2018a, ldlc_useful_cols_2021),\n",
    "                            outcome_id = als_file_2021, \n",
    "                            outcome_useful_cols = als_useful_cols_2021, run_mr_presso = FALSE)"
   ]
  },
  {
   "cell_type": "code",
   "execution_count": null,
   "id": "3a9e47ab",
   "metadata": {
    "vscode": {
     "languageId": "r"
    }
   },
   "outputs": [],
   "source": [
    "res_t2d_tc_bmi <- global_mv(run_all_uvmr = TRUE, run_mvmr = TRUE, api_use = FALSE,\n",
    "                            exposure_id_list = c(bmi_file_2018b, t2d_file_2018a, tc_file_2021),\n",
    "                            exposure_useful_cols_list = data.frame(bmi_useful_cols_2018b, t2d_useful_cols_2018a, tc_useful_cols_2021),\n",
    "                            outcome_id = als_file_2021, \n",
    "                            outcome_useful_cols = als_useful_cols_2021, run_mr_presso = FALSE)"
   ]
  },
  {
   "cell_type": "code",
   "execution_count": null,
   "id": "67af2ad5",
   "metadata": {
    "vscode": {
     "languageId": "r"
    }
   },
   "outputs": [],
   "source": [
    "res_t2d_tc_bmi <- global_mv(run_all_uvmr = TRUE, run_mvmr = TRUE, api_use = FALSE,\n",
    "                            exposure_id_list = c(bmi_file_2018b, t2d_file_2018a, tc_file_2013),\n",
    "                            exposure_useful_cols_list = data.frame(bmi_useful_cols_2018b, t2d_useful_cols_2018a, tc_useful_cols_2013),\n",
    "                            outcome_id = als_file_2021, \n",
    "                            outcome_useful_cols = als_useful_cols_2021, run_mr_presso = TRUE)"
   ]
  },
  {
   "cell_type": "code",
   "execution_count": null,
   "id": "e375ebe3",
   "metadata": {
    "vscode": {
     "languageId": "r"
    }
   },
   "outputs": [],
   "source": [
    "print_mvmr_res(res_t2d_tc_bmi)"
   ]
  },
  {
   "cell_type": "code",
   "execution_count": null,
   "id": "71c084d8",
   "metadata": {
    "vscode": {
     "languageId": "r"
    }
   },
   "outputs": [],
   "source": [
    "res_lipids_api <- global_mv(run_all_uvmr = TRUE, run_mvmr = TRUE, api_use = TRUE,\n",
    "                            exposure_id_list = c(id_hdlc, id_ldlc, id_trig),\n",
    "                            outcome_id = id_chd)"
   ]
  },
  {
   "cell_type": "code",
   "execution_count": null,
   "id": "40b22d8b",
   "metadata": {
    "vscode": {
     "languageId": "r"
    }
   },
   "outputs": [],
   "source": [
    "res_lipids_local <- global_mv(run_all_uvmr = FALSE, run_mvmr = TRUE, api_use = FALSE,\n",
    "                                exposure_id_list = c(hdlc_file_api, ldlc_file_api, trig_file_api), \n",
    "                                outcome_id = chd_file,\n",
    "                                exposure_useful_cols_list = data.frame(hm_useful_cols, hm_useful_cols, hm_useful_cols),\n",
    "                                outcome_useful_cols = chd_useful_cols)"
   ]
  },
  {
   "cell_type": "code",
   "execution_count": null,
   "id": "e5cdfcf7",
   "metadata": {
    "vscode": {
     "languageId": "r"
    }
   },
   "outputs": [],
   "source": [
    "res_lipids2_local <- global_mv(run_all_uvmr = TRUE, run_mvmr = TRUE, api_use = FALSE,\n",
    "                                exposure_id_list = c(ldlc_file_api, trig_file_api, alpb_file_2021), \n",
    "                                outcome_id = chd_file,\n",
    "                                exposure_useful_cols_list = data.frame(hm_useful_cols, hm_useful_cols, hm_useful_cols),\n",
    "                                outcome_useful_cols = chd_useful_cols)"
   ]
  },
  {
   "cell_type": "code",
   "execution_count": null,
   "id": "264580d7",
   "metadata": {
    "vscode": {
     "languageId": "r"
    }
   },
   "outputs": [],
   "source": [
    "# TC + LDLC on ALS (Local)\n",
    "res_tc_ldlc <- global_mv(run_all_uvmr = TRUE, run_mvmr = TRUE, api_use = FALSE,\n",
    "                        exposure_id_list = c(tc_file_2013, ldlc_file_2013), \n",
    "                        outcome_id = als_file_2021,\n",
    "                        exposure_useful_cols_list = data.frame(tc_useful_cols_2013, ldlc_useful_cols_2013),\n",
    "                        outcome_useful_cols = als_useful_cols_2021)"
   ]
  },
  {
   "cell_type": "code",
   "execution_count": null,
   "id": "9d30fb48",
   "metadata": {
    "vscode": {
     "languageId": "r"
    }
   },
   "outputs": [],
   "source": [
    "print_mvmr_res(res_tc_ldlc)"
   ]
  },
  {
   "cell_type": "code",
   "execution_count": null,
   "id": "10a8ddc2",
   "metadata": {
    "vscode": {
     "languageId": "r"
    }
   },
   "outputs": [],
   "source": [
    "# TC 2013 vs TC 2021 on ALS (Local)\n",
    "res_tc_1_2 <- global_mv(run_all_uvmr = TRUE, run_mvmr = FALSE, api_use = FALSE,\n",
    "                        exposure_id_list = c(tc_file_2013, tc_file_2021),\n",
    "                        outcome_id = als_file_2021,\n",
    "                        exposure_useful_cols_list = data.frame(tc_useful_cols_2013, tc_useful_cols_2021),\n",
    "                        outcome_useful_cols = als_useful_cols_2021)"
   ]
  },
  {
   "cell_type": "code",
   "execution_count": null,
   "id": "618a3da6",
   "metadata": {
    "vscode": {
     "languageId": "r"
    }
   },
   "outputs": [],
   "source": [
    "# Diabete + Chol on ALS (Local)\n",
    "res_t2d_tc <- global_mv(run_all_uvmr = TRUE, run_mvmr = TRUE, api_use = FALSE,\n",
    "                            exposure_id_list = c(t2d_file_2018a, tc_file_2013), \n",
    "                            outcome_id = als_file_2021,\n",
    "                            exposure_useful_cols_list = data.frame(t2d_useful_cols_2018a, tc_useful_cols_2013),\n",
    "                            outcome_useful_cols = als_useful_cols_2021)"
   ]
  },
  {
   "cell_type": "code",
   "execution_count": null,
   "id": "84396729",
   "metadata": {
    "vscode": {
     "languageId": "r"
    }
   },
   "outputs": [],
   "source": [
    "print_mvmr_res(res_t2d_tc)"
   ]
  },
  {
   "cell_type": "code",
   "execution_count": null,
   "id": "2423702c",
   "metadata": {
    "vscode": {
     "languageId": "r"
    }
   },
   "outputs": [],
   "source": [
    "# BMI + BF% on ALS (Local)\n",
    "res_bmi_bf <- global_mv(run_all_uvmr = TRUE, run_mvmr = TRUE, api_use = FALSE,\n",
    "                        exposure_id_list = c(bmi_file, bf_file),\n",
    "                        exposure_useful_cols_list = data.frame(bmi_useful_cols, bf_useful_cols),\n",
    "                        outcome_id = als_file_2018, outcome_useful_cols = als_useful_cols_2018, \n",
    "                        snplist = list(snplist_bmi, snplist_bf))"
   ]
  },
  {
   "cell_type": "markdown",
   "id": "4d492260",
   "metadata": {},
   "source": [
    "## Tests plot"
   ]
  },
  {
   "cell_type": "code",
   "execution_count": 16,
   "id": "2e7ac335",
   "metadata": {
    "vscode": {
     "languageId": "r"
    }
   },
   "outputs": [],
   "source": [
    "# TC + LDLC on ALS (Local)\n",
    "api_use <- FALSE\n",
    "exposure_id_list <- c(tc_file_2013, ldlc_file_2013)\n",
    "outcome_id <- als_file_2021\n",
    "exposure_useful_cols_list <- data.frame(tc_useful_cols_2013, ldlc_useful_cols_2013)\n",
    "outcome_useful_cols <- als_useful_cols_2021\n",
    "\n",
    "snplist <- NULL # A tester peut-être\n",
    "action <- 2\n",
    "allow_palindromes <- 1\n",
    "clump_r2 <- 0.001\n",
    "clump_kb <- 10000\n",
    "pval <- 5e-8\n",
    "\n",
    "intercept <- FALSE\n",
    "instrument_specific <- FALSE\n",
    "plots <- FALSE\n",
    "\n",
    "pop <- \"EUR\"\n",
    "plink_bin <- genetics.binaRies::get_plink_binary()\n",
    "bfile <- paste0(normalizePath(paste0(data_dir, \"/LD_ref\")), \"/EUR\")\n",
    "\n",
    "## Parameters MR analysis\n",
    "run_mvmr <- TRUE\n",
    "# UV param\n",
    "nboot <- 10000\n",
    "over_dispersion <- FALSE\n",
    "run_mr_presso <- FALSE\n",
    "# MV param\n",
    "intercept <- FALSE\n",
    "instrument_specific <- TRUE\n",
    "plots <- FALSE"
   ]
  },
  {
   "cell_type": "code",
   "execution_count": null,
   "id": "1f49d4f2",
   "metadata": {
    "vscode": {
     "languageId": "r"
    }
   },
   "outputs": [],
   "source": [
    "res_lipids_api <- global_mv(run_all_uvmr = FALSE, run_mvmr = TRUE, api_use = TRUE,\n",
    "                            exposure_id_list = c(id_hdlc, id_ldlc, id_trig),\n",
    "                            outcome_id = id_chd)"
   ]
  },
  {
   "cell_type": "code",
   "execution_count": 10,
   "id": "be0742ec",
   "metadata": {
    "vscode": {
     "languageId": "r"
    }
   },
   "outputs": [],
   "source": [
    "res_mv <- res_lipids_api$mv\n",
    "res_bind <- res_lipids_api$uv"
   ]
  },
  {
   "cell_type": "code",
   "execution_count": null,
   "id": "cc0d4599",
   "metadata": {
    "vscode": {
     "languageId": "r"
    }
   },
   "outputs": [],
   "source": [
    "res <- bind_rows(res_mv, res_bind) %>%\n",
    "        group_by(id.exposure) %>%\n",
    "        mutate(group = cur_group_id(),\n",
    "                group = group + 0.2 * (row_number() - 1)) %>%\n",
    "        mutate(label = paste(\"P-value:\", signif(pval, digits = 3), \"\\n#SNPs:\", nsnp))\n",
    "\n",
    "# Plotting\n",
    "ggplot(res, aes(x = or, y = group, color = mv)) +\n",
    "        geom_point(size = 3) +\n",
    "        geom_errorbar(aes(xmin = or_lci95, xmax = or_uci95), width = 0.05) +\n",
    "        scale_color_manual(values = c(\"blue\", \"red\")) +\n",
    "        scale_y_continuous(breaks = 1:length(unique(res$exposure)) + 0.05, \n",
    "                        labels = unique(res$exposure)) +\n",
    "        geom_vline(xintercept = 1, linetype = \"dashed\", color = \"gray\") +\n",
    "        labs(color = \"MV\", x = paste0(\"Estimate (95% CI) on \", res$outcome[1]), y = \"\") +\n",
    "        # Add annotations as text on the side\n",
    "        geom_text(aes(x = max(or_uci95) + 0.1, label = label), \n",
    "                hjust = 0, vjust = 0.3, size = 4, color = \"black\") +\n",
    "        # Adjust the x-axis limits to make space for the annotations\n",
    "        xlim(min(res$or_lci95), max(res$or_uci95) + 1.5) +\n",
    "        theme(length(unique(res$exposure))/2)"
   ]
  },
  {
   "cell_type": "code",
   "execution_count": null,
   "id": "f8d2e0fa",
   "metadata": {
    "vscode": {
     "languageId": "r"
    }
   },
   "outputs": [],
   "source": [
    "res <- bind_rows(res_mv, res_bind) %>%\n",
    "        group_by(id.exposure) %>%\n",
    "        fill(everything(), .direction = \"down\")\n",
    "\n",
    "res$mv <- factor(res$mv, levels = c(TRUE, FALSE))\n",
    "res$exposure <- factor(res$exposure, levels = res_mv$exposure)\n",
    "\n",
    "model_names = c('TRUE' = \"Multivariable\", 'FALSE' = \"Univariable\")\n",
    "\n",
    "# Create the plot\n",
    "plot <- ggplot(res, aes(x = or, y = exposure, color = mv)) +\n",
    "  geom_point(shape = 15, size = 4) +  # Fixed size for points\n",
    "  geom_errorbarh(aes(xmin = or_lci95, xmax = or_uci95), height = 0.1) +\n",
    "  geom_vline(xintercept = 1, linetype = \"dashed\") +\n",
    "  scale_color_manual(values = c(\"blue\", \"red\")) +\n",
    "  facet_wrap(~ mv, scales = \"free_y\", ncol = 1, strip.position = \"right\", \n",
    "             labeller = labeller(mv = model_names)) +\n",
    "  labs(x = paste(\"Odds Ratio (with 95% CI) on \", res$outcome[1], \" for each trait\"),\n",
    "       y = \"\",\n",
    "       title = \"Traits\") +\n",
    "  theme_minimal() +\n",
    "  theme(plot.background = element_rect(fill = \"white\"),\n",
    "        panel.grid.major = element_blank(), # Remove grid\n",
    "        panel.grid.minor = element_blank(), # Remove minor grid\n",
    "        panel.border = element_blank(), # Remove border\n",
    "        axis.line.x = element_line(color = \"black\"), # Keep only x-axis\n",
    "        axis.text.y = element_text(size = 10, hjust = 0), # Display y-axis text for traits\n",
    "        axis.ticks.y = element_blank(), # Remove y-axis ticks\n",
    "        legend.position = \"none\", # Remove legend\n",
    "        strip.text = element_text(face = \"bold\", size = 14, hjust = 0), # Shift titles left\n",
    "        plot.title = element_text(face = \"bold\", size = 16, hjust = -0.3)) # Shift plot title left\n",
    "\n",
    "\n",
    "# Prepare the table with Odds Ratios [95% CI] and P-values\n",
    "data_table <- res %>%\n",
    "     mutate('Odds Ratio [95% CI]' = sprintf(\"%.2f [%.2f, %.2f]\", or, or_lci95, or_uci95),\n",
    "            'P-value' = format(pval, scientific = TRUE, digits = 3),\n",
    "            'SNPs' = paste0(nsnp, \" SNPs\")) %>%\n",
    "     select(exposure, mv, 'Odds Ratio [95% CI]', 'P-value', 'SNPs') %>%\n",
    "     # Convert to long format for table presentation\n",
    "     pivot_longer(cols = c('Odds Ratio [95% CI]', 'P-value', 'SNPs'), \n",
    "                  names_to = \"Metric\", values_to = \"Value\")\n",
    "\n",
    "# Generate the table plot\n",
    "table_plot <- ggplot(data_table, aes(x = Metric, y = exposure, label = Value, color = mv)) +\n",
    "  geom_text(size = 4, hjust = 0) +\n",
    "  facet_wrap(~ mv, scales = \"free_y\", ncol = 1) +\n",
    "  scale_color_manual(values = c(\"blue\", \"red\")) +\n",
    "  theme_void() +\n",
    "  theme(plot.background = element_rect(fill = \"white\"),\n",
    "        strip.text = element_blank(),\n",
    "        panel.spacing.y = unit(1, \"lines\"),\n",
    "        plot.margin = margin(0, 0, 0, 0, \"cm\"),\n",
    "        legend.position = \"none\") # Remove legend\n",
    "\n",
    "# Add column headers manually by creating a small table\n",
    "headers <- data.frame(\n",
    "  Metric = c(\"Odds Ratio [95% CI]\", \"P-value\", \"SNPs\"),\n",
    "  y = 1,  # Dummy y value\n",
    "  label = c(\"OR [95% CI]\", \"P-value\", \"SNPs\")\n",
    ")\n",
    "\n",
    "header_plot <- ggplot(headers, aes(x = Metric, y = y, label = label)) +\n",
    "  geom_text(size = 5, hjust = 0, fontface = \"bold\") +\n",
    "  theme_void() +\n",
    "  theme(plot.background = element_rect(fill = \"white\"),\n",
    "        plot.margin = margin(0, 0, 0, 0, \"cm\"))\n",
    "\n",
    "# Combine the headers, table, and plot\n",
    "final_plot <- plot_grid(\n",
    "  plot, \n",
    "  plot_grid(header_plot, table_plot, nrow = 2, rel_heights = c(0.1, 1), align = 'v'), \n",
    "  nrow = 1,\n",
    "  rel_widths = c(1.5, 1))\n",
    "\n",
    "# Export each plot as a PNG image\n",
    "dir <- paste0(output_dir, gsub(\"[ /]\", \"-\", res$outcome[1]))\n",
    "if (!dir.exists(dir)) dir.create(dir, recursive = TRUE)\n",
    "\n",
    "if (api_use) {\n",
    "        ext <- \"API\"\n",
    "} else {\n",
    "        ext <- \"local\"\n",
    "}\n",
    "\n",
    "filename <- paste0(dir,\n",
    "                \"/MVMR_plot\", \n",
    "                \"_\",\n",
    "                gsub(\" \", \"_\", sapply(strsplit(na.omit(levels(res$exposure)), \"\\\\|\"), \n",
    "                        function(x) x[1]) %>% paste(collapse = \"\")),\n",
    "                ext,\n",
    "                \".png\")\n",
    "\n",
    "# Save or display the plot\n",
    "output_width <- 12  # Width in inches\n",
    "output_height <- 6  # Height in inches\n",
    "ggsave(filename, final_plot, width = output_width, height = output_height, dpi = 300)"
   ]
  },
  {
   "cell_type": "code",
   "execution_count": null,
   "id": "403a607c",
   "metadata": {
    "vscode": {
     "languageId": "r"
    }
   },
   "outputs": [],
   "source": [
    "res_list <- global_mv(run_all_uvmr = TRUE, run_mvmr = TRUE, api_use = TRUE,\n",
    "                            exposure_id_list = c(id_hdlc, id_ldlc, id_trig),\n",
    "                            outcome_id = id_chd)\n",
    "res <- res_list$res\n",
    "dat <- res_list$dat\n",
    "api_use_ex <- res_list$api_use_ex\n",
    "param_mr <- res_list$param_mr\n",
    "method_list <- res_list$method_list"
   ]
  },
  {
   "cell_type": "code",
   "execution_count": 186,
   "id": "a5eede7e",
   "metadata": {
    "vscode": {
     "languageId": "r"
    }
   },
   "outputs": [],
   "source": [
    "if (api_use_ex) {\n",
    "        ext <- \"_API\"\n",
    "} else {\n",
    "        ext <- \"_local\"\n",
    "}\n",
    "\n",
    "# Create the output directory if it doesn't exist\n",
    "dir <- paste0(output_dir,\n",
    "                gsub(\"[ /]\", \"-\", dat$outcome[1]), \n",
    "                \"/\", \n",
    "                gsub(\"[ /]\", \"-\", dat$exposure[1]),\n",
    "                ext)\n",
    "if (!dir.exists(dir)) dir.create(dir, recursive = TRUE)"
   ]
  },
  {
   "cell_type": "code",
   "execution_count": 228,
   "id": "46fd2801",
   "metadata": {
    "vscode": {
     "languageId": "r"
    }
   },
   "outputs": [],
   "source": [
    "plot <- ggplot(generate_odds_ratios(res), aes(x = or, y = method)) +\n",
    "        geom_point(shape = 15, size = 4, color = 'red') +  # Fixed size for points\n",
    "        geom_errorbarh(aes(xmin = or_lci95, xmax = or_uci95), height = 0.1, color = 'red') +\n",
    "        geom_vline(xintercept = 1, linetype = \"dashed\", color = \"gray\") +\n",
    "        labs(x = paste(\"Odds ratio (95% CI) for \", \n",
    "                        res$exposure[1], \n",
    "                        \" on \",\n",
    "                        res$outcome[1]), \n",
    "                y = \"\",\n",
    "                title = \"Methods\") +\n",
    "        #theme_bw()\n",
    "        theme_minimal() +\n",
    "        theme(plot.background = element_rect(fill = \"white\"),\n",
    "                panel.grid.major = element_blank(), # Remove grid\n",
    "                panel.grid.minor = element_blank(), # Remove minor grid\n",
    "                panel.border = element_blank(), # Remove border\n",
    "                axis.line.x = element_line(color = \"black\"), # Keep only x-axis\n",
    "                axis.text.y = element_text(size = 10, hjust = 0), # Display y-axis text for traits\n",
    "                axis.ticks.y = element_blank(), # Remove y-axis ticks\n",
    "                legend.position = \"none\", # Remove legend\n",
    "                strip.text = element_text(face = \"bold\", size = 14, hjust = 0), # Shift titles left\n",
    "                plot.title = element_text(face = \"bold\", size = 16, hjust = -0.7)) # Shift plot title left\n",
    "\n",
    "# Prepare the table with Odds Ratios [95% CI] and P-values\n",
    "data_table <- res %>%\n",
    "     mutate('Odds Ratio [95% CI]' = sprintf(\"%.2f [%.2f, %.2f]\", or, or_lci95, or_uci95),\n",
    "            'P-value' = format(pval, digits = 4),\n",
    "            'SNPs' = paste0(nsnp, \" SNPs\")) %>%\n",
    "     select(method, 'Odds Ratio [95% CI]', 'P-value', 'SNPs') %>%\n",
    "     # Convert to long format for table presentation\n",
    "     pivot_longer(cols = c('Odds Ratio [95% CI]', 'P-value', 'SNPs'), \n",
    "                  names_to = \"Metric\", values_to = \"Value\")\n",
    "\n",
    "# Generate the table plot\n",
    "table_plot <- ggplot(data_table, aes(x = Metric, y = method, label = Value)) +\n",
    "  geom_text(size = 4, hjust = 0) +\n",
    "  theme_void() +\n",
    "  theme(plot.background = element_rect(fill = \"white\"),\n",
    "        strip.text = element_blank(),\n",
    "        panel.spacing.y = unit(1, \"lines\"),\n",
    "        plot.margin = margin(0, 0, 0, 0, \"cm\"),\n",
    "        legend.position = \"none\") # Remove legend\n",
    "\n",
    "# Add column headers manually by creating a small table\n",
    "headers <- data.frame(\n",
    "  Metric = c(\"Odds Ratio [95% CI]\", \"P-value\", \"SNPs\"),\n",
    "  y = 1,  # Dummy y value\n",
    "  label = c(\"OR [95% CI]\", \"P-value\", \"SNPs\")\n",
    ")\n",
    "\n",
    "header_plot <- ggplot(headers, aes(x = Metric, y = y, label = label)) +\n",
    "  geom_text(size = 5, hjust = 0, fontface = \"bold\") +\n",
    "  theme_void() +\n",
    "  theme(plot.background = element_rect(fill = \"white\"),\n",
    "        plot.margin = margin(0, 0, 0, 0, \"cm\"))\n",
    "\n",
    "# Combine the headers, table, and plot\n",
    "final_plot <- plot_grid(\n",
    "  plot, \n",
    "  plot_grid(header_plot, table_plot, nrow = 2, rel_heights = c(0.1, 1), align = 'v'), \n",
    "  nrow = 1,\n",
    "  rel_widths = c(1.5, 1))\n",
    "\n",
    "filename <- paste0(dir, \"/mr_results_plot.png\")\n",
    "\n",
    "# Save or display the plot\n",
    "output_width <- 12  # Width in inches\n",
    "output_height <- 6  # Height in inches\n",
    "ggsave(filename, final_plot, width = output_width, height = output_height, dpi = 300)"
   ]
  },
  {
   "cell_type": "markdown",
   "id": "8c91f38c",
   "metadata": {},
   "source": [
    "# Autres"
   ]
  },
  {
   "cell_type": "markdown",
   "id": "f388b182",
   "metadata": {},
   "source": [
    "## T2D on Lipids"
   ]
  },
  {
   "cell_type": "code",
   "execution_count": null,
   "id": "9e47326a",
   "metadata": {
    "vscode": {
     "languageId": "r"
    }
   },
   "outputs": [],
   "source": [
    "dat_t2d_tc <- data_import(api_use_ex = FALSE, api_use_out = FALSE, \n",
    "                            exposure_id = t2d_file_2018a, outcome_id = tc_file_2021, \n",
    "                            exposure_useful_cols = t2d_useful_cols_2018a, \n",
    "                            outcome_useful_cols = tc_useful_cols_2021)"
   ]
  },
  {
   "cell_type": "code",
   "execution_count": null,
   "id": "e88cd50e",
   "metadata": {
    "vscode": {
     "languageId": "r"
    }
   },
   "outputs": [],
   "source": [
    "res_list_t2d_ldlc <- global_uv(api_use_ex = FALSE, api_use_out = FALSE, \n",
    "                            exposure_id = t2d_file_2018a, outcome_id = ldlc_file_2021, \n",
    "                            exposure_useful_cols = t2d_useful_cols_2018a, \n",
    "                            outcome_useful_cols = ldlc_useful_cols_2021)"
   ]
  },
  {
   "cell_type": "markdown",
   "id": "3ea4562e",
   "metadata": {},
   "source": [
    "## Plot GWAS"
   ]
  },
  {
   "cell_type": "code",
   "execution_count": null,
   "id": "cbf1c8e2",
   "metadata": {
    "vscode": {
     "languageId": "r"
    }
   },
   "outputs": [],
   "source": [
    "dat_t2d <- data_import(api_use_ex = TRUE, api_use_out = TRUE, \n",
    "                        exposure_id = id_t2d_2018, outcome_id = id_als_2018) %>%\n",
    "           distinct(SNP, .keep_all = TRUE) # Remove duplicates SNPs\n",
    "ex_dat_t2d <- tophits(id = id_t2d_2018, pval = 5e-07, clump = 0)"
   ]
  },
  {
   "cell_type": "code",
   "execution_count": null,
   "id": "a58cab71",
   "metadata": {
    "vscode": {
     "languageId": "r"
    }
   },
   "outputs": [],
   "source": [
    "plot_manhattan_snp(snpList_t2d, dat_t2d, ex_dat_t2d)"
   ]
  },
  {
   "cell_type": "code",
   "execution_count": null,
   "id": "e3bd0b1e",
   "metadata": {
    "vscode": {
     "languageId": "r"
    }
   },
   "outputs": [],
   "source": [
    "fig_qq(pvalues = mv_dat$exposure_pval[,2], ymax = 175, point_size = 2)"
   ]
  },
  {
   "cell_type": "markdown",
   "id": "54f5e100",
   "metadata": {},
   "source": [
    "## Import LD Matrix of UKBB"
   ]
  },
  {
   "cell_type": "code",
   "execution_count": null,
   "id": "07b5c700",
   "metadata": {
    "vscode": {
     "languageId": "r"
    }
   },
   "outputs": [],
   "source": [
    "dat_tc_api <- global_uv(TRUE, TRUE,\n",
    "                        id_tc_2013_2, id_als_2018,\n",
    "                        over_dispersion = FALSE)"
   ]
  },
  {
   "cell_type": "code",
   "execution_count": null,
   "id": "d6240fc2",
   "metadata": {
    "vscode": {
     "languageId": "r"
    }
   },
   "outputs": [],
   "source": [
    "missing_snps <- setdiff(dat_tc_api$SNP, ld_reflookup(dat_tc_api$SNP))"
   ]
  },
  {
   "cell_type": "code",
   "execution_count": null,
   "id": "5b7a6c21",
   "metadata": {
    "vscode": {
     "languageId": "r"
    }
   },
   "outputs": [],
   "source": [
    "query_dat <- subset(dat_tc_api, SNP %in% missing_snps) %>% \n",
    "                rename(CHR = chr, POS = pos) %>%\n",
    "                select(CHR, POS, SNP) %>%\n",
    "                data.table()            "
   ]
  },
  {
   "cell_type": "code",
   "execution_count": null,
   "id": "fb99990f",
   "metadata": {
    "vscode": {
     "languageId": "r"
    }
   },
   "outputs": [],
   "source": [
    "locus_dir <- file.path(tempdir())"
   ]
  },
  {
   "cell_type": "code",
   "execution_count": null,
   "id": "bd0be7c9",
   "metadata": {
    "vscode": {
     "languageId": "r"
    }
   },
   "outputs": [],
   "source": [
    "query_dat"
   ]
  },
  {
   "cell_type": "code",
   "execution_count": null,
   "id": "13ad80fb",
   "metadata": {
    "vscode": {
     "languageId": "r"
    }
   },
   "outputs": [],
   "source": [
    "LD_list <- echoLD:::get_LD_UKB(query_dat = query_dat, locus_dir = locus_dir)"
   ]
  },
  {
   "cell_type": "code",
   "execution_count": null,
   "id": "23739803",
   "metadata": {
    "vscode": {
     "languageId": "r"
    }
   },
   "outputs": [],
   "source": [
    "read.delim(locus_dir)"
   ]
  },
  {
   "cell_type": "code",
   "execution_count": null,
   "id": "ed3663f7",
   "metadata": {
    "vscode": {
     "languageId": "r"
    }
   },
   "outputs": [],
   "source": [
    "unlink(locus_dir)"
   ]
  },
  {
   "cell_type": "code",
   "execution_count": null,
   "id": "eebf34fd",
   "metadata": {
    "vscode": {
     "languageId": "r"
    }
   },
   "outputs": [],
   "source": [
    "bucket <- aws.s3::get_bucket(bucket = \"s3://broad-alkesgroup-ukbb-ld/\")"
   ]
  },
  {
   "cell_type": "code",
   "execution_count": null,
   "id": "dbe0e6a5",
   "metadata": {
    "vscode": {
     "languageId": "r"
    }
   },
   "outputs": [],
   "source": [
    "lapply(bucket, function(x) x$Key) %>% glimpse()"
   ]
  },
  {
   "cell_type": "markdown",
   "id": "59fabca9",
   "metadata": {},
   "source": [
    "## Retrieve SNP ids from chr:pos with biomaRt"
   ]
  },
  {
   "cell_type": "code",
   "execution_count": null,
   "id": "db858bc3",
   "metadata": {
    "vscode": {
     "languageId": "r"
    }
   },
   "outputs": [],
   "source": [
    "library(biomaRt)\n",
    "listEnsembl()"
   ]
  },
  {
   "cell_type": "code",
   "execution_count": null,
   "id": "c01bd436",
   "metadata": {
    "vscode": {
     "languageId": "r"
    }
   },
   "outputs": [],
   "source": [
    "snpMart <- useEnsembl(biomart = \"snps\", dataset = \"hsapiens_snp\")"
   ]
  },
  {
   "cell_type": "code",
   "execution_count": null,
   "id": "36f934d1",
   "metadata": {
    "vscode": {
     "languageId": "r"
    }
   },
   "outputs": [],
   "source": [
    "listFilters(snpMart) %>% head()"
   ]
  },
  {
   "cell_type": "code",
   "execution_count": null,
   "id": "87a9d041",
   "metadata": {
    "vscode": {
     "languageId": "r"
    }
   },
   "outputs": [],
   "source": [
    "listAttributes(snpMart) %>% head()"
   ]
  },
  {
   "cell_type": "code",
   "execution_count": null,
   "id": "bf0e9e6f",
   "metadata": {
    "vscode": {
     "languageId": "r"
    }
   },
   "outputs": [],
   "source": [
    "temp1 <- head(temp)"
   ]
  },
  {
   "cell_type": "code",
   "execution_count": null,
   "id": "a42313a8",
   "metadata": {
    "vscode": {
     "languageId": "r"
    }
   },
   "outputs": [],
   "source": [
    "coords <- temp1[, c('Chr', 'Pos')] %>% as.list()"
   ]
  },
  {
   "cell_type": "code",
   "execution_count": null,
   "id": "2a826029",
   "metadata": {
    "vscode": {
     "languageId": "r"
    }
   },
   "outputs": [],
   "source": [
    "glimpse(coords)"
   ]
  },
  {
   "cell_type": "code",
   "execution_count": null,
   "id": "49846410",
   "metadata": {
    "vscode": {
     "languageId": "r"
    }
   },
   "outputs": [],
   "source": [
    "# submit the query\n",
    "getBM(attributes = c('refsnp_id', 'chrom_strand', 'chrom_start', 'allele'),\n",
    "  filters = c('strand', 'start'), \n",
    "  values = coords, \n",
    "  mart = snpMart)"
   ]
  },
  {
   "cell_type": "markdown",
   "id": "b49ea278",
   "metadata": {},
   "source": [
    "other method"
   ]
  },
  {
   "cell_type": "code",
   "execution_count": 6,
   "id": "8334593e",
   "metadata": {
    "vscode": {
     "languageId": "r"
    }
   },
   "outputs": [],
   "source": [
    "library(vcfR)\n",
    "# download all variant information for homo sapiens GRCh37 from Ensembl\n",
    "destfile <- paste(data_dir, \"/LD_ref/1000GENOMES-phase_3.vcf.gz\",sep=\"\")"
   ]
  },
  {
   "cell_type": "code",
   "execution_count": null,
   "id": "e2b5bbe1",
   "metadata": {
    "vscode": {
     "languageId": "r"
    }
   },
   "outputs": [],
   "source": [
    "vcf <- read.vcfR(destfile)\n",
    "vars = vcf@fix"
   ]
  },
  {
   "cell_type": "code",
   "execution_count": null,
   "id": "35cff633",
   "metadata": {
    "vscode": {
     "languageId": "r"
    }
   },
   "outputs": [],
   "source": [
    "# format output file\n",
    "vars = as.data.frame(vars[,c(\"CHROM\",\"POS\",\"ID\",\"REF\",\"ALT\")])\n",
    "vars$VAR_ID = paste(vars$CHROM,vars$POS,vars$REF,vars$ALT,sep=\"_\")\n",
    "vars = vars[,c(\"VAR_ID\",\"ID\")]\n",
    "names(vars) = c(\"VAR_ID\",\"rsID\")"
   ]
  },
  {
   "cell_type": "code",
   "execution_count": null,
   "id": "17cdcdea",
   "metadata": {
    "vscode": {
     "languageId": "r"
    }
   },
   "outputs": [],
   "source": [
    "write.table(vars,file=paste(output_dir,\"VARID_rsID_map_file.txt\",sep=\"\"), append = F, quote = F, sep = \"\\t\",\n",
    "            eol = \"\\n\", na = \"NA\", dec = \".\", row.names = F,\n",
    "            col.names = F, qmethod = c(\"escape\", \"double\"))\n",
    "\n"
   ]
  },
  {
   "cell_type": "markdown",
   "id": "14d309f0",
   "metadata": {},
   "source": [
    "## SIMEX Correction"
   ]
  },
  {
   "cell_type": "code",
   "execution_count": null,
   "id": "e4abfa1a",
   "metadata": {
    "vscode": {
     "languageId": "r"
    }
   },
   "outputs": [],
   "source": [
    "#Run the simex correction for each phenotype\n",
    "#install.packages(\"simex\")\n",
    "#load package\n",
    "library(simex) \n",
    "\n",
    "#get wellbeing instrument\n",
    "exposure_dat <- extract_instruments(outcomes=c(1009), p1 = 5e-05)\n",
    "exposure_dat <- clump_data(exposure_dat, clump_kb = 10000, clump_r2 = 0.001)\n",
    "\n",
    "#create empty dataframe to store output\n",
    "simexegger<-c()\n",
    "\n",
    "cols<-c(2,7,299,300,301,798)\n",
    "\n",
    "#run simex in a loop\n",
    "for(i in 1:length(cols)){\n",
    "\tVars<-cols[i]\n",
    "\toutcome_dat <- extract_outcome_data(exposure_dat$SNP, c(Vars), proxies = 1, rsq = 0.8, align_alleles = 1, palindromes = 1, maf_threshold = 0.3)\n",
    "\tdat <- harmonise_data(exposure_dat, outcome_dat, action = 2)\n",
    "\tstr(dat)\n",
    "\n",
    "\t#Rename required columns\n",
    "\tdat$BetaXG<-dat$beta.exposure\n",
    "\tdat$seBetaXG<-dat$se.exposure\n",
    "\tdat$BetaYG<-dat$beta.outcome\n",
    "\tdat$seBetaYG<-dat$se.outcome\n",
    "\tBetaXG <- dat$BetaXG\n",
    "\tBetaYG <- dat$BetaYG\n",
    "\tseBetaXG <- dat$seBetaXG\n",
    "\tseBetaYG <- dat$seBetaYG\n",
    "\n",
    "\n",
    "\tBYG <- BetaYG*sign(BetaXG)# Pre-processing steps to ensure all gene--exposure estimates are positive\n",
    "\tBXG <- abs(BetaXG)         \n",
    "\n",
    "\t# MR-Egger regression (unweighted)\n",
    "\tFit2 <- lm(BYG~BXG,x=TRUE,y=TRUE) \n",
    "\n",
    "\t# Simulation extrapolation \n",
    "\tmod.sim2 <- simex(Fit2,B=1000, measurement.error = seBetaXG, SIMEXvariable=\"BXG\",fitting.method =\"quad\",asymptotic=\"FALSE\") \n",
    "\tmod2<-summary(mod.sim2)\n",
    "\n",
    "\t#extract results in beta format\n",
    "\tbeta2<-mod2$coefficients$jackknife[2,1]\n",
    "\tse2<-mod2$coefficients$jackknife[2,2]\n",
    "\tp2<-mod2$coefficients$jackknife[2,4]\n",
    "\n",
    "\t#convert to odds ratios for categorical outcomes\n",
    "\tresults2<-cbind(\"unweighted\", beta2, se2, p2)\n",
    "\tcolnames(results2) <- c(\"exposure\", \"b\", \"se\", \"pval\") #following the MRBase naming convention\n",
    "\tresults2<-data.frame(results2)\n",
    "\tresults2$b<-as.numeric(as.character(results2$b))\n",
    "\tresults2$se<-as.numeric(as.character(results2$se))\n",
    "\tresults2$pval<-as.numeric(as.character(results2$pval))\n",
    "\n",
    "\tor<-generate_odds_ratios(results2)\n",
    "\n",
    "\t#extract confidence intervals and odds ratios\n",
    "\tor1<-or[1,7]\n",
    "\tlcior1<-or[1,8]\n",
    "\tucior1<-or[1,9]\n",
    "\tlci2<-or[1,5]\n",
    "\tuci2<-or[1,6]\n",
    "\n",
    "\t#Save results\n",
    "\toutput<-cbind(Vars, beta2, lci2, uci2, p2, or1, lcior1, ucior1)\n",
    "\tsimexegger<-rbind(simexegger, output)\n",
    "\tcolnames(simexegger) <- c(\"Exposure\", \"beta_unweighted\", \"lowerCI_unweighted\", \"upperCI_unweighted\", \"p_unweighted\", \"OR_unweighted\", \"lCIOR_unweighted\", \"uCIOR_unweighted\")\n",
    "\tsetwd(\"pathname\")\n",
    "\twrite.csv(simexegger, file=\"mreggersimex_wb-health.csv\", row.names = FALSE)\n",
    "\n",
    "}"
   ]
  },
  {
   "cell_type": "markdown",
   "id": "05235b22",
   "metadata": {},
   "source": [
    "# Final"
   ]
  },
  {
   "cell_type": "markdown",
   "id": "a8853552",
   "metadata": {},
   "source": [
    "## Generate data"
   ]
  },
  {
   "cell_type": "code",
   "execution_count": null,
   "id": "35658bbd",
   "metadata": {
    "vscode": {
     "languageId": "r"
    }
   },
   "outputs": [],
   "source": [
    "# T2D, TC, BMI on ALS (All SNP without second clumping)\n",
    "dat_als_all <- data_import_mv(api_use = FALSE, second_clumping = FALSE,\n",
    "                                exposure_id_list = c(bmi_file_2018b, t2d_file_2018a, tc_file_2021),\n",
    "                                exposure_useful_cols_list = data.frame(bmi_useful_cols_2018b, t2d_useful_cols_2018a, tc_useful_cols_2021),\n",
    "                                outcome_id = als_file_2021, outcome_useful_cols = als_useful_cols_2021)\n",
    "save(dat_als_all, file = \"data_formatted/dat_als_all.RData\")"
   ]
  },
  {
   "cell_type": "code",
   "execution_count": null,
   "id": "2c8f2f66",
   "metadata": {
    "vscode": {
     "languageId": "r"
    }
   },
   "outputs": [],
   "source": [
    "# T2D, TC, BMI on ALS \n",
    "dat_als <- data_import_mv(api_use = FALSE,\n",
    "                            exposure_id_list = c(bmi_file_2018b, t2d_file_2018a, tc_file_2021),\n",
    "                            exposure_useful_cols_list = data.frame(bmi_useful_cols_2018b, t2d_useful_cols_2018a, tc_useful_cols_2021),\n",
    "                            outcome_id = als_file_2021, outcome_useful_cols = als_useful_cols_2021)\n",
    "save(dat_als, file = \"data_formatted/dat_als.RData\")"
   ]
  },
  {
   "cell_type": "code",
   "execution_count": 33,
   "id": "72cb2bed",
   "metadata": {
    "vscode": {
     "languageId": "r"
    }
   },
   "outputs": [
    {
     "name": "stderr",
     "output_type": "stream",
     "text": [
      "Warning message in .fun(piece, ...):\n",
      "“Duplicated SNPs present in exposure data for phenotype 'Body mass index || id:30124842-GCST006900. Just keeping the first instance:\n",
      "rs11576885\n",
      "rs13598\n",
      "rs2160421\n",
      "rs3780697\n",
      "rs3819262\n",
      "rs573071\n",
      "rs627141\n",
      "rs7591686\n",
      "rs969206”\n",
      "Clumping 30124842-GCST006900, 41103 variants, using EUR population reference\n",
      "\n",
      "Removing 40582 of 41103 variants due to LD with other variants or absence from LD reference panel\n",
      "\n",
      "Identified 521 hits for trait Body mass index || id:30124842-GCST006900\n",
      "\n",
      "Clumping ebi-a-GCST006867, 5983 variants, using EUR population reference\n",
      "\n",
      "Removing 5863 of 5983 variants due to LD with other variants or absence from LD reference panel\n",
      "\n",
      "Identified 120 hits for trait Type 2 diabetes || id:ebi-a-GCST006867\n",
      "\n",
      "Warning message in .fun(piece, ...):\n",
      "“Duplicated SNPs present in exposure data for phenotype 'Total cholesterol || id:34887591-GCST90239676. Just keeping the first instance:\n",
      "rs2758118\n",
      "rs151120166\n",
      "rs2977607\n",
      "rs28873693\n",
      "rs559902987\n",
      "rs143149010\n",
      "rs11804026\n",
      "rs148673408\n",
      "rs140198156\n",
      "rs9697378\n",
      "rs28833197\n",
      "rs2272758\n",
      "rs757741185\n",
      "rs7417972\n",
      "rs150604687\n",
      "rs4072383\n",
      "rs28535998\n",
      "rs62639980\n",
      "rs28430926\n",
      "rs111497730\n",
      "rs9442611\n",
      "rs113220637\n",
      "rs116134705\n",
      "rs145696739\n",
      "rs558553667\n",
      "rs28758798\n",
      "rs2710871\n",
      "rs11584349\n",
      "rs577400774\n",
      "rs74048005\n",
      "rs147240945\n",
      "rs182887483\n",
      "rs528195897\n",
      "rs4970407\n",
      "rs9442374\n",
      "rs187112262\n",
      "rs148495683\n",
      "rs544028690\n",
      "rs9442385\n",
      "rs7521584\n",
      "rs547882875\n",
      "rs4560982\n",
      "rs1320571\n",
      "rs112210705\n",
      "rs376685807\n",
      "rs11466679\n",
      "rs34108055\n",
      "rs575144374\n",
      "rs184446944\n",
      "rs549433216\n",
      "rs77668548\n",
      "rs112300791\n",
      "rs201137734\n",
      "rs114232218\n",
      "rs6657544\n",
      "rs113336683\n",
      "rs11260574\n",
      "rs12564852\n",
      "rs114582555\n",
      "rs6666790\n",
      "rs910556\n",
      "rs1977348\n",
      "rs113745558\n",
      "rs2273275\n",
      "rs114257304\n",
      "rs528244640\n",
      "rs6664893\n",
      "rs115163464\n",
      "rs307352\n",
      "rs3845295\n",
      "rs2242398\n",
      "rs34442823\n",
      "rs143915783\n",
      "rs139912116\n",
      "rs146258980\n",
      "rs111899889\n",
      "rs1695865\n",
      "rs11488467\n",
      "rs113803290\n",
      "rs538290941\n",
      "rs557741262\n",
      "rs819986\n",
      "rs112516558\n",
      "rs9439436\n",
      "rs556226112\n",
      "rs141645514\n",
      "rs34225741\n",
      "rs115433223\n",
      "rs147426712\n",
      "rs181808394\n",
      "rs560020082\n",
      "rs115439347\n",
      "rs80070807\n",
      "rs187812406\n",
      "rs561569423\n",
      "rs184585643\n",
      "rs2179383\n",
      "rs34869725\n",
      "rs183755206\n",
      "rs193144152\n",
      "rs4648822\n",
      "rs35270315\n",
      "rs571945316\n",
      "rs141005292\n",
      "rs546661527\n",
      "rs11590108\n",
      "rs531496221\n",
      "rs534121471\n",
      "rs11260623\n",
      "rs139407879\n",
      "rs114011209\n",
      "rs28678761\n",
      "rs2490541\n",
      "rs28657980\n",
      "rs77915279\n",
      "rs79954553\n",
      "rs537739387\n",
      "rs149980946\n",
      "rs373380587\n",
      "rs41306994\n",
      "rs41306994\n",
      "rs146079643\n",
      "rs146079643\n",
      "rs57406510\n",
      "rs78824488\n",
      "rs6698965\n",
      "rs367603392\n",
      "rs142717180\n",
      "rs188403646\n",
      "rs112832608\n",
      "rs533219351\n",
      "rs61775408\n",
      "rs72914902\n",
      "rs6676569\n",
      "rs114005163\n",
      "rs376145890\n",
      "rs138283941\n",
      "rs535959934\n",
      "rs12069652\n",
      "rs575343225\n",
      "rs546160641\n",
      "rs55778641\n",
      "rs796207673\n",
      "rs184459808\n",
      "rs555818498\n",
      "rs2843150\n",
      "rs35006635\n",
      "rs553885646\n",
      "rs2645065\n",
      "rs2843137\n",
      "rs11589451\n",
      "rs58965274\n",
      "rs3820008\n",
      "rs12085089\n",
      "rs149615608\n",
      "rs12143412\n",
      "rs55744642\n",
      "rs552974143\n",
      "rs561822982\n",
      "rs79688543\n",
      "rs3001354\n",
      "rs12080030\n",
      "rs79549405\n",
      "rs74504870\n",
      "rs78762854\n",
      "rs113939146\n",
      "rs112164726\n",
      "rs553865748\n",
      "rs201806222\n",
      "rs74047706\n",
      "rs58652890\n",
      "rs115243289\n",
      "rs2234148\n",
      "rs538377825\n",
      "rs4385650\n",
      "rs4310388\n",
      "rs542008381\n",
      "rs562955707\n",
      "rs116184589\n",
      "rs28731053\n",
      "rs72849538\n",
      "rs76378083\n",
      "rs187407293\n",
      "rs149951470\n",
      "rs115565371\n",
      "rs183717235\n",
      "rs143298239\n",
      "rs10909938\n",
      "rs116372413\n",
      "rs758929868\n",
      "rs193063047\n",
      "rs188420278\n",
      "rs12128638\n",
      "rs147878867\n",
      "rs75559052\n",
      "rs112271129\n",
      "rs3001795\n",
      "rs115413809\n",
      "rs2376870\n",
      "rs555866303\n",
      "rs548346545\n",
      "rs10797372\n",
      "rs374270256\n",
      "rs747167333\n",
      "rs72855044\n",
      "rs72629472\n",
      "rs111911402\n",
      "rs61763646\n",
      "rs151169603\n",
      "rs150482341\n",
      "rs72856468\n",
      "rs545377692\n",
      "rs146097721\n",
      "rs2742680\n",
      "rs141477611\n",
      "rs72846072\n",
      "rs188874928\n",
      "rs141137591\n",
      "rs36033160\n",
      "rs2050703\n",
      "rs79342687\n",
      "rs184719452\n",
      "rs1622545\n",
      "rs2817127\n",
      "rs112341660\n",
      "rs144671552\n",
      "rs138452307\n",
      "rs12135062\n",
      "rs187427454\n",
      "rs905135\n",
      "rs2282196\n",
      "rs149877645\n",
      "rs183878817\n",
      "rs115750256\n",
      "rs183237677\n",
      "rs138001429\n",
      "rs77805238\n",
      "rs192562758\n",
      "rs77371469\n",
      "rs189868443\n",
      "rs535030804\n",
      "rs77856461\n",
      "rs576926986\n",
      "rs9424295\n",
      "rs9786995\n",
      "rs74050513\n",
      "rs116083742\n",
      "rs59295712\n",
      "rs756102832\n",
      "rs191039010\n",
      "rs72853531\n",
      "rs376754220\n",
      "rs2821064\n",
      "rs72853573\n",
      "rs880801\n",
      "rs78949887\n",
      "rs111723314\n",
      "rs115480389\n",
      "rs148545050\n",
      "rs547799558\n",
      "rs4512587\n",
      "rs2208993\n",
      "rs530525763\n",
      "rs10910008\n",
      "rs113289380\n",
      "rs60858253\n",
      "rs368804380\n",
      "rs546133622\n",
      "rs79457354\n",
      "rs201207001\n",
      "rs72846550\n",
      "rs1181881\n",
      "rs3737592\n",
      "rs188331157\n",
      "rs117715216\n",
      "rs147372315\n",
      "rs367621607\n",
      "rs190546549\n",
      "rs568385523\n",
      "rs146333875\n",
      "rs575542603\n",
      "rs113710477\n",
      "rs4074709\n",
      "rs7515869\n",
      "rs116627706\n",
      "rs10797353\n",
      "rs78797309\n",
      "rs542153079\n",
      "rs12562706\n",
      "rs144632296\n",
      "rs12031275\n",
      "rs186293011\n",
      "rs576386242\n",
      "rs12023372\n",
      "rs4654472\n",
      "rs72853651\n",
      "rs79088943\n",
      "rs146735243\n",
      "rs10753358\n",
      "rs113395652\n",
      "rs12047329\n",
      "rs367885537\n",
      "rs58966589\n",
      "rs146700056\n",
      "rs115870236\n",
      "rs190122245\n",
      "rs546848484\n",
      "rs149740466\n",
      "rs72851491\n",
      "rs72851491\n",
      "rs149704184\n",
      "rs80001087\n",
      "rs12065710\n",
      "rs539499898\n",
      "rs12078166\n",
      "rs184030285\n",
      "rs188927447\n",
      "rs116878737\n",
      "rs143214578\n",
      "rs114272276\n",
      "rs6426406\n",
      "rs556935126\n",
      "rs140204443\n",
      "rs61769398\n",
      "rs115063968\n",
      "rs144686990\n",
      "rs79253079\n",
      "rs146343350\n",
      "rs112710538\n",
      "rs528172\n",
      "rs115580534\n",
      "rs16838763\n",
      "rs16838763\n",
      "rs142004640\n",
      "rs75456303\n",
      "rs111709050\n",
      "rs143206736\n",
      "rs12117666\n",
      "rs349409\n",
      "rs114908740\n",
      "rs2035008\n",
      "rs79970168\n",
      "rs150177459\n",
      "rs74426445\n",
      "rs114509146\n",
      "rs181214407\n",
      "rs7550318\n",
      "rs114695548\n",
      "rs150660596\n",
      "rs115470343\n",
      "rs350163\n",
      "rs4568797\n",
      "rs140160924\n",
      "rs189047642\n",
      "rs241268\n",
      "rs142576060\n",
      "rs527508677\n",
      "rs72853800\n",
      "rs567902969\n",
      "rs527939971\n",
      "rs7549413\n",
      "rs150631045\n",
      "rs12122921\n",
      "rs71274585\n",
      "rs141516377\n",
      "rs558155266\n",
      "rs2071999\n",
      "rs74051948\n",
      "rs111896668\n",
      "rs184863846\n",
      "rs72639923\n",
      "rs442023\n",
      "rs116970518\n",
      "rs184841300\n",
      "rs114689540\n",
      "rs751421207\n",
      "rs7516549\n",
      "rs140923960\n",
      "rs56268672\n",
      "rs191401380\n",
      "rs1022292437\n",
      "rs547127626\n",
      "rs12135318\n",
      "rs79360823\n",
      "rs114467021\n",
      "rs114533619\n",
      "rs12087093\n",
      "rs542657429\n",
      "rs148567575\n",
      "rs114564534\n",
      "rs114114203\n",
      "rs534561560\n",
      "rs61763271\n",
      "rs150872494\n",
      "rs192998367\n",
      "rs181980782\n",
      "rs184252606\n",
      "rs12759849\n",
      "rs77736386\n",
      "rs4567323\n",
      "rs72635396\n",
      "rs184207647\n",
      "rs116591212\n",
      "rs10915351\n",
      "rs556161232\n",
      "rs555156748\n",
      "rs575969119\n",
      "rs183510122\n",
      "rs112607585\n",
      "rs113146505\n",
      "rs571174902\n",
      "rs34485360\n",
      "rs532331080\n",
      "rs372237765\n",
      "rs112383530\n",
      "rs6603823\n",
      "rs143666169\n",
      "rs67203102\n",
      "rs181224278\n",
      "rs7419115\n",
      "rs74375589\n",
      "rs148331023\n",
      "rs499639\n",
      "rs75326192\n",
      "rs12072284\n",
      "rs35855397\n",
      "rs140806223\n",
      "rs16840506\n",
      "rs16840514\n",
      "rs71640995\n",
      "rs551812036\n",
      "rs144269158\n",
      "rs7518966\n",
      "rs150682346\n",
      "rs143604244\n",
      "rs574120922\n",
      "rs58222180\n",
      "rs72855657\n",
      "rs60600658\n",
      "rs574575005\n",
      "rs142872207\n",
      "rs76135459\n",
      "rs114768130\n",
      "rs966788978\n",
      "rs3055310\n",
      "rs184471738\n",
      "rs12077942\n",
      "rs183047995\n",
      "rs138521239\n",
      "rs564429299\n",
      "rs12070056\n",
      "rs115249385\n",
      "rs2382830\n",
      "rs78950887\n",
      "rs17027022\n",
      "rs937486\n",
      "rs72858901\n",
      "rs11260659\n",
      "rs57620539\n",
      "rs12098141\n",
      "rs35683655\n",
      "rs550308887\n",
      "rs111568708\n",
      "rs144612038\n",
      "rs12077726\n",
      "rs61415718\n",
      "rs188253683\n",
      "rs116783721\n",
      "rs189558026\n",
      "rs149864388\n",
      "rs116274281\n",
      "rs143693071\n",
      "rs543778347\n",
      "rs4845800\n",
      "rs72854757\n",
      "rs9658909\n",
      "rs11121206\n",
      "rs186285000\n",
      "rs146521775\n",
      "rs111902685\n",
      "rs139897549\n",
      "rs758751851\n",
      "rs12084942\n",
      "rs75886247\n",
      "rs76257192\n",
      "rs543239851\n",
      "rs531099\n",
      "rs57154159\n",
      "rs115346071\n",
      "rs537347370\n",
      "rs560522725\n",
      "rs139742871\n",
      "rs547724957\n",
      "rs2281304\n",
      "rs2235791\n",
      "rs754592483\n",
      "rs59506573\n",
      "rs150088635\n",
      "rs375045459\n",
      "rs4908810\n",
      "rs112932753\n",
      "rs35020689\n",
      "rs114547231\n",
      "rs76451670\n",
      "rs11121407\n",
      "rs114460205\n",
      "rs2272988\n",
      "rs116114003\n",
      "rs12568183\n",
      "rs12059924\n",
      "rs138305543\n",
      "rs775408600\n",
      "rs140190150\n",
      "rs111550081\n",
      "rs60236289\n",
      "rs34185555\n",
      "rs111977728\n",
      "rs141625964\n",
      "rs192381885\n",
      "rs763288432\n",
      "rs45562532\n",
      "rs558805326\n",
      "rs114488490\n",
      "rs146550480\n",
      "rs932112\n",
      "rs11122090\n",
      "rs529842555\n",
      "rs925745\n",
      "rs141211443\n",
      "rs556113788\n",
      "rs6577589\n",
      "rs12127767\n",
      "rs182750734\n",
      "rs145925541\n",
      "rs74817475\n",
      "rs144105754\n",
      "rs546027536\n",
      "rs115752260\n",
      "rs140524629\n",
      "rs146586518\n",
      "rs12070886\n",
      "rs115166179\n",
      "rs2898914\n",
      "rs6702309\n",
      "rs147753469\n",
      "rs17030160\n",
      "rs74051109\n",
      "rs555718816\n",
      "rs181347829\n",
      "rs6689977\n",
      "rs570585499\n",
      "rs559497930\n",
      "rs6693547\n",
      "rs150713574\n",
      "rs564294737\n",
      "rs112220653\n",
      "rs549618161\n",
      "rs554823428\n",
      "rs6689574\n",
      "rs10779680\n",
      "rs184800858\n",
      "rs573677790\n",
      "rs140478869\n",
      "rs140232565\n",
      "rs4908455\n",
      "rs74949757\n",
      "rs931360130\n",
      "rs552339081\n",
      "rs845225\n",
      "rs845203\n",
      "rs12095680\n",
      "rs116643877\n",
      "rs574960373\n",
      "rs11120939\n",
      "rs544234577\n",
      "rs72863085\n",
      "rs537848198\n",
      "rs74946509\n",
      "rs577798967\n",
      "rs558862863\n",
      "rs72865481\n",
      "rs17031130\n",
      "rs6667052\n",
      "rs560200591\n",
      "rs193023964\n",
      "rs149603896\n",
      "rs11577471\n",
      "rs76090389\n",
      "rs9434882\n",
      "rs114756001\n",
      "rs138775587\n",
      "rs4908680\n",
      "rs200902597\n",
      "rs185628566\n",
      "rs533434234\n",
      "rs72853889\n",
      "rs6702109\n",
      "rs181235636\n",
      "rs528466166\n",
      "rs10462018\n",
      "rs190070317\n",
      "rs11799431\n",
      "rs140222131\n",
      "rs75969749\n",
      "rs9658040\n",
      "rs28780757\n",
      "rs532828425\n",
      "rs9658018\n",
      "rs145184559\n",
      "rs35143427\n",
      "rs536496242\n",
      "rs116455923\n",
      "rs146899050\n",
      "rs12062541\n",
      "rs419683\n",
      "rs74053419\n",
      "rs559687964\n",
      "rs9434611\n",
      "rs188034521\n",
      "rs182360526\n",
      "rs141106552\n",
      "rs78068819\n",
      "rs12059741\n",
      "rs412382\n",
      "rs199963479\n",
      "rs201196280\n",
      "rs4908748\n",
      "rs116522617\n",
      "rs60320436\n",
      "rs567356809\n",
      "rs7537649\n",
      "rs558578901\n",
      "rs565742403\n",
      "rs186469333\n",
      "rs536162867\n",
      "rs60560758\n",
      "rs151113174\n",
      "rs148821045\n",
      "rs35271674\n",
      "rs532461443\n",
      "rs200044405\n",
      "rs539002077\n",
      "rs146659271\n",
      "rs4908784\n",
      "rs111851154\n",
      "rs115672582\n",
      "rs28862036\n",
      "rs28390126\n",
      "rs6661729\n",
      "rs75043871\n",
      "rs550842858\n",
      "rs561000992\n",
      "rs192421059\n",
      "rs112904968\n",
      "rs145249178\n",
      "rs3737661\n",
      "rs115788112\n",
      "rs144278044\n",
      "rs553380535\n",
      "rs111517105\n",
      "rs529556830\n",
      "rs6697376\n",
      "rs183442398\n",
      "rs6577552\n",
      "rs150422520\n",
      "rs3118602\n",
      "rs553507685\n",
      "rs11121338\n",
      "rs3861752\n",
      "rs146415482\n",
      "rs74051152\n",
      "rs6700865\n",
      "rs61785089\n",
      "rs186417168\n",
      "rs17368633\n",
      "rs114168971\n",
      "rs2075973\n",
      "rs72642711\n",
      "rs187142546\n",
      "rs9729583\n",
      "rs554484188\n",
      "rs188569401\n",
      "rs148774372\n",
      "rs34876467\n",
      "rs188912479\n",
      "rs9308448\n",
      "rs9659656\n",
      "rs144450405\n",
      "rs12144923\n",
      "rs140971815\n",
      "rs553285639\n",
      "rs533425566\n",
      "rs139279087\n",
      "rs184776023\n",
      "rs549230634\n",
      "rs7550613\n",
      "rs139684480\n",
      "rs116173596\n",
      "rs76426197\n",
      "rs536594882\n",
      "rs58316960\n",
      "rs571952898\n",
      "rs534344798\n",
      "rs555286006\n",
      "rs530139154\n",
      "rs527381914\n",
      "rs558341930\n",
      "rs6678160\n",
      "rs1869816”\n",
      "Warning message in format_data(df, type = type, snps = snplist, header = TRUE, snp_col = useful_cols[1], :\n",
      "“pval column is not numeric. Coercing...”\n",
      "Clumping 34887591-GCST90239676, 125491 variants, using EUR population reference\n",
      "\n",
      "Removing 125027 of 125491 variants due to LD with other variants or absence from LD reference panel\n",
      "\n",
      "Identified 464 hits for trait Total cholesterol || id:34887591-GCST90239676\n",
      "\n",
      "Harmonising Body mass index || id:30124842-GCST006900 (30124842-GCST006900) and Parkinson disease || id:GCST009325 (GCST009325)\n",
      "\n",
      "Removing the following SNPs for being palindromic with intermediate allele frequencies:\n",
      "rs10824218, rs10887578, rs12987009, rs1372177, rs138289, rs1454687, rs1521527, rs189843, rs1937433, rs2163188, rs2284746, rs355777, rs6011457, rs6595205, rs676749, rs7173441, rs7568228\n",
      "\n",
      "Harmonising Type 2 diabetes || id:ebi-a-GCST006867 (ebi-a-GCST006867) and Parkinson disease || id:GCST009325 (GCST009325)\n",
      "\n",
      "Removing the following SNPs for being palindromic with intermediate allele frequencies:\n",
      "rs13234269, rs6494307, rs7619041\n",
      "\n",
      "Harmonising Total cholesterol || id:34887591-GCST90239676 (34887591-GCST90239676) and Parkinson disease || id:GCST009325 (GCST009325)\n",
      "\n",
      "Removing the following SNPs for being palindromic with intermediate allele frequencies:\n",
      "rs10150898, rs11869730, rs13024140, rs2736723, rs3845811, rs661955, rs9535499\n",
      "\n",
      "Clumping 1, 1102 variants, using EUR population reference\n",
      "\n",
      "Removing 519 of 1102 variants due to LD with other variants or absence from LD reference panel\n",
      "\n",
      "Identified 583 variants to include\n",
      "\n",
      "Harmonising Body mass index || id:30124842-GCST006900 (30124842-GCST006900) and Total cholesterol || id:34887591-GCST90239676 (34887591-GCST90239676)\n",
      "\n",
      "Removing the following SNPs for being palindromic with intermediate allele frequencies:\n",
      "rs10887578, rs13234269, rs1454687, rs2174307, rs6595205, rs661955\n",
      "\n",
      "Harmonising Body mass index || id:30124842-GCST006900 (30124842-GCST006900) and Type 2 diabetes || id:ebi-a-GCST006867 (ebi-a-GCST006867)\n",
      "\n",
      "Removing the following SNPs for being palindromic with intermediate allele frequencies:\n",
      "rs10887578, rs13234269, rs1454687, rs6595205, rs661955\n",
      "\n",
      "Harmonising Body mass index || id:30124842-GCST006900 (30124842-GCST006900) and Parkinson disease || id:GCST009325 (GCST009325)\n",
      "\n",
      "Removing the following SNPs for being palindromic with intermediate allele frequencies:\n",
      "rs10887578, rs13024140, rs13234269, rs1454687, rs355777, rs6595205, rs661955, rs7173441\n",
      "\n"
     ]
    }
   ],
   "source": [
    "# T2D, TC, BMI on Park \n",
    "dat_park <- data_import_mv(api_use = FALSE,\n",
    "                            exposure_id_list = c(bmi_file_2018b, t2d_file_2018a, tc_file_2021),\n",
    "                            exposure_useful_cols_list = data.frame(bmi_useful_cols_2018b, t2d_useful_cols_2018a, tc_useful_cols_2021),\n",
    "                            outcome_id = park_file_2019, outcome_useful_cols = park_useful_cols_2019)\n",
    "save(dat_park, file = \"data_formatted/dat_park.RData\")"
   ]
  },
  {
   "cell_type": "code",
   "execution_count": null,
   "id": "919404fc",
   "metadata": {
    "vscode": {
     "languageId": "r"
    }
   },
   "outputs": [],
   "source": [
    "# Reproduction T2D\n",
    "res_list_t2d <- global_uv(api_use_ex = FALSE, api_use_out = FALSE, \n",
    "                            exposure_id = t2d_file_2018a, outcome_id = als_file_2018, \n",
    "                            exposure_useful_cols = t2d_useful_cols_2018a, \n",
    "                            outcome_useful_cols = als_useful_cols_2018,\n",
    "                            snplist = snpList_t2d, paper_results = \"t2d_results.csv\")\n",
    "save(res_list_t2d, file = \"data_formatted/res_list_t2d.RData\")"
   ]
  },
  {
   "cell_type": "code",
   "execution_count": null,
   "id": "0a579af7",
   "metadata": {
    "vscode": {
     "languageId": "r"
    }
   },
   "outputs": [],
   "source": [
    "# Reproduction TC\n",
    "res_list_tc <- global_uv(api_use_ex = FALSE, api_use_out = FALSE, \n",
    "                            exposure_id = tc_file_2013, outcome_id = als_file_2021, \n",
    "                            exposure_useful_cols = tc_useful_cols_2013, \n",
    "                            outcome_useful_cols = als_useful_cols_2021,\n",
    "                            paper_results = \"tc_results.csv\")\n",
    "save(res_list_tc, file = \"data_formatted/res_list_tc.RData\")"
   ]
  },
  {
   "cell_type": "code",
   "execution_count": null,
   "id": "8b41b1c6",
   "metadata": {
    "vscode": {
     "languageId": "r"
    }
   },
   "outputs": [],
   "source": [
    "# Reproduction BMI\n",
    "dat_bmi <- data_import(api_use_ex = FALSE, api_use_out = FALSE,\n",
    "                            exposure_id = bmi_file_2015, outcome_id = als_file_2018, \n",
    "                            exposure_useful_cols = bmi_useful_cols_sumstat, outcome_useful_cols = als_useful_cols_2018, \n",
    "                            snplist = snplist_bmi)\n",
    "res_bmi <- run_all_mr(dat_bmi)\n",
    "res_bmi <- plotting_and_sensitivity_analysis(res_bmi, dat_bmi, FALSE)\n",
    "res_list_bmi <- list(data = dat_bmi, result = res_bmi)\n",
    "save(res_list_bmi, file = \"data_formatted/res_list_bmi.RData\")"
   ]
  },
  {
   "cell_type": "markdown",
   "id": "08428655",
   "metadata": {},
   "source": [
    "## Load data"
   ]
  },
  {
   "cell_type": "code",
   "execution_count": 131,
   "id": "b117e147",
   "metadata": {
    "vscode": {
     "languageId": "r"
    }
   },
   "outputs": [
    {
     "name": "stdout",
     "output_type": "stream",
     "text": [
      "Loading objects:\n",
      "  dat_als\n",
      "Loading objects:\n",
      "  dat_park\n",
      "Loading objects:\n",
      "  res_list_t2d\n",
      "Loading objects:\n",
      "  res_list_tc\n",
      "Loading objects:\n",
      "  res_list_bmi\n"
     ]
    }
   ],
   "source": [
    "load(\"data_formatted/dat_als.RData\", verbose = TRUE)\n",
    "load(\"data_formatted/dat_park.RData\", verbose = TRUE)\n",
    "\n",
    "load(\"data_formatted/res_list_t2d.RData\", verbose = TRUE)\n",
    "load(\"data_formatted/res_list_tc.RData\", verbose = TRUE)\n",
    "load(\"data_formatted/res_list_bmi.RData\", verbose = TRUE)"
   ]
  },
  {
   "cell_type": "markdown",
   "id": "0895979f",
   "metadata": {},
   "source": [
    "## Processing ALS"
   ]
  },
  {
   "cell_type": "code",
   "execution_count": 120,
   "id": "9c5bc2a2",
   "metadata": {
    "vscode": {
     "languageId": "r"
    }
   },
   "outputs": [],
   "source": [
    "mv_dat <- dat_als$mv_dat\n",
    "uv_dat <- dat_als$uv_dat"
   ]
  },
  {
   "cell_type": "code",
   "execution_count": 121,
   "id": "150bb35e",
   "metadata": {
    "vscode": {
     "languageId": "r"
    }
   },
   "outputs": [],
   "source": [
    "df <- bind_rows(res_list_t2d$result, res_list_tc$result, res_list_bmi$result)"
   ]
  },
  {
   "cell_type": "code",
   "execution_count": 122,
   "id": "0dbca0d0",
   "metadata": {
    "vscode": {
     "languageId": "r"
    }
   },
   "outputs": [],
   "source": [
    "df <- subset(df, method == \"Inverse variance weighted\")\n",
    "df$replication <- \"Replication of IVW analysis from study's GWAS\""
   ]
  },
  {
   "cell_type": "code",
   "execution_count": 123,
   "id": "41fed4e0",
   "metadata": {
    "vscode": {
     "languageId": "r"
    }
   },
   "outputs": [],
   "source": [
    "paper_df <- lapply(c(\"t2d_results.csv\", \"tc_results.csv\", \"bmi_results.csv\"), function(x) {\n",
    "            row <- fread(paste0(data_dir, \"/paper-results/\", x)) %>%\n",
    "            subset(method == \"Inverse variance weighted\")\n",
    "            if (!\"or\" %in% colnames(row)) {row <- generate_odds_ratios(row)}\n",
    "            return(row)\n",
    "            }) %>% \n",
    "            bind_rows()\n",
    "paper_df$replication <- \"Paper's results for IVW\""
   ]
  },
  {
   "cell_type": "code",
   "execution_count": 124,
   "id": "470bbdc5",
   "metadata": {
    "vscode": {
     "languageId": "r"
    }
   },
   "outputs": [],
   "source": [
    "df <- bind_rows(df, paper_df) %>%\n",
    "    fill(c(\"id.outcome\", \"outcome\"), .direction = \"down\")"
   ]
  },
  {
   "cell_type": "code",
   "execution_count": 125,
   "id": "bd58d62a",
   "metadata": {
    "vscode": {
     "languageId": "r"
    }
   },
   "outputs": [],
   "source": [
    "res_mv <- TwoSampleMR::mv_multiple(mv_dat, intercept = FALSE, instrument_specific = FALSE, 5e-8)$result %>% \n",
    "        generate_odds_ratios()\n",
    "res_mv$method <- \"MVMR-IVW\"\n",
    "res_mv$replication <- \"MVMR-IVW results on new GWAS\""
   ]
  },
  {
   "cell_type": "code",
   "execution_count": 126,
   "id": "051e3ce1",
   "metadata": {
    "vscode": {
     "languageId": "r"
    }
   },
   "outputs": [],
   "source": [
    "df$exposure <- factor(sub(\" \\\\|.*\", \"\", df$exposure))\n",
    "res_mv$exposure <- factor(sub(\" \\\\|.*\", \"\", res_mv$exposure))"
   ]
  },
  {
   "cell_type": "code",
   "execution_count": 127,
   "id": "902c57e8",
   "metadata": {
    "vscode": {
     "languageId": "r"
    }
   },
   "outputs": [],
   "source": [
    "df <- bind_rows(df, res_mv)"
   ]
  },
  {
   "cell_type": "code",
   "execution_count": 128,
   "id": "913987f9",
   "metadata": {
    "vscode": {
     "languageId": "r"
    }
   },
   "outputs": [],
   "source": [
    "df$replication <- factor(df$replication, levels = c(\"Paper's results for IVW\", \"Replication of IVW analysis from study's GWAS\", \"MVMR-IVW results on new GWAS\"))"
   ]
  },
  {
   "cell_type": "markdown",
   "id": "41e64621",
   "metadata": {},
   "source": [
    "## Plotting ALS"
   ]
  },
  {
   "cell_type": "code",
   "execution_count": null,
   "id": "d4a4ff12",
   "metadata": {
    "vscode": {
     "languageId": "r"
    }
   },
   "outputs": [],
   "source": [
    "plot_rucker_model(res_list_tc$result)"
   ]
  },
  {
   "cell_type": "code",
   "execution_count": 129,
   "id": "72405c10",
   "metadata": {
    "vscode": {
     "languageId": "r"
    }
   },
   "outputs": [
    {
     "name": "stderr",
     "output_type": "stream",
     "text": [
      "Warning message:\n",
      "“\u001b[1m\u001b[22m`position_dodge()` requires non-overlapping \u001b[32mx\u001b[39m intervals.”\n"
     ]
    },
    {
     "data": {
      "image/png": "[encoded data removed]",
      "text/plain": [
       "plot without title"
      ]
     },
     "metadata": {
      "image/png": {
       "height": 420,
       "width": 420
      }
     },
     "output_type": "display_data"
    }
   ],
   "source": [
    "pos <- position_dodge(width = -.5)\n",
    "\n",
    "p <- ggplot(df, aes(x = or, y = exposure, group = replication, color = replication)) + \n",
    "    geom_vline(aes(xintercept = 1.0), size = .25, linetype = \"dashed\") + \n",
    "    geom_errorbarh(aes(xmax = df[,'or_uci95'], xmin = df[,'or_lci95']), size = .7, height = .2, position=pos) +\n",
    "    geom_point(position=pos, size = 3) +\n",
    "    \n",
    "    scale_x_log10(breaks = c(0.7,0.9,1.0,1.1,1.2,1.5), labels = c(0.7,0.9,1.0,1.1,1.2,1.5),\n",
    "                       limits = c(0.7,1.5)) +\n",
    "    \n",
    "    ylab(\"\") +\n",
    "    xlab(\"Odds ratio\") +\n",
    "\n",
    "    scale_colour_manual(values = c(\"Paper's results for IVW\" =\"#1b651b\",\"Replication of IVW analysis from study's GWAS\" = \"#00429d\", \n",
    "                                \"MVMR-IVW results on new GWAS\" =\"#93003a\")) +\n",
    "    guides(colour = guide_legend(title = \"Replicated\", reverse = FALSE)) +\n",
    "    \n",
    "    #annotate(geom = \"text\", y =1.1, x = log10(1.5), label = \"\", size = 1.5, hjust = 0) + \n",
    "    ggtitle(\"Comparison MR results between paper's and replication\") +\n",
    "\n",
    "    theme_bw() +\n",
    "    theme(plot.title = element_text(vjust = 2))\n",
    "\n",
    "print(p)"
   ]
  },
  {
   "cell_type": "markdown",
   "id": "855978a5",
   "metadata": {},
   "source": [
    "## Processing Park"
   ]
  },
  {
   "cell_type": "code",
   "execution_count": 100,
   "id": "79b717d0",
   "metadata": {
    "vscode": {
     "languageId": "r"
    }
   },
   "outputs": [],
   "source": [
    "mv_dat <- dat_park$mv_dat\n",
    "uv_dat <- dat_park$uv_dat"
   ]
  },
  {
   "cell_type": "code",
   "execution_count": 101,
   "id": "936c7ad9",
   "metadata": {
    "vscode": {
     "languageId": "r"
    }
   },
   "outputs": [],
   "source": [
    "res_list_park <- lapply(uv_dat, function(x) {\n",
    "    x <- filter(x, mr_keep == TRUE)\n",
    "    res_ivw <- TwoSampleMR::mr_ivw(b_exp = x$beta.exposure, b_out = x$beta.outcome, \n",
    "                                se_exp = x$se.exposure, se_out = x$se.outcome) %>% \n",
    "        generate_odds_ratios()\n",
    "    res_ivw$exposure <- x$exposure[1]\n",
    "    res_ivw$replication <- \"IVW analysis on new GWAS\"\n",
    "    res_ivw$method <- \"Inverse variance weighted\"\n",
    "    return(res_ivw)\n",
    "})\n",
    "df <- bind_rows(res_list_park)"
   ]
  },
  {
   "cell_type": "code",
   "execution_count": 102,
   "id": "aa3532a3",
   "metadata": {
    "vscode": {
     "languageId": "r"
    }
   },
   "outputs": [],
   "source": [
    "res_park_egger <- lapply(uv_dat, function(x) {\n",
    "    x <- filter(x, mr_keep == TRUE)\n",
    "    res_egger <- mr_egger_regression(b_exp = x$beta.exposure, b_out = x$beta.outcome, \n",
    "                                     se_exp = x$se.exposure, se_out = x$se.outcome) \n",
    "    data.frame(method = \"MR-Egger\",\n",
    "                nsnp = res_egger$nsnp,\n",
    "                b = res_egger$b,\n",
    "                se = res_egger$se,\n",
    "                pval = res_egger$pval,\n",
    "                exposure = x$exposure[1],\n",
    "                replication = \"MR-Egger analysis on new GWAS\") %>% \n",
    "        generate_odds_ratios()\n",
    "}) %>% bind_rows()"
   ]
  },
  {
   "cell_type": "code",
   "execution_count": 103,
   "id": "d144d1f9",
   "metadata": {
    "vscode": {
     "languageId": "r"
    }
   },
   "outputs": [],
   "source": [
    "paper_df <- fread(paste0(data_dir, \"/paper-results/park_results.csv\"))\n",
    "paper_df$replication <- \"Paper's results for IVW\""
   ]
  },
  {
   "cell_type": "code",
   "execution_count": 104,
   "id": "8a233897",
   "metadata": {
    "vscode": {
     "languageId": "r"
    }
   },
   "outputs": [],
   "source": [
    "df <- bind_rows(df, res_park_egger, paper_df)"
   ]
  },
  {
   "cell_type": "code",
   "execution_count": 105,
   "id": "f4140e03",
   "metadata": {
    "vscode": {
     "languageId": "r"
    }
   },
   "outputs": [],
   "source": [
    "res_mv <- TwoSampleMR::mv_multiple(mv_dat, intercept = FALSE, instrument_specific = FALSE, 5e-8)$result %>% \n",
    "        generate_odds_ratios()\n",
    "res_mv$method <- \"MVMR-IVW\"\n",
    "res_mv$replication <- \"MVMR-IVW analysis on new GWAS\""
   ]
  },
  {
   "cell_type": "code",
   "execution_count": 106,
   "id": "5de44dbd",
   "metadata": {
    "vscode": {
     "languageId": "r"
    }
   },
   "outputs": [],
   "source": [
    "df <- bind_rows(df, res_mv)\n",
    "df$exposure <- factor(sub(\" \\\\|.*\", \"\", df$exposure))"
   ]
  },
  {
   "cell_type": "code",
   "execution_count": 107,
   "id": "e67f6dbb",
   "metadata": {
    "vscode": {
     "languageId": "r"
    }
   },
   "outputs": [],
   "source": [
    "df$replication <- factor(df$replication, levels = c(\"Paper's results for IVW\", \"IVW analysis on new GWAS\", \"MR-Egger analysis on new GWAS\", \"MVMR-IVW analysis on new GWAS\"))\n",
    "df <- as.data.frame(df)"
   ]
  },
  {
   "cell_type": "markdown",
   "id": "70268901",
   "metadata": {},
   "source": [
    "## Plotting Park"
   ]
  },
  {
   "cell_type": "code",
   "execution_count": 108,
   "id": "9c057ab7",
   "metadata": {
    "vscode": {
     "languageId": "r"
    }
   },
   "outputs": [
    {
     "name": "stderr",
     "output_type": "stream",
     "text": [
      "Warning message:\n",
      "“\u001b[1m\u001b[22m`position_dodge()` requires non-overlapping \u001b[32mx\u001b[39m intervals.”\n"
     ]
    },
    {
     "data": {
      "image/png": "[encoded data removed]",
      "text/plain": [
       "plot without title"
      ]
     },
     "metadata": {
      "image/png": {
       "height": 420,
       "width": 420
      }
     },
     "output_type": "display_data"
    }
   ],
   "source": [
    "pos <- position_dodge(width = -.5)\n",
    "\n",
    "p <- ggplot(df, aes(x = or, y = exposure, group = replication, color = replication)) + \n",
    "    geom_vline(aes(xintercept = 1.0), linewidth = .25, linetype = \"dashed\") + \n",
    "    geom_errorbarh(aes(xmax = df[,'or_uci95'], xmin = df[,'or_lci95']), size = .7, height = .2, position=pos) +\n",
    "    geom_point(position=pos, size = 3) +\n",
    "    \n",
    "    #scale_x_log10(breaks = c(0.7,0.9,1.0,1.1,1.2,1.5), labels = c(0.7,0.9,1.0,1.1,1.2,1.5), limits = c(0.7,1.5)) +\n",
    "    \n",
    "    ylab(\"\") +\n",
    "    xlab(\"Odds ratio\") +\n",
    "\n",
    "    scale_colour_manual(values = c(\"#1b651b\", \"#00429d\", '#ffa600', \"#93003a\")) +\n",
    "    guides(colour = guide_legend(title = \"Replicated\", reverse = FALSE)) +\n",
    "    \n",
    "    #annotate(geom = \"text\", y =1.1, x = log10(1.5), label = \"\", size = 1.5, hjust = 0) + \n",
    "    ggtitle(\"Comparison MR results between paper's and replication for Parkinson's Disease\") +\n",
    "\n",
    "    theme_bw() +\n",
    "    theme(plot.title = element_text(vjust = 2))\n",
    "\n",
    "print(p)"
   ]
  },
  {
   "cell_type": "markdown",
   "id": "70cd043f",
   "metadata": {},
   "source": [
    "## MVMR Sensitivity"
   ]
  },
  {
   "cell_type": "code",
   "execution_count": 233,
   "id": "b086eeb6",
   "metadata": {
    "vscode": {
     "languageId": "r"
    }
   },
   "outputs": [],
   "source": [
    "mv_dat <- dat_als$mv_dat\n",
    "uv_dat <- dat_als$uv_dat"
   ]
  },
  {
   "cell_type": "code",
   "execution_count": 234,
   "id": "7b562f7e",
   "metadata": {
    "vscode": {
     "languageId": "r"
    }
   },
   "outputs": [
    {
     "name": "stderr",
     "output_type": "stream",
     "text": [
      "\u001b[1m\u001b[22mAdding missing grouping variables: `id.exposure`\n"
     ]
    }
   ],
   "source": [
    "res_list <- lapply(uv_dat, function(x) {\n",
    "    x <- filter(x, mr_keep == TRUE)\n",
    "    res_ivw <- TwoSampleMR::mr_ivw(b_exp = x$beta.exposure, b_out = x$beta.outcome, \n",
    "                                se_exp = x$se.exposure, se_out = x$se.outcome) %>% \n",
    "        generate_odds_ratios()\n",
    "    res_ivw$id.exposure <- x$id.exposure[1]\n",
    "    return(res_ivw)\n",
    "})\n",
    "res_bind <- bind_rows(res_list)\n",
    "res_bind$mv <- FALSE\n",
    "\n",
    "res_mv <- TwoSampleMR::mv_multiple(mv_dat, intercept = TRUE, instrument_specific = FALSE, 5e-8)$result %>% \n",
    "        generate_odds_ratios()\n",
    "res_mv$mv <- TRUE\n",
    "\n",
    "res <- export_mvmr_plot(res_mv, res_bind, FALSE)"
   ]
  },
  {
   "cell_type": "code",
   "execution_count": 235,
   "id": "6b360e39",
   "metadata": {
    "vscode": {
     "languageId": "r"
    }
   },
   "outputs": [],
   "source": [
    "res_robust <- mvmr_robust(mv_dat) %>%\n",
    "    mutate(method = \"MVMR-robust\", .) %>%\n",
    "    select(method, everything()) %>%\n",
    "    generate_odds_ratios()"
   ]
  },
  {
   "cell_type": "code",
   "execution_count": 236,
   "id": "42501dae",
   "metadata": {
    "vscode": {
     "languageId": "r"
    }
   },
   "outputs": [],
   "source": [
    "res_mv <- TwoSampleMR::mv_multiple(mv_dat, intercept = TRUE, instrument_specific = FALSE, 5e-8)$result %>%\n",
    "    mutate(method = \"MVMR-IVW\", .) %>%\n",
    "    select(method, everything()) %>%\n",
    "    generate_odds_ratios()"
   ]
  },
  {
   "cell_type": "code",
   "execution_count": 239,
   "id": "4a24a9db",
   "metadata": {
    "vscode": {
     "languageId": "r"
    }
   },
   "outputs": [],
   "source": [
    "res_egger <- mvmr_egger() %>%\n",
    "    mutate(method = \"MVMR-Egger\", .) %>%\n",
    "    select(method, everything()) %>%\n",
    "    generate_odds_ratios()"
   ]
  },
  {
   "cell_type": "code",
   "execution_count": 252,
   "id": "97c567c2",
   "metadata": {
    "vscode": {
     "languageId": "r"
    }
   },
   "outputs": [
    {
     "data": {
      "text/plain": [
       "\n",
       "Multivariable MR-Egger method\n",
       "(variants uncorrelated, random-effect model)\n",
       "\n",
       "Orientated to exposure : 1 \n",
       "Number of Variants : 323 \n",
       "------------------------------------------------------------------\n",
       "    Exposure Estimate Std Error  95% CI        p-value\n",
       "  exposure_1   -0.211     0.105 -0.416, -0.006   0.044\n",
       "  exposure_2    0.164     0.069  0.027,  0.300   0.019\n",
       "  exposure_3    0.035     0.034 -0.031,  0.101   0.301\n",
       " (intercept)    0.003     0.001  0.000,  0.006   0.052\n",
       "------------------------------------------------------------------\n",
       "Residual standard error =  1.186 \n",
       "Heterogeneity test statistic = 448.9604 on 319 degrees of freedom, (p-value = 0.0000)"
      ]
     },
     "metadata": {},
     "output_type": "display_data"
    }
   ],
   "source": [
    "mr_mvegger(object = mr_mvinput(bx = mv_dat$exposure_beta, \n",
    "                                bxse = mv_dat$exposure_se,\n",
    "                                by = mv_dat$outcome_beta,\n",
    "                                byse = mv_dat$outcome_se),\n",
    "            orientate = 1,\n",
    "            correl = FALSE,\n",
    "            distribution = \"normal\",\n",
    "            alpha = 0.05)"
   ]
  },
  {
   "cell_type": "code",
   "execution_count": 240,
   "id": "fe964224",
   "metadata": {
    "vscode": {
     "languageId": "r"
    }
   },
   "outputs": [],
   "source": [
    "df <- bind_rows(res_mv, res_robust, res_egger)"
   ]
  },
  {
   "cell_type": "code",
   "execution_count": 243,
   "id": "111b4d51",
   "metadata": {
    "vscode": {
     "languageId": "r"
    }
   },
   "outputs": [
    {
     "name": "stderr",
     "output_type": "stream",
     "text": [
      "Warning message:\n",
      "“\u001b[1m\u001b[22m`position_dodge()` requires non-overlapping \u001b[32mx\u001b[39m intervals.”\n"
     ]
    },
    {
     "data": {
      "image/png": "[encoded data removed]",
      "text/plain": [
       "plot without title"
      ]
     },
     "metadata": {
      "image/png": {
       "height": 420,
       "width": 420
      }
     },
     "output_type": "display_data"
    }
   ],
   "source": [
    "pos <- position_dodge(width = -.5)\n",
    "\n",
    "p <- ggplot(df, aes(x = or, y = exposure, group = method, color = method)) + \n",
    "    geom_vline(aes(xintercept = 1.0), linewidth = .25, linetype = \"dashed\") + \n",
    "    geom_errorbarh(aes(xmax = df[,'or_uci95'], xmin = df[,'or_lci95']), size = .7, height = .2, position=pos) +\n",
    "    geom_point(position=pos, size = 3) +\n",
    "    \n",
    "    #scale_x_log10(breaks = c(0.7,0.9,1.0,1.1,1.2,1.5), labels = c(0.7,0.9,1.0,1.1,1.2,1.5), limits = c(0.7,1.5)) +\n",
    "    \n",
    "    ylab(\"\") +\n",
    "    xlab(\"Odds ratio\") +\n",
    "\n",
    "    scale_colour_manual(values = c(\"#00429d\", '#ffa600', \"#93003a\")) +\n",
    "    guides(colour = guide_legend(title = \"Replicated\", reverse = FALSE)) +\n",
    "    \n",
    "    #annotate(geom = \"text\", y =1.1, x = log10(1.5), label = \"\", size = 1.5, hjust = 0) + \n",
    "    ggtitle(\"Comparison MR results between paper's and replication for Parkinson's Disease\") +\n",
    "\n",
    "    theme_bw() +\n",
    "    theme(plot.title = element_text(vjust = 2))\n",
    "\n",
    "print(p)"
   ]
  },
  {
   "cell_type": "code",
   "execution_count": 42,
   "id": "f671f842",
   "metadata": {
    "vscode": {
     "languageId": "r"
    }
   },
   "outputs": [],
   "source": [
    "res_robust$mv <- TRUE\n",
    "res_mv$mv <- FALSE\n",
    "res_egger$mv <- TRUE"
   ]
  },
  {
   "cell_type": "code",
   "execution_count": null,
   "id": "1d42d6b0",
   "metadata": {
    "vscode": {
     "languageId": "r"
    }
   },
   "outputs": [],
   "source": [
    "export_mvmr_plot(res_robust, res_mv, FALSE,\n",
    "                model_names = c('TRUE' = \"MVMR-Robust\", 'FALSE' = \"MVMR-IVW\"),\n",
    "                colors = c(\"purple\", \"blue\"))"
   ]
  },
  {
   "cell_type": "code",
   "execution_count": null,
   "id": "2412a2fe",
   "metadata": {
    "vscode": {
     "languageId": "r"
    }
   },
   "outputs": [],
   "source": [
    "res <- export_mvmr_plot(res_egger, res_mv, FALSE,\n",
    "                model_names = c('TRUE' = \"MVMR-Egger\", 'FALSE' = \"MVMR-IVW\"),\n",
    "                colors = c(\"darkgreen\", \"blue\"))"
   ]
  },
  {
   "cell_type": "markdown",
   "id": "df545ddc",
   "metadata": {},
   "source": [
    "## Conditionnal Weak Instrument Test"
   ]
  },
  {
   "cell_type": "code",
   "execution_count": 132,
   "id": "78a6fa1c",
   "metadata": {
    "vscode": {
     "languageId": "r"
    }
   },
   "outputs": [],
   "source": [
    "mv_dat <- dat_als$mv_dat"
   ]
  },
  {
   "cell_type": "code",
   "execution_count": 175,
   "id": "defcd7c4",
   "metadata": {
    "vscode": {
     "languageId": "r"
    }
   },
   "outputs": [
    {
     "name": "stdout",
     "output_type": "stream",
     "text": [
      "List of 8\n",
      " $ exposure_beta: num [1:323, 1:3] -0.0223 -0.0006 -0.0325 0.0014 0.0201 0.0133 -0.01 -0.0019 0.0097 -0.0124 ...\n",
      "  ..- attr(*, \"dimnames\")=List of 2\n",
      "  .. ..$ : chr [1:323] \"rs10132280\" \"rs1014283\" \"rs10182181\" \"rs10242866\" ...\n",
      "  .. ..$ : chr [1:3] \"30124842-GCST006900\" \"34887591-GCST90239676\" \"ebi-a-GCST006867\"\n",
      " $ exposure_pval: num [1:323, 1:3] 5.6e-35 7.9e-01 6.7e-90 4.3e-01 1.7e-09 ...\n",
      "  ..- attr(*, \"dimnames\")=List of 2\n",
      "  .. ..$ : chr [1:323] \"rs10132280\" \"rs1014283\" \"rs10182181\" \"rs10242866\" ...\n",
      "  .. ..$ : chr [1:3] \"30124842-GCST006900\" \"34887591-GCST90239676\" \"ebi-a-GCST006867\"\n",
      " $ exposure_se  : num [1:323, 1:3] 0.0018 0.0021 0.0016 0.0018 0.0033 0.0017 0.0017 0.0017 0.0016 0.0017 ...\n",
      "  ..- attr(*, \"dimnames\")=List of 2\n",
      "  .. ..$ : chr [1:323] \"rs10132280\" \"rs1014283\" \"rs10182181\" \"rs10242866\" ...\n",
      "  .. ..$ : chr [1:3] \"30124842-GCST006900\" \"34887591-GCST90239676\" \"ebi-a-GCST006867\"\n",
      " $ outcome_beta : num [1:323] -0.0121 -0.0186 -0.0084 0.0099 -0.0149 -0.0014 -0.0117 0.0209 -0.0065 0.0285 ...\n",
      " $ outcome_pval : num [1:323] 0.321 0.194 0.444 0.376 0.477 ...\n",
      " $ outcome_se   : num [1:323] 0.0122 0.0143 0.011 0.0112 0.021 0.0119 0.0114 0.0113 0.0113 0.0114 ...\n",
      " $ expname      :'data.frame':\t3 obs. of  2 variables:\n",
      "  ..$ id.exposure: chr [1:3] \"30124842-GCST006900\" \"34887591-GCST90239676\" \"ebi-a-GCST006867\"\n",
      "  ..$ exposure   : chr [1:3] \"Body mass index || id:30124842-GCST006900\" \"Total cholesterol || id:34887591-GCST90239676\" \"Type 2 diabetes || id:ebi-a-GCST006867\"\n",
      " $ outname      :'data.frame':\t1 obs. of  2 variables:\n",
      "  ..$ id.outcome: chr \"ebi-a-GCST90027164\"\n",
      "  ..$ outcome   : chr \"Amyotrophic Lateral Sclerosis || id:ebi-a-GCST90027164\"\n"
     ]
    }
   ],
   "source": [
    "glimpse(mv_dat)"
   ]
  },
  {
   "cell_type": "code",
   "execution_count": 176,
   "id": "14a8a26f",
   "metadata": {
    "vscode": {
     "languageId": "r"
    }
   },
   "outputs": [],
   "source": [
    "mvmr_dat <- MVMR::format_mvmr(BXGs = mv_dat$exposure_beta, BYG = mv_dat$outcome_beta, \n",
    "                                seBXGs = mv_dat$exposure_se, seBYG = mv_dat$outcome_se,\n",
    "                                RSID = attributes(mv_dat$exposure_beta)$dimnames[[1]])"
   ]
  },
  {
   "cell_type": "code",
   "execution_count": 177,
   "id": "e1afb46b",
   "metadata": {
    "vscode": {
     "languageId": "r"
    }
   },
   "outputs": [
    {
     "data": {
      "text/html": [
       "<table class=\"dataframe\">\n",
       "<caption>A data.frame: 3 × 2</caption>\n",
       "<thead>\n",
       "\t<tr><th></th><th scope=col>id.exposure</th><th scope=col>exposure</th></tr>\n",
       "\t<tr><th></th><th scope=col>&lt;chr&gt;</th><th scope=col>&lt;chr&gt;</th></tr>\n",
       "</thead>\n",
       "<tbody>\n",
       "\t<tr><th scope=row>X1</th><td>30124842-GCST006900  </td><td>Body mass index || id:30124842-GCST006900    </td></tr>\n",
       "\t<tr><th scope=row>X2</th><td>34887591-GCST90239676</td><td>Total cholesterol || id:34887591-GCST90239676</td></tr>\n",
       "\t<tr><th scope=row>X3</th><td>ebi-a-GCST006867     </td><td>Type 2 diabetes || id:ebi-a-GCST006867       </td></tr>\n",
       "</tbody>\n",
       "</table>\n"
      ],
      "text/latex": [
       "A data.frame: 3 × 2\n",
       "\\begin{tabular}{r|ll}\n",
       "  & id.exposure & exposure\\\\\n",
       "  & <chr> & <chr>\\\\\n",
       "\\hline\n",
       "\tX1 & 30124842-GCST006900   & Body mass index \\textbar{}\\textbar{} id:30124842-GCST006900    \\\\\n",
       "\tX2 & 34887591-GCST90239676 & Total cholesterol \\textbar{}\\textbar{} id:34887591-GCST90239676\\\\\n",
       "\tX3 & ebi-a-GCST006867      & Type 2 diabetes \\textbar{}\\textbar{} id:ebi-a-GCST006867       \\\\\n",
       "\\end{tabular}\n"
      ],
      "text/markdown": [
       "\n",
       "A data.frame: 3 × 2\n",
       "\n",
       "| <!--/--> | id.exposure &lt;chr&gt; | exposure &lt;chr&gt; |\n",
       "|---|---|---|\n",
       "| X1 | 30124842-GCST006900   | Body mass index || id:30124842-GCST006900     |\n",
       "| X2 | 34887591-GCST90239676 | Total cholesterol || id:34887591-GCST90239676 |\n",
       "| X3 | ebi-a-GCST006867      | Type 2 diabetes || id:ebi-a-GCST006867        |\n",
       "\n"
      ],
      "text/plain": [
       "   id.exposure           exposure                                     \n",
       "X1 30124842-GCST006900   Body mass index || id:30124842-GCST006900    \n",
       "X2 34887591-GCST90239676 Total cholesterol || id:34887591-GCST90239676\n",
       "X3 ebi-a-GCST006867      Type 2 diabetes || id:ebi-a-GCST006867       "
      ]
     },
     "metadata": {},
     "output_type": "display_data"
    }
   ],
   "source": [
    "exp_names <- mv_dat$expname\n",
    "rownames(exp_names) <- lapply(1:dim(exp_names)[1], function(i) paste0(\"X\", i))\n",
    "exp_names"
   ]
  },
  {
   "cell_type": "code",
   "execution_count": 178,
   "id": "814858ca",
   "metadata": {
    "vscode": {
     "languageId": "r"
    }
   },
   "outputs": [
    {
     "data": {
      "text/html": [
       "<style>\n",
       ".dl-inline {width: auto; margin:0; padding: 0}\n",
       ".dl-inline>dt, .dl-inline>dd {float: none; width: auto; display: inline-block}\n",
       ".dl-inline>dt::after {content: \":\\0020\"; padding-right: .5ex}\n",
       ".dl-inline>dt:not(:first-of-type) {padding-left: .5ex}\n",
       "</style><dl class=dl-inline><dt>trait1</dt><dd>'30124842-GCST006900'</dd><dt>trait2</dt><dd>'34887591-GCST90239676'</dd><dt>trait3</dt><dd>'ebi-a-GCST006867'</dd></dl>\n"
      ],
      "text/latex": [
       "\\begin{description*}\n",
       "\\item[trait1] '30124842-GCST006900'\n",
       "\\item[trait2] '34887591-GCST90239676'\n",
       "\\item[trait3] 'ebi-a-GCST006867'\n",
       "\\end{description*}\n"
      ],
      "text/markdown": [
       "trait1\n",
       ":   '30124842-GCST006900'trait2\n",
       ":   '34887591-GCST90239676'trait3\n",
       ":   'ebi-a-GCST006867'\n",
       "\n"
      ],
      "text/plain": [
       "                 trait1                  trait2                  trait3 \n",
       "  \"30124842-GCST006900\" \"34887591-GCST90239676\"      \"ebi-a-GCST006867\" "
      ]
     },
     "metadata": {},
     "output_type": "display_data"
    }
   ],
   "source": [
    "trait_correspondance"
   ]
  },
  {
   "cell_type": "code",
   "execution_count": 179,
   "id": "6a4d8ba0",
   "metadata": {
    "vscode": {
     "languageId": "r"
    }
   },
   "outputs": [
    {
     "data": {
      "text/html": [
       "<table class=\"dataframe\">\n",
       "<caption>A data.frame: 6 × 9</caption>\n",
       "<thead>\n",
       "\t<tr><th></th><th scope=col>SNP</th><th scope=col>betaYG</th><th scope=col>sebetaYG</th><th scope=col>betaX1</th><th scope=col>betaX2</th><th scope=col>betaX3</th><th scope=col>sebetaX1</th><th scope=col>sebetaX2</th><th scope=col>sebetaX3</th></tr>\n",
       "\t<tr><th></th><th scope=col>&lt;chr&gt;</th><th scope=col>&lt;dbl&gt;</th><th scope=col>&lt;dbl&gt;</th><th scope=col>&lt;dbl&gt;</th><th scope=col>&lt;dbl&gt;</th><th scope=col>&lt;dbl&gt;</th><th scope=col>&lt;dbl&gt;</th><th scope=col>&lt;dbl&gt;</th><th scope=col>&lt;dbl&gt;</th></tr>\n",
       "</thead>\n",
       "<tbody>\n",
       "\t<tr><th scope=row>rs10132280</th><td>rs10132280</td><td>-0.0121</td><td>0.0122</td><td>-0.0223</td><td> 0.000656788</td><td>-0.0374</td><td>0.0018</td><td>0.00147010</td><td>0.0079</td></tr>\n",
       "\t<tr><th scope=row>rs1014283</th><td>rs1014283 </td><td>-0.0186</td><td>0.0143</td><td>-0.0006</td><td>-0.014021900</td><td> 0.0047</td><td>0.0021</td><td>0.00173527</td><td>0.0093</td></tr>\n",
       "\t<tr><th scope=row>rs10182181</th><td>rs10182181</td><td>-0.0084</td><td>0.0110</td><td>-0.0325</td><td> 0.000158148</td><td>-0.0086</td><td>0.0016</td><td>0.00134190</td><td>0.0072</td></tr>\n",
       "\t<tr><th scope=row>rs10242866</th><td>rs10242866</td><td> 0.0099</td><td>0.0112</td><td> 0.0014</td><td>-0.010409400</td><td>-0.0041</td><td>0.0018</td><td>0.00137157</td><td>0.0080</td></tr>\n",
       "\t<tr><th scope=row>rs10247983</th><td>rs10247983</td><td>-0.0149</td><td>0.0210</td><td> 0.0201</td><td>-0.001411430</td><td> 0.0253</td><td>0.0033</td><td>0.00253487</td><td>0.0150</td></tr>\n",
       "\t<tr><th scope=row>rs10269783</th><td>rs10269783</td><td>-0.0014</td><td>0.0119</td><td> 0.0133</td><td> 0.001499760</td><td> 0.0128</td><td>0.0017</td><td>0.00137910</td><td>0.0074</td></tr>\n",
       "</tbody>\n",
       "</table>\n"
      ],
      "text/latex": [
       "A data.frame: 6 × 9\n",
       "\\begin{tabular}{r|lllllllll}\n",
       "  & SNP & betaYG & sebetaYG & betaX1 & betaX2 & betaX3 & sebetaX1 & sebetaX2 & sebetaX3\\\\\n",
       "  & <chr> & <dbl> & <dbl> & <dbl> & <dbl> & <dbl> & <dbl> & <dbl> & <dbl>\\\\\n",
       "\\hline\n",
       "\trs10132280 & rs10132280 & -0.0121 & 0.0122 & -0.0223 &  0.000656788 & -0.0374 & 0.0018 & 0.00147010 & 0.0079\\\\\n",
       "\trs1014283 & rs1014283  & -0.0186 & 0.0143 & -0.0006 & -0.014021900 &  0.0047 & 0.0021 & 0.00173527 & 0.0093\\\\\n",
       "\trs10182181 & rs10182181 & -0.0084 & 0.0110 & -0.0325 &  0.000158148 & -0.0086 & 0.0016 & 0.00134190 & 0.0072\\\\\n",
       "\trs10242866 & rs10242866 &  0.0099 & 0.0112 &  0.0014 & -0.010409400 & -0.0041 & 0.0018 & 0.00137157 & 0.0080\\\\\n",
       "\trs10247983 & rs10247983 & -0.0149 & 0.0210 &  0.0201 & -0.001411430 &  0.0253 & 0.0033 & 0.00253487 & 0.0150\\\\\n",
       "\trs10269783 & rs10269783 & -0.0014 & 0.0119 &  0.0133 &  0.001499760 &  0.0128 & 0.0017 & 0.00137910 & 0.0074\\\\\n",
       "\\end{tabular}\n"
      ],
      "text/markdown": [
       "\n",
       "A data.frame: 6 × 9\n",
       "\n",
       "| <!--/--> | SNP &lt;chr&gt; | betaYG &lt;dbl&gt; | sebetaYG &lt;dbl&gt; | betaX1 &lt;dbl&gt; | betaX2 &lt;dbl&gt; | betaX3 &lt;dbl&gt; | sebetaX1 &lt;dbl&gt; | sebetaX2 &lt;dbl&gt; | sebetaX3 &lt;dbl&gt; |\n",
       "|---|---|---|---|---|---|---|---|---|---|\n",
       "| rs10132280 | rs10132280 | -0.0121 | 0.0122 | -0.0223 |  0.000656788 | -0.0374 | 0.0018 | 0.00147010 | 0.0079 |\n",
       "| rs1014283 | rs1014283  | -0.0186 | 0.0143 | -0.0006 | -0.014021900 |  0.0047 | 0.0021 | 0.00173527 | 0.0093 |\n",
       "| rs10182181 | rs10182181 | -0.0084 | 0.0110 | -0.0325 |  0.000158148 | -0.0086 | 0.0016 | 0.00134190 | 0.0072 |\n",
       "| rs10242866 | rs10242866 |  0.0099 | 0.0112 |  0.0014 | -0.010409400 | -0.0041 | 0.0018 | 0.00137157 | 0.0080 |\n",
       "| rs10247983 | rs10247983 | -0.0149 | 0.0210 |  0.0201 | -0.001411430 |  0.0253 | 0.0033 | 0.00253487 | 0.0150 |\n",
       "| rs10269783 | rs10269783 | -0.0014 | 0.0119 |  0.0133 |  0.001499760 |  0.0128 | 0.0017 | 0.00137910 | 0.0074 |\n",
       "\n"
      ],
      "text/plain": [
       "           SNP        betaYG  sebetaYG betaX1  betaX2       betaX3  sebetaX1\n",
       "rs10132280 rs10132280 -0.0121 0.0122   -0.0223  0.000656788 -0.0374 0.0018  \n",
       "rs1014283  rs1014283  -0.0186 0.0143   -0.0006 -0.014021900  0.0047 0.0021  \n",
       "rs10182181 rs10182181 -0.0084 0.0110   -0.0325  0.000158148 -0.0086 0.0016  \n",
       "rs10242866 rs10242866  0.0099 0.0112    0.0014 -0.010409400 -0.0041 0.0018  \n",
       "rs10247983 rs10247983 -0.0149 0.0210    0.0201 -0.001411430  0.0253 0.0033  \n",
       "rs10269783 rs10269783 -0.0014 0.0119    0.0133  0.001499760  0.0128 0.0017  \n",
       "           sebetaX2   sebetaX3\n",
       "rs10132280 0.00147010 0.0079  \n",
       "rs1014283  0.00173527 0.0093  \n",
       "rs10182181 0.00134190 0.0072  \n",
       "rs10242866 0.00137157 0.0080  \n",
       "rs10247983 0.00253487 0.0150  \n",
       "rs10269783 0.00137910 0.0074  "
      ]
     },
     "metadata": {},
     "output_type": "display_data"
    }
   ],
   "source": [
    "head(mvmr_dat)"
   ]
  },
  {
   "cell_type": "code",
   "execution_count": 211,
   "id": "6906701e",
   "metadata": {
    "vscode": {
     "languageId": "r"
    }
   },
   "outputs": [
    {
     "data": {
      "text/html": [
       "<table class=\"dataframe\">\n",
       "<caption>A data.frame: 3 × 3</caption>\n",
       "<thead>\n",
       "\t<tr><th></th><th scope=col>trait1</th><th scope=col>trait2</th><th scope=col>trait3</th></tr>\n",
       "\t<tr><th></th><th scope=col>&lt;dbl&gt;</th><th scope=col>&lt;dbl&gt;</th><th scope=col>&lt;dbl&gt;</th></tr>\n",
       "</thead>\n",
       "<tbody>\n",
       "\t<tr><th scope=row>trait1</th><td> 1.00000000</td><td>-0.06933753</td><td> 0.5278856</td></tr>\n",
       "\t<tr><th scope=row>trait2</th><td>-0.06933753</td><td> 1.00000000</td><td>-0.1617912</td></tr>\n",
       "\t<tr><th scope=row>trait3</th><td> 0.52788562</td><td>-0.16179123</td><td> 1.0000000</td></tr>\n",
       "</tbody>\n",
       "</table>\n"
      ],
      "text/latex": [
       "A data.frame: 3 × 3\n",
       "\\begin{tabular}{r|lll}\n",
       "  & trait1 & trait2 & trait3\\\\\n",
       "  & <dbl> & <dbl> & <dbl>\\\\\n",
       "\\hline\n",
       "\ttrait1 &  1.00000000 & -0.06933753 &  0.5278856\\\\\n",
       "\ttrait2 & -0.06933753 &  1.00000000 & -0.1617912\\\\\n",
       "\ttrait3 &  0.52788562 & -0.16179123 &  1.0000000\\\\\n",
       "\\end{tabular}\n"
      ],
      "text/markdown": [
       "\n",
       "A data.frame: 3 × 3\n",
       "\n",
       "| <!--/--> | trait1 &lt;dbl&gt; | trait2 &lt;dbl&gt; | trait3 &lt;dbl&gt; |\n",
       "|---|---|---|---|\n",
       "| trait1 |  1.00000000 | -0.06933753 |  0.5278856 |\n",
       "| trait2 | -0.06933753 |  1.00000000 | -0.1617912 |\n",
       "| trait3 |  0.52788562 | -0.16179123 |  1.0000000 |\n",
       "\n"
      ],
      "text/plain": [
       "       trait1      trait2      trait3    \n",
       "trait1  1.00000000 -0.06933753  0.5278856\n",
       "trait2 -0.06933753  1.00000000 -0.1617912\n",
       "trait3  0.52788562 -0.16179123  1.0000000"
      ]
     },
     "metadata": {},
     "output_type": "display_data"
    }
   ],
   "source": [
    "S_YY"
   ]
  },
  {
   "cell_type": "code",
   "execution_count": 227,
   "id": "1443f739",
   "metadata": {
    "vscode": {
     "languageId": "r"
    }
   },
   "outputs": [
    {
     "data": {
      "image/png": "[encoded data removed]",
      "text/plain": [
       "Plot with title “”"
      ]
     },
     "metadata": {
      "image/png": {
       "height": 420,
       "width": 420
      }
     },
     "output_type": "display_data"
    }
   ],
   "source": [
    "library(corrplot)\n",
    "corrplot(as.matrix(S_YY), method = 'color', cl.pos = 'r', addCoef.col = 'black', tl.col = 'black', tl.srt = 45)"
   ]
  },
  {
   "cell_type": "code",
   "execution_count": 201,
   "id": "26d5236b",
   "metadata": {
    "vscode": {
     "languageId": "r"
    }
   },
   "outputs": [],
   "source": [
    "Xcovmat <- MVMR::phenocov_mvmr(Pcov = S_YY, seBXGs = mvmr_dat[, c('sebetaX1', 'sebetaX2', 'sebetaX3')]) %>%\n",
    "    lapply(FUN = as.matrix)"
   ]
  },
  {
   "cell_type": "code",
   "execution_count": 202,
   "id": "b0f5ecfa",
   "metadata": {
    "vscode": {
     "languageId": "r"
    }
   },
   "outputs": [
    {
     "name": "stdout",
     "output_type": "stream",
     "text": [
      "\n",
      "Conditional F-statistics for instrument strength\n",
      "\n",
      "            exposure1 exposure2 exposure3\n",
      "F-statistic  39.22337  61.84805  11.49867\n"
     ]
    },
    {
     "data": {
      "text/html": [
       "<table class=\"dataframe\">\n",
       "<caption>A data.frame: 1 × 3</caption>\n",
       "<thead>\n",
       "\t<tr><th></th><th scope=col>exposure1</th><th scope=col>exposure2</th><th scope=col>exposure3</th></tr>\n",
       "\t<tr><th></th><th scope=col>&lt;dbl&gt;</th><th scope=col>&lt;dbl&gt;</th><th scope=col>&lt;dbl&gt;</th></tr>\n",
       "</thead>\n",
       "<tbody>\n",
       "\t<tr><th scope=row>F-statistic</th><td>39.22337</td><td>61.84805</td><td>11.49867</td></tr>\n",
       "</tbody>\n",
       "</table>\n"
      ],
      "text/latex": [
       "A data.frame: 1 × 3\n",
       "\\begin{tabular}{r|lll}\n",
       "  & exposure1 & exposure2 & exposure3\\\\\n",
       "  & <dbl> & <dbl> & <dbl>\\\\\n",
       "\\hline\n",
       "\tF-statistic & 39.22337 & 61.84805 & 11.49867\\\\\n",
       "\\end{tabular}\n"
      ],
      "text/markdown": [
       "\n",
       "A data.frame: 1 × 3\n",
       "\n",
       "| <!--/--> | exposure1 &lt;dbl&gt; | exposure2 &lt;dbl&gt; | exposure3 &lt;dbl&gt; |\n",
       "|---|---|---|---|\n",
       "| F-statistic | 39.22337 | 61.84805 | 11.49867 |\n",
       "\n"
      ],
      "text/plain": [
       "            exposure1 exposure2 exposure3\n",
       "F-statistic 39.22337  61.84805  11.49867 "
      ]
     },
     "metadata": {},
     "output_type": "display_data"
    }
   ],
   "source": [
    "strength_mvmr(r_input = mvmr_dat, gencov = Xcovmat)"
   ]
  },
  {
   "cell_type": "code",
   "execution_count": 229,
   "id": "0cf7fcfa",
   "metadata": {
    "vscode": {
     "languageId": "r"
    }
   },
   "outputs": [
    {
     "name": "stdout",
     "output_type": "stream",
     "text": [
      "Q-Statistic for instrument validity:\n",
      "454.0461 on 319 DF , p-value: 9.569603e-07\n"
     ]
    }
   ],
   "source": [
    "pleiotropy_mvmr(r_input = mvmr_dat, gencov = Xcovmat)"
   ]
  },
  {
   "cell_type": "code",
   "execution_count": 231,
   "id": "e4b59ebf",
   "metadata": {
    "vscode": {
     "languageId": "r"
    }
   },
   "outputs": [
    {
     "data": {
      "text/html": [
       "<table class=\"dataframe\">\n",
       "<caption>A data.frame: 3 × 2</caption>\n",
       "<thead>\n",
       "\t<tr><th></th><th scope=col>id.exposure</th><th scope=col>exposure</th></tr>\n",
       "\t<tr><th></th><th scope=col>&lt;chr&gt;</th><th scope=col>&lt;chr&gt;</th></tr>\n",
       "</thead>\n",
       "<tbody>\n",
       "\t<tr><th scope=row>X1</th><td>30124842-GCST006900  </td><td>Body mass index || id:30124842-GCST006900    </td></tr>\n",
       "\t<tr><th scope=row>X2</th><td>34887591-GCST90239676</td><td>Total cholesterol || id:34887591-GCST90239676</td></tr>\n",
       "\t<tr><th scope=row>X3</th><td>ebi-a-GCST006867     </td><td>Type 2 diabetes || id:ebi-a-GCST006867       </td></tr>\n",
       "</tbody>\n",
       "</table>\n"
      ],
      "text/latex": [
       "A data.frame: 3 × 2\n",
       "\\begin{tabular}{r|ll}\n",
       "  & id.exposure & exposure\\\\\n",
       "  & <chr> & <chr>\\\\\n",
       "\\hline\n",
       "\tX1 & 30124842-GCST006900   & Body mass index \\textbar{}\\textbar{} id:30124842-GCST006900    \\\\\n",
       "\tX2 & 34887591-GCST90239676 & Total cholesterol \\textbar{}\\textbar{} id:34887591-GCST90239676\\\\\n",
       "\tX3 & ebi-a-GCST006867      & Type 2 diabetes \\textbar{}\\textbar{} id:ebi-a-GCST006867       \\\\\n",
       "\\end{tabular}\n"
      ],
      "text/markdown": [
       "\n",
       "A data.frame: 3 × 2\n",
       "\n",
       "| <!--/--> | id.exposure &lt;chr&gt; | exposure &lt;chr&gt; |\n",
       "|---|---|---|\n",
       "| X1 | 30124842-GCST006900   | Body mass index || id:30124842-GCST006900     |\n",
       "| X2 | 34887591-GCST90239676 | Total cholesterol || id:34887591-GCST90239676 |\n",
       "| X3 | ebi-a-GCST006867      | Type 2 diabetes || id:ebi-a-GCST006867        |\n",
       "\n"
      ],
      "text/plain": [
       "   id.exposure           exposure                                     \n",
       "X1 30124842-GCST006900   Body mass index || id:30124842-GCST006900    \n",
       "X2 34887591-GCST90239676 Total cholesterol || id:34887591-GCST90239676\n",
       "X3 ebi-a-GCST006867      Type 2 diabetes || id:ebi-a-GCST006867       "
      ]
     },
     "metadata": {},
     "output_type": "display_data"
    }
   ],
   "source": [
    "exp_names"
   ]
  },
  {
   "cell_type": "code",
   "execution_count": 230,
   "id": "841eb40e",
   "metadata": {
    "vscode": {
     "languageId": "r"
    }
   },
   "outputs": [
    {
     "name": "stderr",
     "output_type": "stream",
     "text": [
      "Warning message in ivw_mvmr(r_input = mvmr_dat):\n",
      "“Covariance between effect of genetic variants on each exposure not specified. Fixing covariance at 0.”\n"
     ]
    },
    {
     "name": "stdout",
     "output_type": "stream",
     "text": [
      "\n",
      "Multivariable MR\n",
      "\n",
      "             Estimate Std. Error    t value   Pr(>|t|)\n",
      "exposure1 -0.05041047 0.06436623 -0.7831820 0.43409949\n",
      "exposure2  0.14567659 0.06916936  2.1060856 0.03597548\n",
      "exposure3  0.02650007 0.03368047  0.7868082 0.43197647\n",
      "\n",
      "Residual standard error: 1.191 on 320 degrees of freedom\n",
      "\n",
      "\n"
     ]
    },
    {
     "data": {
      "text/html": [
       "<table class=\"dataframe\">\n",
       "<caption>A matrix: 3 × 4 of type dbl</caption>\n",
       "<thead>\n",
       "\t<tr><th></th><th scope=col>Estimate</th><th scope=col>Std. Error</th><th scope=col>t value</th><th scope=col>Pr(&gt;|t|)</th></tr>\n",
       "</thead>\n",
       "<tbody>\n",
       "\t<tr><th scope=row>exposure1</th><td>-0.05041047</td><td>0.06436623</td><td>-0.7831820</td><td>0.43409949</td></tr>\n",
       "\t<tr><th scope=row>exposure2</th><td> 0.14567659</td><td>0.06916936</td><td> 2.1060856</td><td>0.03597548</td></tr>\n",
       "\t<tr><th scope=row>exposure3</th><td> 0.02650007</td><td>0.03368047</td><td> 0.7868082</td><td>0.43197647</td></tr>\n",
       "</tbody>\n",
       "</table>\n"
      ],
      "text/latex": [
       "A matrix: 3 × 4 of type dbl\n",
       "\\begin{tabular}{r|llll}\n",
       "  & Estimate & Std. Error & t value & Pr(>\\textbar{}t\\textbar{})\\\\\n",
       "\\hline\n",
       "\texposure1 & -0.05041047 & 0.06436623 & -0.7831820 & 0.43409949\\\\\n",
       "\texposure2 &  0.14567659 & 0.06916936 &  2.1060856 & 0.03597548\\\\\n",
       "\texposure3 &  0.02650007 & 0.03368047 &  0.7868082 & 0.43197647\\\\\n",
       "\\end{tabular}\n"
      ],
      "text/markdown": [
       "\n",
       "A matrix: 3 × 4 of type dbl\n",
       "\n",
       "| <!--/--> | Estimate | Std. Error | t value | Pr(&gt;|t|) |\n",
       "|---|---|---|---|---|\n",
       "| exposure1 | -0.05041047 | 0.06436623 | -0.7831820 | 0.43409949 |\n",
       "| exposure2 |  0.14567659 | 0.06916936 |  2.1060856 | 0.03597548 |\n",
       "| exposure3 |  0.02650007 | 0.03368047 |  0.7868082 | 0.43197647 |\n",
       "\n"
      ],
      "text/plain": [
       "          Estimate    Std. Error t value    Pr(>|t|)  \n",
       "exposure1 -0.05041047 0.06436623 -0.7831820 0.43409949\n",
       "exposure2  0.14567659 0.06916936  2.1060856 0.03597548\n",
       "exposure3  0.02650007 0.03368047  0.7868082 0.43197647"
      ]
     },
     "metadata": {},
     "output_type": "display_data"
    }
   ],
   "source": [
    "ivw_mvmr(r_input = mvmr_dat)"
   ]
  },
  {
   "cell_type": "code",
   "execution_count": 232,
   "id": "324fc82d",
   "metadata": {
    "vscode": {
     "languageId": "r"
    }
   },
   "outputs": [
    {
     "name": "stderr",
     "output_type": "stream",
     "text": [
      "Warning message in qhet_mvmr(r_input = mvmr_dat, pcor = S_YY, CI = FALSE, iterations = 100):\n",
      "“qhet_mvmr() is currently undergoing development.”\n"
     ]
    },
    {
     "data": {
      "text/html": [
       "<table class=\"dataframe\">\n",
       "<caption>A data.frame: 3 × 1</caption>\n",
       "<thead>\n",
       "\t<tr><th></th><th scope=col>Effect Estimates</th></tr>\n",
       "\t<tr><th></th><th scope=col>&lt;dbl&gt;</th></tr>\n",
       "</thead>\n",
       "<tbody>\n",
       "\t<tr><th scope=row>Exposure 1</th><td>-0.05199349</td></tr>\n",
       "\t<tr><th scope=row>Exposure 2</th><td> 0.20556080</td></tr>\n",
       "\t<tr><th scope=row>Exposure 3</th><td> 0.02389919</td></tr>\n",
       "</tbody>\n",
       "</table>\n"
      ],
      "text/latex": [
       "A data.frame: 3 × 1\n",
       "\\begin{tabular}{r|l}\n",
       "  & Effect Estimates\\\\\n",
       "  & <dbl>\\\\\n",
       "\\hline\n",
       "\tExposure 1 & -0.05199349\\\\\n",
       "\tExposure 2 &  0.20556080\\\\\n",
       "\tExposure 3 &  0.02389919\\\\\n",
       "\\end{tabular}\n"
      ],
      "text/markdown": [
       "\n",
       "A data.frame: 3 × 1\n",
       "\n",
       "| <!--/--> | Effect Estimates &lt;dbl&gt; |\n",
       "|---|---|\n",
       "| Exposure 1 | -0.05199349 |\n",
       "| Exposure 2 |  0.20556080 |\n",
       "| Exposure 3 |  0.02389919 |\n",
       "\n"
      ],
      "text/plain": [
       "           Effect Estimates\n",
       "Exposure 1 -0.05199349     \n",
       "Exposure 2  0.20556080     \n",
       "Exposure 3  0.02389919     "
      ]
     },
     "metadata": {},
     "output_type": "display_data"
    }
   ],
   "source": [
    "qhet_mvmr(r_input = mvmr_dat, pcor = S_YY, CI = TRUE, iterations = 100)"
   ]
  },
  {
   "cell_type": "code",
   "execution_count": 253,
   "id": "8293ba67",
   "metadata": {
    "vscode": {
     "languageId": "r"
    }
   },
   "outputs": [
    {
     "data": {
      "text/plain": [
       "\n",
       "Multivariable MR-Egger method\n",
       "(variants uncorrelated, random-effect model)\n",
       "\n",
       "Orientated to exposure : 1 \n",
       "Number of Variants : 323 \n",
       "------------------------------------------------------------------\n",
       "    Exposure Estimate Std Error  95% CI        p-value\n",
       "  exposure_1   -0.211     0.105 -0.416, -0.006   0.044\n",
       "  exposure_2    0.164     0.069  0.027,  0.300   0.019\n",
       "  exposure_3    0.035     0.034 -0.031,  0.101   0.301\n",
       " (intercept)    0.003     0.001  0.000,  0.006   0.052\n",
       "------------------------------------------------------------------\n",
       "Residual standard error =  1.186 \n",
       "Heterogeneity test statistic = 448.9604 on 319 degrees of freedom, (p-value = 0.0000)"
      ]
     },
     "metadata": {},
     "output_type": "display_data"
    }
   ],
   "source": [
    "mr_mvegger(object = mr_mvinput(bx = mv_dat$exposure_beta, \n",
    "                                bxse = mv_dat$exposure_se,\n",
    "                                by = mv_dat$outcome_beta,\n",
    "                                byse = mv_dat$outcome_se),\n",
    "            orientate = 1,\n",
    "            correl = FALSE,\n",
    "            distribution = \"normal\",\n",
    "            alpha = 0.05)"
   ]
  },
  {
   "cell_type": "markdown",
   "id": "68bab535",
   "metadata": {},
   "source": [
    "### Estimating phenotypic correlation"
   ]
  },
  {
   "cell_type": "code",
   "execution_count": 156,
   "id": "6cf0a035",
   "metadata": {
    "vscode": {
     "languageId": "r"
    }
   },
   "outputs": [],
   "source": [
    "b <- dat_als$mv_dat$exposure_beta\n",
    "se <- dat_als$mv_dat$exposure_se\n",
    "rsid = attributes(mv_dat$exposure_beta)$dimnames[[1]]"
   ]
  },
  {
   "cell_type": "code",
   "execution_count": 149,
   "id": "4333e028",
   "metadata": {
    "vscode": {
     "languageId": "r"
    }
   },
   "outputs": [
    {
     "data": {
      "text/html": [
       "<table class=\"dataframe\">\n",
       "<caption>A data.frame: 6 × 2</caption>\n",
       "<thead>\n",
       "\t<tr><th></th><th scope=col>allele_0</th><th scope=col>allele_1</th></tr>\n",
       "\t<tr><th></th><th scope=col>&lt;chr&gt;</th><th scope=col>&lt;chr&gt;</th></tr>\n",
       "</thead>\n",
       "<tbody>\n",
       "\t<tr><th scope=row>rs10132280</th><td>A</td><td>C</td></tr>\n",
       "\t<tr><th scope=row>rs10182181</th><td>A</td><td>G</td></tr>\n",
       "\t<tr><th scope=row>rs10247983</th><td>A</td><td>G</td></tr>\n",
       "\t<tr><th scope=row>rs10269783</th><td>A</td><td>G</td></tr>\n",
       "\t<tr><th scope=row>rs10478110</th><td>A</td><td>C</td></tr>\n",
       "\t<tr><th scope=row>rs10733051</th><td>A</td><td>G</td></tr>\n",
       "</tbody>\n",
       "</table>\n"
      ],
      "text/latex": [
       "A data.frame: 6 × 2\n",
       "\\begin{tabular}{r|ll}\n",
       "  & allele\\_0 & allele\\_1\\\\\n",
       "  & <chr> & <chr>\\\\\n",
       "\\hline\n",
       "\trs10132280 & A & C\\\\\n",
       "\trs10182181 & A & G\\\\\n",
       "\trs10247983 & A & G\\\\\n",
       "\trs10269783 & A & G\\\\\n",
       "\trs10478110 & A & C\\\\\n",
       "\trs10733051 & A & G\\\\\n",
       "\\end{tabular}\n"
      ],
      "text/markdown": [
       "\n",
       "A data.frame: 6 × 2\n",
       "\n",
       "| <!--/--> | allele_0 &lt;chr&gt; | allele_1 &lt;chr&gt; |\n",
       "|---|---|---|\n",
       "| rs10132280 | A | C |\n",
       "| rs10182181 | A | G |\n",
       "| rs10247983 | A | G |\n",
       "| rs10269783 | A | G |\n",
       "| rs10478110 | A | C |\n",
       "| rs10733051 | A | G |\n",
       "\n"
      ],
      "text/plain": [
       "           allele_0 allele_1\n",
       "rs10132280 A        C       \n",
       "rs10182181 A        G       \n",
       "rs10247983 A        G       \n",
       "rs10269783 A        G       \n",
       "rs10478110 A        C       \n",
       "rs10733051 A        G       "
      ]
     },
     "metadata": {},
     "output_type": "display_data"
    }
   ],
   "source": [
    "allele_dat <- unique(bind_rows(lapply(dat_als$uv_dat, function(df) {\n",
    "    id <- df$id.exposure[1]\n",
    "    # Extract SNP data selected in MV analysis\n",
    "    df <- df[,c(\"SNP\", \"effect_allele.exposure\", \"other_allele.exposure\", \"beta.exposure\")] %>%\n",
    "        filter(SNP %in% rsid)\n",
    "    beta_mv <- b[rownames(b) %in% df$SNP, id]\n",
    "    # Check if alleles need to be flipped\n",
    "    df$flip <- (df$beta.exposure * beta_mv) < 0\n",
    "    # Swap alleles if necessary\n",
    "    df %>%\n",
    "        mutate(effect_allele.exposure_new = ifelse(flip, other_allele.exposure, effect_allele.exposure),\n",
    "               other_allele.exposure = ifelse(flip, effect_allele.exposure, other_allele.exposure),\n",
    "               effect_allele.exposure = effect_allele.exposure_new) %>%\n",
    "        select(-effect_allele.exposure_new, -beta.exposure, -flip)\n",
    "    })))\n",
    "rownames(allele_dat) <- allele_dat$SNP\n",
    "allele_dat$SNP <- NULL\n",
    "colnames(allele_dat) <- c(\"allele_0\", \"allele_1\")\n",
    "head(allele_dat)"
   ]
  },
  {
   "cell_type": "code",
   "execution_count": 157,
   "id": "996734c8",
   "metadata": {
    "vscode": {
     "languageId": "r"
    }
   },
   "outputs": [
    {
     "data": {
      "text/html": [
       "<table class=\"dataframe\">\n",
       "<caption>A matrix: 6 × 3 of type dbl</caption>\n",
       "<thead>\n",
       "\t<tr><th></th><th scope=col>trait1_b</th><th scope=col>trait2_b</th><th scope=col>trait3_b</th></tr>\n",
       "</thead>\n",
       "<tbody>\n",
       "\t<tr><th scope=row>rs10132280</th><td>-0.0223</td><td> 0.000656788</td><td>-0.0374</td></tr>\n",
       "\t<tr><th scope=row>rs1014283</th><td>-0.0006</td><td>-0.014021900</td><td> 0.0047</td></tr>\n",
       "\t<tr><th scope=row>rs10182181</th><td>-0.0325</td><td> 0.000158148</td><td>-0.0086</td></tr>\n",
       "\t<tr><th scope=row>rs10242866</th><td> 0.0014</td><td>-0.010409400</td><td>-0.0041</td></tr>\n",
       "\t<tr><th scope=row>rs10247983</th><td> 0.0201</td><td>-0.001411430</td><td> 0.0253</td></tr>\n",
       "\t<tr><th scope=row>rs10269783</th><td> 0.0133</td><td> 0.001499760</td><td> 0.0128</td></tr>\n",
       "</tbody>\n",
       "</table>\n"
      ],
      "text/latex": [
       "A matrix: 6 × 3 of type dbl\n",
       "\\begin{tabular}{r|lll}\n",
       "  & trait1\\_b & trait2\\_b & trait3\\_b\\\\\n",
       "\\hline\n",
       "\trs10132280 & -0.0223 &  0.000656788 & -0.0374\\\\\n",
       "\trs1014283 & -0.0006 & -0.014021900 &  0.0047\\\\\n",
       "\trs10182181 & -0.0325 &  0.000158148 & -0.0086\\\\\n",
       "\trs10242866 &  0.0014 & -0.010409400 & -0.0041\\\\\n",
       "\trs10247983 &  0.0201 & -0.001411430 &  0.0253\\\\\n",
       "\trs10269783 &  0.0133 &  0.001499760 &  0.0128\\\\\n",
       "\\end{tabular}\n"
      ],
      "text/markdown": [
       "\n",
       "A matrix: 6 × 3 of type dbl\n",
       "\n",
       "| <!--/--> | trait1_b | trait2_b | trait3_b |\n",
       "|---|---|---|---|\n",
       "| rs10132280 | -0.0223 |  0.000656788 | -0.0374 |\n",
       "| rs1014283 | -0.0006 | -0.014021900 |  0.0047 |\n",
       "| rs10182181 | -0.0325 |  0.000158148 | -0.0086 |\n",
       "| rs10242866 |  0.0014 | -0.010409400 | -0.0041 |\n",
       "| rs10247983 |  0.0201 | -0.001411430 |  0.0253 |\n",
       "| rs10269783 |  0.0133 |  0.001499760 |  0.0128 |\n",
       "\n"
      ],
      "text/plain": [
       "           trait1_b trait2_b     trait3_b\n",
       "rs10132280 -0.0223   0.000656788 -0.0374 \n",
       "rs1014283  -0.0006  -0.014021900  0.0047 \n",
       "rs10182181 -0.0325   0.000158148 -0.0086 \n",
       "rs10242866  0.0014  -0.010409400 -0.0041 \n",
       "rs10247983  0.0201  -0.001411430  0.0253 \n",
       "rs10269783  0.0133   0.001499760  0.0128 "
      ]
     },
     "metadata": {},
     "output_type": "display_data"
    },
    {
     "data": {
      "text/html": [
       "<table class=\"dataframe\">\n",
       "<caption>A matrix: 6 × 3 of type dbl</caption>\n",
       "<thead>\n",
       "\t<tr><th></th><th scope=col>trait1_se</th><th scope=col>trait2_se</th><th scope=col>trait3_se</th></tr>\n",
       "</thead>\n",
       "<tbody>\n",
       "\t<tr><th scope=row>rs10132280</th><td>0.0018</td><td>0.00147010</td><td>0.0079</td></tr>\n",
       "\t<tr><th scope=row>rs1014283</th><td>0.0021</td><td>0.00173527</td><td>0.0093</td></tr>\n",
       "\t<tr><th scope=row>rs10182181</th><td>0.0016</td><td>0.00134190</td><td>0.0072</td></tr>\n",
       "\t<tr><th scope=row>rs10242866</th><td>0.0018</td><td>0.00137157</td><td>0.0080</td></tr>\n",
       "\t<tr><th scope=row>rs10247983</th><td>0.0033</td><td>0.00253487</td><td>0.0150</td></tr>\n",
       "\t<tr><th scope=row>rs10269783</th><td>0.0017</td><td>0.00137910</td><td>0.0074</td></tr>\n",
       "</tbody>\n",
       "</table>\n"
      ],
      "text/latex": [
       "A matrix: 6 × 3 of type dbl\n",
       "\\begin{tabular}{r|lll}\n",
       "  & trait1\\_se & trait2\\_se & trait3\\_se\\\\\n",
       "\\hline\n",
       "\trs10132280 & 0.0018 & 0.00147010 & 0.0079\\\\\n",
       "\trs1014283 & 0.0021 & 0.00173527 & 0.0093\\\\\n",
       "\trs10182181 & 0.0016 & 0.00134190 & 0.0072\\\\\n",
       "\trs10242866 & 0.0018 & 0.00137157 & 0.0080\\\\\n",
       "\trs10247983 & 0.0033 & 0.00253487 & 0.0150\\\\\n",
       "\trs10269783 & 0.0017 & 0.00137910 & 0.0074\\\\\n",
       "\\end{tabular}\n"
      ],
      "text/markdown": [
       "\n",
       "A matrix: 6 × 3 of type dbl\n",
       "\n",
       "| <!--/--> | trait1_se | trait2_se | trait3_se |\n",
       "|---|---|---|---|\n",
       "| rs10132280 | 0.0018 | 0.00147010 | 0.0079 |\n",
       "| rs1014283 | 0.0021 | 0.00173527 | 0.0093 |\n",
       "| rs10182181 | 0.0016 | 0.00134190 | 0.0072 |\n",
       "| rs10242866 | 0.0018 | 0.00137157 | 0.0080 |\n",
       "| rs10247983 | 0.0033 | 0.00253487 | 0.0150 |\n",
       "| rs10269783 | 0.0017 | 0.00137910 | 0.0074 |\n",
       "\n"
      ],
      "text/plain": [
       "           trait1_se trait2_se  trait3_se\n",
       "rs10132280 0.0018    0.00147010 0.0079   \n",
       "rs1014283  0.0021    0.00173527 0.0093   \n",
       "rs10182181 0.0016    0.00134190 0.0072   \n",
       "rs10242866 0.0018    0.00137157 0.0080   \n",
       "rs10247983 0.0033    0.00253487 0.0150   \n",
       "rs10269783 0.0017    0.00137910 0.0074   "
      ]
     },
     "metadata": {},
     "output_type": "display_data"
    }
   ],
   "source": [
    "trait_correspondance <- c('trait1' = '30124842-GCST006900', 'trait2' = '34887591-GCST90239676', 'trait3' = 'ebi-a-GCST006867')\n",
    "colnames(b) <- lapply(1:dim(b)[2], function(i) paste0(\"trait\", i, '_b'))\n",
    "colnames(se) <- lapply(1:dim(b)[2], function(i) paste0(\"trait\", i, '_se'))\n",
    "head(b)\n",
    "head(se)"
   ]
  },
  {
   "cell_type": "code",
   "execution_count": 167,
   "id": "ec8e894b",
   "metadata": {
    "vscode": {
     "languageId": "r"
    }
   },
   "outputs": [],
   "source": [
    "# Create a new data frame by interleaving columns of b and se\n",
    "interleaved_df <- data.frame(matrix(ncol = 2 * ncol(b), nrow = nrow(b)))\n",
    "\n",
    "# Assign column names\n",
    "colnames(interleaved_df) <- as.vector(rbind(colnames(b), colnames(se)))\n",
    "\n",
    "# Fill the interleaved data frame\n",
    "for (i in 1:ncol(b)) {\n",
    "    interleaved_df[, 2 * i - 1] <- b[, i]\n",
    "    interleaved_df[, 2 * i] <- se[, i]\n",
    "}"
   ]
  },
  {
   "cell_type": "code",
   "execution_count": 168,
   "id": "8f8d354d",
   "metadata": {
    "vscode": {
     "languageId": "r"
    }
   },
   "outputs": [],
   "source": [
    "S_XY <- bind_cols(allele_dat, interleaved_df)\n",
    "S_XY$allele_0 <- as.factor(S_XY$allele_0)\n",
    "S_XY$allele_1 <- as.factor(S_XY$allele_1)"
   ]
  },
  {
   "cell_type": "code",
   "execution_count": 169,
   "id": "229ff804",
   "metadata": {
    "vscode": {
     "languageId": "r"
    }
   },
   "outputs": [
    {
     "data": {
      "text/html": [
       "<table class=\"dataframe\">\n",
       "<caption>A data.frame: 6 × 8</caption>\n",
       "<thead>\n",
       "\t<tr><th></th><th scope=col>allele_0</th><th scope=col>allele_1</th><th scope=col>trait1_b</th><th scope=col>trait1_se</th><th scope=col>trait2_b</th><th scope=col>trait2_se</th><th scope=col>trait3_b</th><th scope=col>trait3_se</th></tr>\n",
       "\t<tr><th></th><th scope=col>&lt;fct&gt;</th><th scope=col>&lt;fct&gt;</th><th scope=col>&lt;dbl&gt;</th><th scope=col>&lt;dbl&gt;</th><th scope=col>&lt;dbl&gt;</th><th scope=col>&lt;dbl&gt;</th><th scope=col>&lt;dbl&gt;</th><th scope=col>&lt;dbl&gt;</th></tr>\n",
       "</thead>\n",
       "<tbody>\n",
       "\t<tr><th scope=row>rs10132280</th><td>A</td><td>C</td><td>-0.0223</td><td>0.0018</td><td> 0.000656788</td><td>0.00147010</td><td>-0.0374</td><td>0.0079</td></tr>\n",
       "\t<tr><th scope=row>rs10182181</th><td>A</td><td>G</td><td>-0.0006</td><td>0.0021</td><td>-0.014021900</td><td>0.00173527</td><td> 0.0047</td><td>0.0093</td></tr>\n",
       "\t<tr><th scope=row>rs10247983</th><td>A</td><td>G</td><td>-0.0325</td><td>0.0016</td><td> 0.000158148</td><td>0.00134190</td><td>-0.0086</td><td>0.0072</td></tr>\n",
       "\t<tr><th scope=row>rs10269783</th><td>A</td><td>G</td><td> 0.0014</td><td>0.0018</td><td>-0.010409400</td><td>0.00137157</td><td>-0.0041</td><td>0.0080</td></tr>\n",
       "\t<tr><th scope=row>rs10478110</th><td>A</td><td>C</td><td> 0.0201</td><td>0.0033</td><td>-0.001411430</td><td>0.00253487</td><td> 0.0253</td><td>0.0150</td></tr>\n",
       "\t<tr><th scope=row>rs10733051</th><td>A</td><td>G</td><td> 0.0133</td><td>0.0017</td><td> 0.001499760</td><td>0.00137910</td><td> 0.0128</td><td>0.0074</td></tr>\n",
       "</tbody>\n",
       "</table>\n"
      ],
      "text/latex": [
       "A data.frame: 6 × 8\n",
       "\\begin{tabular}{r|llllllll}\n",
       "  & allele\\_0 & allele\\_1 & trait1\\_b & trait1\\_se & trait2\\_b & trait2\\_se & trait3\\_b & trait3\\_se\\\\\n",
       "  & <fct> & <fct> & <dbl> & <dbl> & <dbl> & <dbl> & <dbl> & <dbl>\\\\\n",
       "\\hline\n",
       "\trs10132280 & A & C & -0.0223 & 0.0018 &  0.000656788 & 0.00147010 & -0.0374 & 0.0079\\\\\n",
       "\trs10182181 & A & G & -0.0006 & 0.0021 & -0.014021900 & 0.00173527 &  0.0047 & 0.0093\\\\\n",
       "\trs10247983 & A & G & -0.0325 & 0.0016 &  0.000158148 & 0.00134190 & -0.0086 & 0.0072\\\\\n",
       "\trs10269783 & A & G &  0.0014 & 0.0018 & -0.010409400 & 0.00137157 & -0.0041 & 0.0080\\\\\n",
       "\trs10478110 & A & C &  0.0201 & 0.0033 & -0.001411430 & 0.00253487 &  0.0253 & 0.0150\\\\\n",
       "\trs10733051 & A & G &  0.0133 & 0.0017 &  0.001499760 & 0.00137910 &  0.0128 & 0.0074\\\\\n",
       "\\end{tabular}\n"
      ],
      "text/markdown": [
       "\n",
       "A data.frame: 6 × 8\n",
       "\n",
       "| <!--/--> | allele_0 &lt;fct&gt; | allele_1 &lt;fct&gt; | trait1_b &lt;dbl&gt; | trait1_se &lt;dbl&gt; | trait2_b &lt;dbl&gt; | trait2_se &lt;dbl&gt; | trait3_b &lt;dbl&gt; | trait3_se &lt;dbl&gt; |\n",
       "|---|---|---|---|---|---|---|---|---|\n",
       "| rs10132280 | A | C | -0.0223 | 0.0018 |  0.000656788 | 0.00147010 | -0.0374 | 0.0079 |\n",
       "| rs10182181 | A | G | -0.0006 | 0.0021 | -0.014021900 | 0.00173527 |  0.0047 | 0.0093 |\n",
       "| rs10247983 | A | G | -0.0325 | 0.0016 |  0.000158148 | 0.00134190 | -0.0086 | 0.0072 |\n",
       "| rs10269783 | A | G |  0.0014 | 0.0018 | -0.010409400 | 0.00137157 | -0.0041 | 0.0080 |\n",
       "| rs10478110 | A | C |  0.0201 | 0.0033 | -0.001411430 | 0.00253487 |  0.0253 | 0.0150 |\n",
       "| rs10733051 | A | G |  0.0133 | 0.0017 |  0.001499760 | 0.00137910 |  0.0128 | 0.0074 |\n",
       "\n"
      ],
      "text/plain": [
       "           allele_0 allele_1 trait1_b trait1_se trait2_b     trait2_se \n",
       "rs10132280 A        C        -0.0223  0.0018     0.000656788 0.00147010\n",
       "rs10182181 A        G        -0.0006  0.0021    -0.014021900 0.00173527\n",
       "rs10247983 A        G        -0.0325  0.0016     0.000158148 0.00134190\n",
       "rs10269783 A        G         0.0014  0.0018    -0.010409400 0.00137157\n",
       "rs10478110 A        C         0.0201  0.0033    -0.001411430 0.00253487\n",
       "rs10733051 A        G         0.0133  0.0017     0.001499760 0.00137910\n",
       "           trait3_b trait3_se\n",
       "rs10132280 -0.0374  0.0079   \n",
       "rs10182181  0.0047  0.0093   \n",
       "rs10247983 -0.0086  0.0072   \n",
       "rs10269783 -0.0041  0.0080   \n",
       "rs10478110  0.0253  0.0150   \n",
       "rs10733051  0.0128  0.0074   "
      ]
     },
     "metadata": {},
     "output_type": "display_data"
    }
   ],
   "source": [
    "head(S_XY)"
   ]
  },
  {
   "cell_type": "code",
   "execution_count": 170,
   "id": "3dd90537",
   "metadata": {
    "vscode": {
     "languageId": "r"
    }
   },
   "outputs": [
    {
     "data": {
      "text/html": [
       "<table class=\"dataframe\">\n",
       "<caption>A matrix: 3 × 3 of type dbl</caption>\n",
       "<thead>\n",
       "\t<tr><th></th><th scope=col>trait1</th><th scope=col>trait2</th><th scope=col>trait3</th></tr>\n",
       "</thead>\n",
       "<tbody>\n",
       "\t<tr><th scope=row>trait1</th><td> 1.00000000</td><td>-0.06933753</td><td> 0.5278856</td></tr>\n",
       "\t<tr><th scope=row>trait2</th><td>-0.06933753</td><td> 1.00000000</td><td>-0.1617912</td></tr>\n",
       "\t<tr><th scope=row>trait3</th><td> 0.52788562</td><td>-0.16179123</td><td> 1.0000000</td></tr>\n",
       "</tbody>\n",
       "</table>\n"
      ],
      "text/latex": [
       "A matrix: 3 × 3 of type dbl\n",
       "\\begin{tabular}{r|lll}\n",
       "  & trait1 & trait2 & trait3\\\\\n",
       "\\hline\n",
       "\ttrait1 &  1.00000000 & -0.06933753 &  0.5278856\\\\\n",
       "\ttrait2 & -0.06933753 &  1.00000000 & -0.1617912\\\\\n",
       "\ttrait3 &  0.52788562 & -0.16179123 &  1.0000000\\\\\n",
       "\\end{tabular}\n"
      ],
      "text/markdown": [
       "\n",
       "A matrix: 3 × 3 of type dbl\n",
       "\n",
       "| <!--/--> | trait1 | trait2 | trait3 |\n",
       "|---|---|---|---|\n",
       "| trait1 |  1.00000000 | -0.06933753 |  0.5278856 |\n",
       "| trait2 | -0.06933753 |  1.00000000 | -0.1617912 |\n",
       "| trait3 |  0.52788562 | -0.16179123 |  1.0000000 |\n",
       "\n"
      ],
      "text/plain": [
       "       trait1      trait2      trait3    \n",
       "trait1  1.00000000 -0.06933753  0.5278856\n",
       "trait2 -0.06933753  1.00000000 -0.1617912\n",
       "trait3  0.52788562 -0.16179123  1.0000000"
      ]
     },
     "metadata": {},
     "output_type": "display_data"
    }
   ],
   "source": [
    "##estimate phenotypic correlation matrix using metaCCA \n",
    "S_YY <- estimateSyy(S_XY = S_XY)\n",
    "head(S_YY)"
   ]
  },
  {
   "cell_type": "code",
   "execution_count": 172,
   "id": "74052428",
   "metadata": {
    "vscode": {
     "languageId": "r"
    }
   },
   "outputs": [],
   "source": [
    "out_ntests <-\"out_ntests.txt\"\n",
    "S_YY<-as.data.frame(S_YY)\n",
    "SpD(phenocorr=S_YY, out=out_ntests)"
   ]
  }
 ],
 "metadata": {
  "kernelspec": {
   "display_name": "R",
   "language": "R",
   "name": "ir"
  },
  "language_info": {
   "codemirror_mode": "r",
   "file_extension": ".r",
   "mimetype": "text/x-r-source",
   "name": "R",
   "pygments_lexer": "r",
   "version": "4.3.3"
  }
 },
 "nbformat": 4,
 "nbformat_minor": 5
}
